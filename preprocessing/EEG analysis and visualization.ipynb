{
 "cells": [
  {
   "cell_type": "code",
   "execution_count": 2,
   "metadata": {},
   "outputs": [],
   "source": [
    "import os\n",
    "import numpy as np\n",
    "import pandas as pd\n",
    "import matplotlib.pyplot as plt\n",
    "from datetime import datetime\n",
    "import ntpath\n",
    "\n",
    "import mne\n",
    "from mne import Epochs, pick_types, find_events, pick_types, set_eeg_reference\n",
    "from mne.channels import read_layout\n",
    "from mne.io import concatenate_raws, read_raw_edf\n",
    "from mne.datasets import eegbci\n",
    "from mne.decoding import CSP\n",
    "from mne import viz\n",
    "\n",
    "import dhedfreader\n",
    "\n",
    "%matplotlib inline "
   ]
  },
  {
   "cell_type": "code",
   "execution_count": 3,
   "metadata": {},
   "outputs": [],
   "source": [
    "ann2label = {\n",
    "    \"Sleep stage W\": 0,\n",
    "    \"Sleep stage 1\": 1,\n",
    "    \"Sleep stage 2\": 2,\n",
    "    \"Sleep stage 3\": 3,\n",
    "    \"Sleep stage 4\": 3,\n",
    "    \"Sleep stage R\": 4,\n",
    "    \"Sleep stage ?\": 5,\n",
    "    \"Movement time\": 5\n",
    "}\n",
    "# Label values\n",
    "W = 0\n",
    "N1 = 1\n",
    "N2 = 2\n",
    "N3 = 3\n",
    "REM = 4\n",
    "UNKNOWN = 5\n",
    "\n",
    "sampling_rate = 100.0\n",
    "EPOCH_SEC_SIZE = 30"
   ]
  },
  {
   "cell_type": "code",
   "execution_count": 2,
   "metadata": {},
   "outputs": [
    {
     "name": "stdout",
     "output_type": "stream",
     "text": [
      "Number of PSG files used in analysis:       39 files\n",
      "Number of hypnogram files used in analysis: 39 files\n"
     ]
    }
   ],
   "source": [
    "data_path = r'E:/data_2013'\n",
    "# single subject\n",
    "data_files = os.listdir(data_path)\n",
    "\n",
    "edf_data_files = [i for i in data_files if \"Hypnogram\" not in i]\n",
    "hyp_data_files = [i for i in data_files if \"Hypnogram\" in i]\n",
    "\n",
    "\n",
    "\n",
    "print(f\"Number of PSG files used in analysis:       {len(edf_data_files)} files\")\n",
    "print(f\"Number of hypnogram files used in analysis: {len(edf_data_files)} files\")"
   ]
  },
  {
   "cell_type": "code",
   "execution_count": 3,
   "metadata": {},
   "outputs": [
    {
     "data": {
      "text/plain": [
       "<RawEDF  |  SC4051E0-PSG.edf, n_channels x n_times : 7 x 8166000 (81660.0 sec), ~436.1 MB, data loaded>"
      ]
     },
     "execution_count": 3,
     "metadata": {},
     "output_type": "execute_result"
    }
   ],
   "source": [
    "# We use mne.read_raw_edf to read in the .edf EEG files\n",
    "raw = read_raw_edf(psg_files_path, preload=True, stim_channel=None, verbose=False)\n",
    "raw"
   ]
  },
  {
   "cell_type": "code",
   "execution_count": 51,
   "metadata": {},
   "outputs": [],
   "source": [
    "class_duration = {0:0,1:0,2:0,3:0,4:0}\n",
    "\n",
    "for i in range(len(edf_data_files)):\n",
    "#     psg_files_path = os.path.join(data_path, edf_data_files[i])\n",
    "    hyp_files_path = os.path.join(data_path, hyp_data_files[i])\n",
    "    \n",
    "    # Read annotation and its header\n",
    "    f = open(hyp_files_path, 'r', errors='ignore')\n",
    "    reader_ann = dhedfreader.BaseEDFReader(f)\n",
    "    reader_ann.read_header()\n",
    "    h_ann = reader_ann.header\n",
    "    _, _, ann = zip(*reader_ann.records())\n",
    "    f.close()\n",
    "    ann_start_dt = datetime.strptime(h_ann['date_time'], \"%Y-%m-%d %H:%M:%S\")\n",
    "\n",
    "    file_duration_in_sec = ann[0][len(ann[0])-1][0] + ann[0][len(ann[0])-1][1]\n",
    "    \n",
    "    # Generate label and remove indices\n",
    "\n",
    "    for a in ann[0]:\n",
    "        onset_sec, duration_sec, ann_char = a\n",
    "        ann_str = ann_char[0][2:-1]\n",
    "        label = ann2label[ann_str]\n",
    "        if label != UNKNOWN:\n",
    "            if duration_sec % EPOCH_SEC_SIZE != 0:\n",
    "                raise Exception(\"Something wrong\")\n",
    "            class_duration[label] += duration_sec\n"
   ]
  },
  {
   "cell_type": "code",
   "execution_count": 52,
   "metadata": {},
   "outputs": [
    {
     "data": {
      "text/plain": [
       "{0: 2171730.0, 1: 84120.0, 2: 533970.0, 3: 171090.0, 4: 231510.0}"
      ]
     },
     "execution_count": 52,
     "metadata": {},
     "output_type": "execute_result"
    }
   ],
   "source": [
    "class_duration"
   ]
  },
  {
   "cell_type": "code",
   "execution_count": 6,
   "metadata": {},
   "outputs": [
    {
     "data": {
      "text/plain": [
       "86400.0"
      ]
     },
     "execution_count": 6,
     "metadata": {},
     "output_type": "execute_result"
    }
   ],
   "source": [
    "file_length_in_sec = (ann[0][len(ann[0])-1][0] + ann[0][len(ann[0])-1][1])"
   ]
  },
  {
   "cell_type": "code",
   "execution_count": 7,
   "metadata": {},
   "outputs": [
    {
     "data": {
      "text/plain": [
       "{0: 67740.0, 1: 1320.0, 2: 6510.0, 3: 4050.0, 4: 2040.0}"
      ]
     },
     "execution_count": 7,
     "metadata": {},
     "output_type": "execute_result"
    }
   ],
   "source": [
    "class_duration"
   ]
  },
  {
   "cell_type": "code",
   "execution_count": 8,
   "metadata": {},
   "outputs": [
    {
     "data": {
      "text/html": [
       "\n",
       "    <div class=\"bk-root\">\n",
       "        <a href=\"https://bokeh.pydata.org\" target=\"_blank\" class=\"bk-logo bk-logo-small bk-logo-notebook\"></a>\n",
       "        <span id=\"1001\">Loading BokehJS ...</span>\n",
       "    </div>"
      ]
     },
     "metadata": {},
     "output_type": "display_data"
    },
    {
     "data": {
      "application/javascript": [
       "\n",
       "(function(root) {\n",
       "  function now() {\n",
       "    return new Date();\n",
       "  }\n",
       "\n",
       "  var force = true;\n",
       "\n",
       "  if (typeof root._bokeh_onload_callbacks === \"undefined\" || force === true) {\n",
       "    root._bokeh_onload_callbacks = [];\n",
       "    root._bokeh_is_loading = undefined;\n",
       "  }\n",
       "\n",
       "  var JS_MIME_TYPE = 'application/javascript';\n",
       "  var HTML_MIME_TYPE = 'text/html';\n",
       "  var EXEC_MIME_TYPE = 'application/vnd.bokehjs_exec.v0+json';\n",
       "  var CLASS_NAME = 'output_bokeh rendered_html';\n",
       "\n",
       "  /**\n",
       "   * Render data to the DOM node\n",
       "   */\n",
       "  function render(props, node) {\n",
       "    var script = document.createElement(\"script\");\n",
       "    node.appendChild(script);\n",
       "  }\n",
       "\n",
       "  /**\n",
       "   * Handle when an output is cleared or removed\n",
       "   */\n",
       "  function handleClearOutput(event, handle) {\n",
       "    var cell = handle.cell;\n",
       "\n",
       "    var id = cell.output_area._bokeh_element_id;\n",
       "    var server_id = cell.output_area._bokeh_server_id;\n",
       "    // Clean up Bokeh references\n",
       "    if (id != null && id in Bokeh.index) {\n",
       "      Bokeh.index[id].model.document.clear();\n",
       "      delete Bokeh.index[id];\n",
       "    }\n",
       "\n",
       "    if (server_id !== undefined) {\n",
       "      // Clean up Bokeh references\n",
       "      var cmd = \"from bokeh.io.state import curstate; print(curstate().uuid_to_server['\" + server_id + \"'].get_sessions()[0].document.roots[0]._id)\";\n",
       "      cell.notebook.kernel.execute(cmd, {\n",
       "        iopub: {\n",
       "          output: function(msg) {\n",
       "            var id = msg.content.text.trim();\n",
       "            if (id in Bokeh.index) {\n",
       "              Bokeh.index[id].model.document.clear();\n",
       "              delete Bokeh.index[id];\n",
       "            }\n",
       "          }\n",
       "        }\n",
       "      });\n",
       "      // Destroy server and session\n",
       "      var cmd = \"import bokeh.io.notebook as ion; ion.destroy_server('\" + server_id + \"')\";\n",
       "      cell.notebook.kernel.execute(cmd);\n",
       "    }\n",
       "  }\n",
       "\n",
       "  /**\n",
       "   * Handle when a new output is added\n",
       "   */\n",
       "  function handleAddOutput(event, handle) {\n",
       "    var output_area = handle.output_area;\n",
       "    var output = handle.output;\n",
       "\n",
       "    // limit handleAddOutput to display_data with EXEC_MIME_TYPE content only\n",
       "    if ((output.output_type != \"display_data\") || (!output.data.hasOwnProperty(EXEC_MIME_TYPE))) {\n",
       "      return\n",
       "    }\n",
       "\n",
       "    var toinsert = output_area.element.find(\".\" + CLASS_NAME.split(' ')[0]);\n",
       "\n",
       "    if (output.metadata[EXEC_MIME_TYPE][\"id\"] !== undefined) {\n",
       "      toinsert[toinsert.length - 1].firstChild.textContent = output.data[JS_MIME_TYPE];\n",
       "      // store reference to embed id on output_area\n",
       "      output_area._bokeh_element_id = output.metadata[EXEC_MIME_TYPE][\"id\"];\n",
       "    }\n",
       "    if (output.metadata[EXEC_MIME_TYPE][\"server_id\"] !== undefined) {\n",
       "      var bk_div = document.createElement(\"div\");\n",
       "      bk_div.innerHTML = output.data[HTML_MIME_TYPE];\n",
       "      var script_attrs = bk_div.children[0].attributes;\n",
       "      for (var i = 0; i < script_attrs.length; i++) {\n",
       "        toinsert[toinsert.length - 1].firstChild.setAttribute(script_attrs[i].name, script_attrs[i].value);\n",
       "      }\n",
       "      // store reference to server id on output_area\n",
       "      output_area._bokeh_server_id = output.metadata[EXEC_MIME_TYPE][\"server_id\"];\n",
       "    }\n",
       "  }\n",
       "\n",
       "  function register_renderer(events, OutputArea) {\n",
       "\n",
       "    function append_mime(data, metadata, element) {\n",
       "      // create a DOM node to render to\n",
       "      var toinsert = this.create_output_subarea(\n",
       "        metadata,\n",
       "        CLASS_NAME,\n",
       "        EXEC_MIME_TYPE\n",
       "      );\n",
       "      this.keyboard_manager.register_events(toinsert);\n",
       "      // Render to node\n",
       "      var props = {data: data, metadata: metadata[EXEC_MIME_TYPE]};\n",
       "      render(props, toinsert[toinsert.length - 1]);\n",
       "      element.append(toinsert);\n",
       "      return toinsert\n",
       "    }\n",
       "\n",
       "    /* Handle when an output is cleared or removed */\n",
       "    events.on('clear_output.CodeCell', handleClearOutput);\n",
       "    events.on('delete.Cell', handleClearOutput);\n",
       "\n",
       "    /* Handle when a new output is added */\n",
       "    events.on('output_added.OutputArea', handleAddOutput);\n",
       "\n",
       "    /**\n",
       "     * Register the mime type and append_mime function with output_area\n",
       "     */\n",
       "    OutputArea.prototype.register_mime_type(EXEC_MIME_TYPE, append_mime, {\n",
       "      /* Is output safe? */\n",
       "      safe: true,\n",
       "      /* Index of renderer in `output_area.display_order` */\n",
       "      index: 0\n",
       "    });\n",
       "  }\n",
       "\n",
       "  // register the mime type if in Jupyter Notebook environment and previously unregistered\n",
       "  if (root.Jupyter !== undefined) {\n",
       "    var events = require('base/js/events');\n",
       "    var OutputArea = require('notebook/js/outputarea').OutputArea;\n",
       "\n",
       "    if (OutputArea.prototype.mime_types().indexOf(EXEC_MIME_TYPE) == -1) {\n",
       "      register_renderer(events, OutputArea);\n",
       "    }\n",
       "  }\n",
       "\n",
       "  \n",
       "  if (typeof (root._bokeh_timeout) === \"undefined\" || force === true) {\n",
       "    root._bokeh_timeout = Date.now() + 5000;\n",
       "    root._bokeh_failed_load = false;\n",
       "  }\n",
       "\n",
       "  var NB_LOAD_WARNING = {'data': {'text/html':\n",
       "     \"<div style='background-color: #fdd'>\\n\"+\n",
       "     \"<p>\\n\"+\n",
       "     \"BokehJS does not appear to have successfully loaded. If loading BokehJS from CDN, this \\n\"+\n",
       "     \"may be due to a slow or bad network connection. Possible fixes:\\n\"+\n",
       "     \"</p>\\n\"+\n",
       "     \"<ul>\\n\"+\n",
       "     \"<li>re-rerun `output_notebook()` to attempt to load from CDN again, or</li>\\n\"+\n",
       "     \"<li>use INLINE resources instead, as so:</li>\\n\"+\n",
       "     \"</ul>\\n\"+\n",
       "     \"<code>\\n\"+\n",
       "     \"from bokeh.resources import INLINE\\n\"+\n",
       "     \"output_notebook(resources=INLINE)\\n\"+\n",
       "     \"</code>\\n\"+\n",
       "     \"</div>\"}};\n",
       "\n",
       "  function display_loaded() {\n",
       "    var el = document.getElementById(\"1001\");\n",
       "    if (el != null) {\n",
       "      el.textContent = \"BokehJS is loading...\";\n",
       "    }\n",
       "    if (root.Bokeh !== undefined) {\n",
       "      if (el != null) {\n",
       "        el.textContent = \"BokehJS \" + root.Bokeh.version + \" successfully loaded.\";\n",
       "      }\n",
       "    } else if (Date.now() < root._bokeh_timeout) {\n",
       "      setTimeout(display_loaded, 100)\n",
       "    }\n",
       "  }\n",
       "\n",
       "\n",
       "  function run_callbacks() {\n",
       "    try {\n",
       "      root._bokeh_onload_callbacks.forEach(function(callback) {\n",
       "        if (callback != null)\n",
       "          callback();\n",
       "      });\n",
       "    } finally {\n",
       "      delete root._bokeh_onload_callbacks\n",
       "    }\n",
       "    console.debug(\"Bokeh: all callbacks have finished\");\n",
       "  }\n",
       "\n",
       "  function load_libs(css_urls, js_urls, callback) {\n",
       "    if (css_urls == null) css_urls = [];\n",
       "    if (js_urls == null) js_urls = [];\n",
       "\n",
       "    root._bokeh_onload_callbacks.push(callback);\n",
       "    if (root._bokeh_is_loading > 0) {\n",
       "      console.debug(\"Bokeh: BokehJS is being loaded, scheduling callback at\", now());\n",
       "      return null;\n",
       "    }\n",
       "    if (js_urls == null || js_urls.length === 0) {\n",
       "      run_callbacks();\n",
       "      return null;\n",
       "    }\n",
       "    console.debug(\"Bokeh: BokehJS not loaded, scheduling load and callback at\", now());\n",
       "    root._bokeh_is_loading = css_urls.length + js_urls.length;\n",
       "\n",
       "    function on_load() {\n",
       "      root._bokeh_is_loading--;\n",
       "      if (root._bokeh_is_loading === 0) {\n",
       "        console.debug(\"Bokeh: all BokehJS libraries/stylesheets loaded\");\n",
       "        run_callbacks()\n",
       "      }\n",
       "    }\n",
       "\n",
       "    function on_error() {\n",
       "      console.error(\"failed to load \" + url);\n",
       "    }\n",
       "\n",
       "    for (var i = 0; i < css_urls.length; i++) {\n",
       "      var url = css_urls[i];\n",
       "      const element = document.createElement(\"link\");\n",
       "      element.onload = on_load;\n",
       "      element.onerror = on_error;\n",
       "      element.rel = \"stylesheet\";\n",
       "      element.type = \"text/css\";\n",
       "      element.href = url;\n",
       "      console.debug(\"Bokeh: injecting link tag for BokehJS stylesheet: \", url);\n",
       "      document.body.appendChild(element);\n",
       "    }\n",
       "\n",
       "    for (var i = 0; i < js_urls.length; i++) {\n",
       "      var url = js_urls[i];\n",
       "      var element = document.createElement('script');\n",
       "      element.onload = on_load;\n",
       "      element.onerror = on_error;\n",
       "      element.async = false;\n",
       "      element.src = url;\n",
       "      console.debug(\"Bokeh: injecting script tag for BokehJS library: \", url);\n",
       "      document.head.appendChild(element);\n",
       "    }\n",
       "  };var element = document.getElementById(\"1001\");\n",
       "  if (element == null) {\n",
       "    console.error(\"Bokeh: ERROR: autoload.js configured with elementid '1001' but no matching script tag was found. \")\n",
       "    return false;\n",
       "  }\n",
       "\n",
       "  function inject_raw_css(css) {\n",
       "    const element = document.createElement(\"style\");\n",
       "    element.appendChild(document.createTextNode(css));\n",
       "    document.body.appendChild(element);\n",
       "  }\n",
       "\n",
       "  var js_urls = [\"https://cdn.pydata.org/bokeh/release/bokeh-1.3.4.min.js\", \"https://cdn.pydata.org/bokeh/release/bokeh-widgets-1.3.4.min.js\", \"https://cdn.pydata.org/bokeh/release/bokeh-tables-1.3.4.min.js\", \"https://cdn.pydata.org/bokeh/release/bokeh-gl-1.3.4.min.js\"];\n",
       "  var css_urls = [];\n",
       "\n",
       "  var inline_js = [\n",
       "    function(Bokeh) {\n",
       "      Bokeh.set_log_level(\"info\");\n",
       "    },\n",
       "    \n",
       "    function(Bokeh) {\n",
       "      \n",
       "    },\n",
       "    function(Bokeh) {} // ensure no trailing comma for IE\n",
       "  ];\n",
       "\n",
       "  function run_inline_js() {\n",
       "    \n",
       "    if ((root.Bokeh !== undefined) || (force === true)) {\n",
       "      for (var i = 0; i < inline_js.length; i++) {\n",
       "        inline_js[i].call(root, root.Bokeh);\n",
       "      }if (force === true) {\n",
       "        display_loaded();\n",
       "      }} else if (Date.now() < root._bokeh_timeout) {\n",
       "      setTimeout(run_inline_js, 100);\n",
       "    } else if (!root._bokeh_failed_load) {\n",
       "      console.log(\"Bokeh: BokehJS failed to load within specified timeout.\");\n",
       "      root._bokeh_failed_load = true;\n",
       "    } else if (force !== true) {\n",
       "      var cell = $(document.getElementById(\"1001\")).parents('.cell').data().cell;\n",
       "      cell.output_area.append_execute_result(NB_LOAD_WARNING)\n",
       "    }\n",
       "\n",
       "  }\n",
       "\n",
       "  if (root._bokeh_is_loading === 0) {\n",
       "    console.debug(\"Bokeh: BokehJS loaded, going straight to plotting\");\n",
       "    run_inline_js();\n",
       "  } else {\n",
       "    load_libs(css_urls, js_urls, function() {\n",
       "      console.debug(\"Bokeh: BokehJS plotting callback run at\", now());\n",
       "      run_inline_js();\n",
       "    });\n",
       "  }\n",
       "}(window));"
      ],
      "application/vnd.bokehjs_load.v0+json": "\n(function(root) {\n  function now() {\n    return new Date();\n  }\n\n  var force = true;\n\n  if (typeof root._bokeh_onload_callbacks === \"undefined\" || force === true) {\n    root._bokeh_onload_callbacks = [];\n    root._bokeh_is_loading = undefined;\n  }\n\n  \n\n  \n  if (typeof (root._bokeh_timeout) === \"undefined\" || force === true) {\n    root._bokeh_timeout = Date.now() + 5000;\n    root._bokeh_failed_load = false;\n  }\n\n  var NB_LOAD_WARNING = {'data': {'text/html':\n     \"<div style='background-color: #fdd'>\\n\"+\n     \"<p>\\n\"+\n     \"BokehJS does not appear to have successfully loaded. If loading BokehJS from CDN, this \\n\"+\n     \"may be due to a slow or bad network connection. Possible fixes:\\n\"+\n     \"</p>\\n\"+\n     \"<ul>\\n\"+\n     \"<li>re-rerun `output_notebook()` to attempt to load from CDN again, or</li>\\n\"+\n     \"<li>use INLINE resources instead, as so:</li>\\n\"+\n     \"</ul>\\n\"+\n     \"<code>\\n\"+\n     \"from bokeh.resources import INLINE\\n\"+\n     \"output_notebook(resources=INLINE)\\n\"+\n     \"</code>\\n\"+\n     \"</div>\"}};\n\n  function display_loaded() {\n    var el = document.getElementById(\"1001\");\n    if (el != null) {\n      el.textContent = \"BokehJS is loading...\";\n    }\n    if (root.Bokeh !== undefined) {\n      if (el != null) {\n        el.textContent = \"BokehJS \" + root.Bokeh.version + \" successfully loaded.\";\n      }\n    } else if (Date.now() < root._bokeh_timeout) {\n      setTimeout(display_loaded, 100)\n    }\n  }\n\n\n  function run_callbacks() {\n    try {\n      root._bokeh_onload_callbacks.forEach(function(callback) {\n        if (callback != null)\n          callback();\n      });\n    } finally {\n      delete root._bokeh_onload_callbacks\n    }\n    console.debug(\"Bokeh: all callbacks have finished\");\n  }\n\n  function load_libs(css_urls, js_urls, callback) {\n    if (css_urls == null) css_urls = [];\n    if (js_urls == null) js_urls = [];\n\n    root._bokeh_onload_callbacks.push(callback);\n    if (root._bokeh_is_loading > 0) {\n      console.debug(\"Bokeh: BokehJS is being loaded, scheduling callback at\", now());\n      return null;\n    }\n    if (js_urls == null || js_urls.length === 0) {\n      run_callbacks();\n      return null;\n    }\n    console.debug(\"Bokeh: BokehJS not loaded, scheduling load and callback at\", now());\n    root._bokeh_is_loading = css_urls.length + js_urls.length;\n\n    function on_load() {\n      root._bokeh_is_loading--;\n      if (root._bokeh_is_loading === 0) {\n        console.debug(\"Bokeh: all BokehJS libraries/stylesheets loaded\");\n        run_callbacks()\n      }\n    }\n\n    function on_error() {\n      console.error(\"failed to load \" + url);\n    }\n\n    for (var i = 0; i < css_urls.length; i++) {\n      var url = css_urls[i];\n      const element = document.createElement(\"link\");\n      element.onload = on_load;\n      element.onerror = on_error;\n      element.rel = \"stylesheet\";\n      element.type = \"text/css\";\n      element.href = url;\n      console.debug(\"Bokeh: injecting link tag for BokehJS stylesheet: \", url);\n      document.body.appendChild(element);\n    }\n\n    for (var i = 0; i < js_urls.length; i++) {\n      var url = js_urls[i];\n      var element = document.createElement('script');\n      element.onload = on_load;\n      element.onerror = on_error;\n      element.async = false;\n      element.src = url;\n      console.debug(\"Bokeh: injecting script tag for BokehJS library: \", url);\n      document.head.appendChild(element);\n    }\n  };var element = document.getElementById(\"1001\");\n  if (element == null) {\n    console.error(\"Bokeh: ERROR: autoload.js configured with elementid '1001' but no matching script tag was found. \")\n    return false;\n  }\n\n  function inject_raw_css(css) {\n    const element = document.createElement(\"style\");\n    element.appendChild(document.createTextNode(css));\n    document.body.appendChild(element);\n  }\n\n  var js_urls = [\"https://cdn.pydata.org/bokeh/release/bokeh-1.3.4.min.js\", \"https://cdn.pydata.org/bokeh/release/bokeh-widgets-1.3.4.min.js\", \"https://cdn.pydata.org/bokeh/release/bokeh-tables-1.3.4.min.js\", \"https://cdn.pydata.org/bokeh/release/bokeh-gl-1.3.4.min.js\"];\n  var css_urls = [];\n\n  var inline_js = [\n    function(Bokeh) {\n      Bokeh.set_log_level(\"info\");\n    },\n    \n    function(Bokeh) {\n      \n    },\n    function(Bokeh) {} // ensure no trailing comma for IE\n  ];\n\n  function run_inline_js() {\n    \n    if ((root.Bokeh !== undefined) || (force === true)) {\n      for (var i = 0; i < inline_js.length; i++) {\n        inline_js[i].call(root, root.Bokeh);\n      }if (force === true) {\n        display_loaded();\n      }} else if (Date.now() < root._bokeh_timeout) {\n      setTimeout(run_inline_js, 100);\n    } else if (!root._bokeh_failed_load) {\n      console.log(\"Bokeh: BokehJS failed to load within specified timeout.\");\n      root._bokeh_failed_load = true;\n    } else if (force !== true) {\n      var cell = $(document.getElementById(\"1001\")).parents('.cell').data().cell;\n      cell.output_area.append_execute_result(NB_LOAD_WARNING)\n    }\n\n  }\n\n  if (root._bokeh_is_loading === 0) {\n    console.debug(\"Bokeh: BokehJS loaded, going straight to plotting\");\n    run_inline_js();\n  } else {\n    load_libs(css_urls, js_urls, function() {\n      console.debug(\"Bokeh: BokehJS plotting callback run at\", now());\n      run_inline_js();\n    });\n  }\n}(window));"
     },
     "metadata": {},
     "output_type": "display_data"
    }
   ],
   "source": [
    "from bokeh.io import output_notebook\n",
    "output_notebook()"
   ]
  },
  {
   "cell_type": "code",
   "execution_count": 16,
   "metadata": {},
   "outputs": [
    {
     "data": {
      "text/html": [
       "\n",
       "\n",
       "\n",
       "\n",
       "\n",
       "\n",
       "  <div class=\"bk-root\" id=\"aa433756-5e80-4426-895d-01a817503f46\" data-root-id=\"1896\"></div>\n"
      ]
     },
     "metadata": {},
     "output_type": "display_data"
    },
    {
     "data": {
      "application/javascript": [
       "(function(root) {\n",
       "  function embed_document(root) {\n",
       "    \n",
       "  var docs_json = {\"73736394-f1ec-4385-a77e-20b69474ae6c\":{\"roots\":{\"references\":[{\"attributes\":{\"below\":[{\"id\":\"1905\",\"type\":\"LinearAxis\"}],\"center\":[{\"id\":\"1909\",\"type\":\"Grid\"},{\"id\":\"1914\",\"type\":\"Grid\"}],\"left\":[{\"id\":\"1910\",\"type\":\"LinearAxis\"}],\"plot_height\":400,\"plot_width\":400,\"renderers\":[{\"id\":\"1931\",\"type\":\"GlyphRenderer\"}],\"title\":{\"id\":\"1997\",\"type\":\"Title\"},\"toolbar\":{\"id\":\"1921\",\"type\":\"Toolbar\"},\"x_range\":{\"id\":\"1897\",\"type\":\"DataRange1d\"},\"x_scale\":{\"id\":\"1901\",\"type\":\"LinearScale\"},\"y_range\":{\"id\":\"1899\",\"type\":\"DataRange1d\"},\"y_scale\":{\"id\":\"1903\",\"type\":\"LinearScale\"}},\"id\":\"1896\",\"subtype\":\"Figure\",\"type\":\"Plot\"},{\"attributes\":{},\"id\":\"1920\",\"type\":\"HelpTool\"},{\"attributes\":{},\"id\":\"1919\",\"type\":\"ResetTool\"},{\"attributes\":{},\"id\":\"1916\",\"type\":\"WheelZoomTool\"},{\"attributes\":{\"source\":{\"id\":\"1928\",\"type\":\"ColumnDataSource\"}},\"id\":\"1932\",\"type\":\"CDSView\"},{\"attributes\":{\"text\":\"\"},\"id\":\"1997\",\"type\":\"Title\"},{\"attributes\":{\"overlay\":{\"id\":\"2004\",\"type\":\"BoxAnnotation\"}},\"id\":\"1917\",\"type\":\"BoxZoomTool\"},{\"attributes\":{\"active_drag\":\"auto\",\"active_inspect\":\"auto\",\"active_multi\":null,\"active_scroll\":\"auto\",\"active_tap\":\"auto\",\"tools\":[{\"id\":\"1915\",\"type\":\"PanTool\"},{\"id\":\"1916\",\"type\":\"WheelZoomTool\"},{\"id\":\"1917\",\"type\":\"BoxZoomTool\"},{\"id\":\"1918\",\"type\":\"SaveTool\"},{\"id\":\"1919\",\"type\":\"ResetTool\"},{\"id\":\"1920\",\"type\":\"HelpTool\"}]},\"id\":\"1921\",\"type\":\"Toolbar\"},{\"attributes\":{},\"id\":\"1915\",\"type\":\"PanTool\"},{\"attributes\":{\"fill_alpha\":{\"value\":0.1},\"fill_color\":{\"value\":\"#1f77b4\"},\"line_alpha\":{\"value\":0.1},\"line_color\":{\"value\":\"#1f77b4\"},\"top\":{\"field\":\"top\"},\"width\":{\"value\":0.5},\"x\":{\"field\":\"x\"}},\"id\":\"1930\",\"type\":\"VBar\"},{\"attributes\":{},\"id\":\"1999\",\"type\":\"BasicTickFormatter\"},{\"attributes\":{},\"id\":\"2001\",\"type\":\"BasicTickFormatter\"},{\"attributes\":{\"callback\":null,\"data\":{\"top\":[67740.0,1320.0,6510.0,4050.0,2040.0],\"x\":[0,1,2,3,4]},\"selected\":{\"id\":\"2003\",\"type\":\"Selection\"},\"selection_policy\":{\"id\":\"2002\",\"type\":\"UnionRenderers\"}},\"id\":\"1928\",\"type\":\"ColumnDataSource\"},{\"attributes\":{},\"id\":\"1906\",\"type\":\"BasicTicker\"},{\"attributes\":{},\"id\":\"2002\",\"type\":\"UnionRenderers\"},{\"attributes\":{\"axis_label\":\"Sleep Class\",\"formatter\":{\"id\":\"1999\",\"type\":\"BasicTickFormatter\"},\"ticker\":{\"id\":\"1906\",\"type\":\"BasicTicker\"}},\"id\":\"1905\",\"type\":\"LinearAxis\"},{\"attributes\":{\"bottom_units\":\"screen\",\"fill_alpha\":{\"value\":0.5},\"fill_color\":{\"value\":\"lightgrey\"},\"left_units\":\"screen\",\"level\":\"overlay\",\"line_alpha\":{\"value\":1.0},\"line_color\":{\"value\":\"black\"},\"line_dash\":[4,4],\"line_width\":{\"value\":2},\"render_mode\":\"css\",\"right_units\":\"screen\",\"top_units\":\"screen\"},\"id\":\"2004\",\"type\":\"BoxAnnotation\"},{\"attributes\":{\"dimension\":1,\"ticker\":{\"id\":\"1911\",\"type\":\"BasicTicker\"}},\"id\":\"1914\",\"type\":\"Grid\"},{\"attributes\":{},\"id\":\"1903\",\"type\":\"LinearScale\"},{\"attributes\":{\"callback\":null},\"id\":\"1899\",\"type\":\"DataRange1d\"},{\"attributes\":{},\"id\":\"1901\",\"type\":\"LinearScale\"},{\"attributes\":{},\"id\":\"1911\",\"type\":\"BasicTicker\"},{\"attributes\":{\"axis_label\":\"length in seconds\",\"formatter\":{\"id\":\"2001\",\"type\":\"BasicTickFormatter\"},\"ticker\":{\"id\":\"1911\",\"type\":\"BasicTicker\"}},\"id\":\"1910\",\"type\":\"LinearAxis\"},{\"attributes\":{},\"id\":\"1918\",\"type\":\"SaveTool\"},{\"attributes\":{},\"id\":\"2003\",\"type\":\"Selection\"},{\"attributes\":{\"fill_color\":{\"value\":\"#1f77b4\"},\"line_color\":{\"value\":\"#1f77b4\"},\"top\":{\"field\":\"top\"},\"width\":{\"value\":0.5},\"x\":{\"field\":\"x\"}},\"id\":\"1929\",\"type\":\"VBar\"},{\"attributes\":{\"ticker\":{\"id\":\"1906\",\"type\":\"BasicTicker\"}},\"id\":\"1909\",\"type\":\"Grid\"},{\"attributes\":{\"data_source\":{\"id\":\"1928\",\"type\":\"ColumnDataSource\"},\"glyph\":{\"id\":\"1929\",\"type\":\"VBar\"},\"hover_glyph\":null,\"muted_glyph\":null,\"nonselection_glyph\":{\"id\":\"1930\",\"type\":\"VBar\"},\"selection_glyph\":null,\"view\":{\"id\":\"1932\",\"type\":\"CDSView\"}},\"id\":\"1931\",\"type\":\"GlyphRenderer\"},{\"attributes\":{\"callback\":null},\"id\":\"1897\",\"type\":\"DataRange1d\"}],\"root_ids\":[\"1896\"]},\"title\":\"Bokeh Application\",\"version\":\"1.3.4\"}};\n",
       "  var render_items = [{\"docid\":\"73736394-f1ec-4385-a77e-20b69474ae6c\",\"roots\":{\"1896\":\"aa433756-5e80-4426-895d-01a817503f46\"}}];\n",
       "  root.Bokeh.embed.embed_items_notebook(docs_json, render_items);\n",
       "\n",
       "  }\n",
       "  if (root.Bokeh !== undefined) {\n",
       "    embed_document(root);\n",
       "  } else {\n",
       "    var attempts = 0;\n",
       "    var timer = setInterval(function(root) {\n",
       "      if (root.Bokeh !== undefined) {\n",
       "        embed_document(root);\n",
       "        clearInterval(timer);\n",
       "      }\n",
       "      attempts++;\n",
       "      if (attempts > 100) {\n",
       "        console.log(\"Bokeh: ERROR: Unable to run BokehJS code because BokehJS library is missing\");\n",
       "        clearInterval(timer);\n",
       "      }\n",
       "    }, 10, root)\n",
       "  }\n",
       "})(window);"
      ],
      "application/vnd.bokehjs_exec.v0+json": ""
     },
     "metadata": {
      "application/vnd.bokehjs_exec.v0+json": {
       "id": "1896"
      }
     },
     "output_type": "display_data"
    }
   ],
   "source": [
    "from bokeh.plotting import figure, show\n",
    "\n",
    "p = figure(plot_width=400, plot_height=400)\n",
    "p.vbar(x=list(class_duration.keys()), width=0.5, bottom=0,\n",
    "       top=[*class_duration.values()])#, color=\"firebrick\")\n",
    "p.xaxis.axis_label = 'Sleep Class'\n",
    "p.yaxis.axis_label = 'length in seconds'\n",
    "show(p)"
   ]
  },
  {
   "cell_type": "code",
   "execution_count": 53,
   "metadata": {},
   "outputs": [
    {
     "data": {
      "text/html": [
       "\n",
       "\n",
       "\n",
       "\n",
       "\n",
       "\n",
       "  <div class=\"bk-root\" id=\"84bed7b5-abdc-4e72-85eb-d2bd2ac77010\" data-root-id=\"2059\"></div>\n"
      ]
     },
     "metadata": {},
     "output_type": "display_data"
    },
    {
     "data": {
      "application/javascript": [
       "(function(root) {\n",
       "  function embed_document(root) {\n",
       "    \n",
       "  var docs_json = {\"de435f84-d2f9-45a2-90fe-ee280cced07a\":{\"roots\":{\"references\":[{\"attributes\":{\"below\":[{\"id\":\"2068\",\"type\":\"LinearAxis\"}],\"center\":[{\"id\":\"2072\",\"type\":\"Grid\"},{\"id\":\"2077\",\"type\":\"Grid\"}],\"left\":[{\"id\":\"2073\",\"type\":\"LinearAxis\"}],\"plot_height\":400,\"plot_width\":400,\"renderers\":[{\"id\":\"2094\",\"type\":\"GlyphRenderer\"}],\"title\":{\"id\":\"2169\",\"type\":\"Title\"},\"toolbar\":{\"id\":\"2084\",\"type\":\"Toolbar\"},\"x_range\":{\"id\":\"2060\",\"type\":\"DataRange1d\"},\"x_scale\":{\"id\":\"2064\",\"type\":\"LinearScale\"},\"y_range\":{\"id\":\"2062\",\"type\":\"DataRange1d\"},\"y_scale\":{\"id\":\"2066\",\"type\":\"LinearScale\"}},\"id\":\"2059\",\"subtype\":\"Figure\",\"type\":\"Plot\"},{\"attributes\":{\"data_source\":{\"id\":\"2091\",\"type\":\"ColumnDataSource\"},\"glyph\":{\"id\":\"2092\",\"type\":\"VBar\"},\"hover_glyph\":null,\"muted_glyph\":null,\"nonselection_glyph\":{\"id\":\"2093\",\"type\":\"VBar\"},\"selection_glyph\":null,\"view\":{\"id\":\"2095\",\"type\":\"CDSView\"}},\"id\":\"2094\",\"type\":\"GlyphRenderer\"},{\"attributes\":{},\"id\":\"2174\",\"type\":\"UnionRenderers\"},{\"attributes\":{},\"id\":\"2079\",\"type\":\"WheelZoomTool\"},{\"attributes\":{},\"id\":\"2082\",\"type\":\"ResetTool\"},{\"attributes\":{\"fill_alpha\":{\"value\":0.1},\"fill_color\":{\"value\":\"#1f77b4\"},\"line_alpha\":{\"value\":0.1},\"line_color\":{\"value\":\"#1f77b4\"},\"top\":{\"field\":\"top\"},\"width\":{\"value\":0.5},\"x\":{\"field\":\"x\"}},\"id\":\"2093\",\"type\":\"VBar\"},{\"attributes\":{\"callback\":null},\"id\":\"2062\",\"type\":\"DataRange1d\"},{\"attributes\":{},\"id\":\"2074\",\"type\":\"BasicTicker\"},{\"attributes\":{\"axis_label\":\"length in seconds\",\"formatter\":{\"id\":\"2173\",\"type\":\"BasicTickFormatter\"},\"ticker\":{\"id\":\"2074\",\"type\":\"BasicTicker\"}},\"id\":\"2073\",\"type\":\"LinearAxis\"},{\"attributes\":{},\"id\":\"2078\",\"type\":\"PanTool\"},{\"attributes\":{},\"id\":\"2175\",\"type\":\"Selection\"},{\"attributes\":{\"dimension\":1,\"ticker\":{\"id\":\"2074\",\"type\":\"BasicTicker\"}},\"id\":\"2077\",\"type\":\"Grid\"},{\"attributes\":{\"text\":\"\"},\"id\":\"2169\",\"type\":\"Title\"},{\"attributes\":{},\"id\":\"2171\",\"type\":\"BasicTickFormatter\"},{\"attributes\":{},\"id\":\"2064\",\"type\":\"LinearScale\"},{\"attributes\":{\"callback\":null,\"data\":{\"top\":[2171730.0,84120.0,533970.0,171090.0,231510.0],\"x\":[0,1,2,3,4]},\"selected\":{\"id\":\"2175\",\"type\":\"Selection\"},\"selection_policy\":{\"id\":\"2174\",\"type\":\"UnionRenderers\"}},\"id\":\"2091\",\"type\":\"ColumnDataSource\"},{\"attributes\":{\"ticker\":{\"id\":\"2069\",\"type\":\"BasicTicker\"}},\"id\":\"2072\",\"type\":\"Grid\"},{\"attributes\":{\"axis_label\":\"Sleep Class\",\"formatter\":{\"id\":\"2171\",\"type\":\"BasicTickFormatter\"},\"ticker\":{\"id\":\"2069\",\"type\":\"BasicTicker\"}},\"id\":\"2068\",\"type\":\"LinearAxis\"},{\"attributes\":{\"source\":{\"id\":\"2091\",\"type\":\"ColumnDataSource\"}},\"id\":\"2095\",\"type\":\"CDSView\"},{\"attributes\":{\"bottom_units\":\"screen\",\"fill_alpha\":{\"value\":0.5},\"fill_color\":{\"value\":\"lightgrey\"},\"left_units\":\"screen\",\"level\":\"overlay\",\"line_alpha\":{\"value\":1.0},\"line_color\":{\"value\":\"black\"},\"line_dash\":[4,4],\"line_width\":{\"value\":2},\"render_mode\":\"css\",\"right_units\":\"screen\",\"top_units\":\"screen\"},\"id\":\"2176\",\"type\":\"BoxAnnotation\"},{\"attributes\":{\"active_drag\":\"auto\",\"active_inspect\":\"auto\",\"active_multi\":null,\"active_scroll\":\"auto\",\"active_tap\":\"auto\",\"tools\":[{\"id\":\"2078\",\"type\":\"PanTool\"},{\"id\":\"2079\",\"type\":\"WheelZoomTool\"},{\"id\":\"2080\",\"type\":\"BoxZoomTool\"},{\"id\":\"2081\",\"type\":\"SaveTool\"},{\"id\":\"2082\",\"type\":\"ResetTool\"},{\"id\":\"2083\",\"type\":\"HelpTool\"}]},\"id\":\"2084\",\"type\":\"Toolbar\"},{\"attributes\":{\"fill_color\":{\"value\":\"#1f77b4\"},\"line_color\":{\"value\":\"#1f77b4\"},\"top\":{\"field\":\"top\"},\"width\":{\"value\":0.5},\"x\":{\"field\":\"x\"}},\"id\":\"2092\",\"type\":\"VBar\"},{\"attributes\":{},\"id\":\"2069\",\"type\":\"BasicTicker\"},{\"attributes\":{\"callback\":null},\"id\":\"2060\",\"type\":\"DataRange1d\"},{\"attributes\":{},\"id\":\"2066\",\"type\":\"LinearScale\"},{\"attributes\":{\"overlay\":{\"id\":\"2176\",\"type\":\"BoxAnnotation\"}},\"id\":\"2080\",\"type\":\"BoxZoomTool\"},{\"attributes\":{},\"id\":\"2081\",\"type\":\"SaveTool\"},{\"attributes\":{},\"id\":\"2173\",\"type\":\"BasicTickFormatter\"},{\"attributes\":{},\"id\":\"2083\",\"type\":\"HelpTool\"}],\"root_ids\":[\"2059\"]},\"title\":\"Bokeh Application\",\"version\":\"1.3.4\"}};\n",
       "  var render_items = [{\"docid\":\"de435f84-d2f9-45a2-90fe-ee280cced07a\",\"roots\":{\"2059\":\"84bed7b5-abdc-4e72-85eb-d2bd2ac77010\"}}];\n",
       "  root.Bokeh.embed.embed_items_notebook(docs_json, render_items);\n",
       "\n",
       "  }\n",
       "  if (root.Bokeh !== undefined) {\n",
       "    embed_document(root);\n",
       "  } else {\n",
       "    var attempts = 0;\n",
       "    var timer = setInterval(function(root) {\n",
       "      if (root.Bokeh !== undefined) {\n",
       "        embed_document(root);\n",
       "        clearInterval(timer);\n",
       "      }\n",
       "      attempts++;\n",
       "      if (attempts > 100) {\n",
       "        console.log(\"Bokeh: ERROR: Unable to run BokehJS code because BokehJS library is missing\");\n",
       "        clearInterval(timer);\n",
       "      }\n",
       "    }, 10, root)\n",
       "  }\n",
       "})(window);"
      ],
      "application/vnd.bokehjs_exec.v0+json": ""
     },
     "metadata": {
      "application/vnd.bokehjs_exec.v0+json": {
       "id": "2059"
      }
     },
     "output_type": "display_data"
    }
   ],
   "source": [
    "from bokeh.plotting import figure, show\n",
    "\n",
    "p = figure(plot_width=400, plot_height=400)\n",
    "p.vbar(x=list(class_duration.keys()), width=0.5, bottom=0,\n",
    "       top=[*class_duration.values()])#, color=\"firebrick\")\n",
    "p.xaxis.axis_label = 'Sleep Class'\n",
    "p.yaxis.axis_label = 'length in seconds'\n",
    "show(p)"
   ]
  },
  {
   "cell_type": "code",
   "execution_count": 54,
   "metadata": {},
   "outputs": [
    {
     "data": {
      "text/html": [
       "\n",
       "\n",
       "\n",
       "\n",
       "\n",
       "\n",
       "  <div class=\"bk-root\" id=\"7c0e8353-228f-485b-b64a-545331d40bd4\" data-root-id=\"2402\"></div>\n"
      ]
     },
     "metadata": {},
     "output_type": "display_data"
    },
    {
     "data": {
      "application/javascript": [
       "(function(root) {\n",
       "  function embed_document(root) {\n",
       "    \n",
       "  var docs_json = {\"329e1f28-5d26-4dd1-a18b-20d95b099c04\":{\"roots\":{\"references\":[{\"attributes\":{\"children\":[{\"id\":\"2401\",\"type\":\"ToolbarBox\"},{\"id\":\"2399\",\"type\":\"GridBox\"}]},\"id\":\"2402\",\"type\":\"Column\"},{\"attributes\":{\"active_drag\":\"auto\",\"active_inspect\":\"auto\",\"active_multi\":null,\"active_scroll\":\"auto\",\"active_tap\":\"auto\",\"tools\":[{\"id\":\"2296\",\"type\":\"PanTool\"},{\"id\":\"2297\",\"type\":\"WheelZoomTool\"},{\"id\":\"2298\",\"type\":\"BoxZoomTool\"},{\"id\":\"2299\",\"type\":\"SaveTool\"},{\"id\":\"2300\",\"type\":\"ResetTool\"},{\"id\":\"2301\",\"type\":\"HelpTool\"}]},\"id\":\"2302\",\"type\":\"Toolbar\"},{\"attributes\":{},\"id\":\"2328\",\"type\":\"LinearScale\"},{\"attributes\":{},\"id\":\"2375\",\"type\":\"UnionRenderers\"},{\"attributes\":{\"callback\":null},\"id\":\"2326\",\"type\":\"DataRange1d\"},{\"attributes\":{\"text\":\"\"},\"id\":\"2315\",\"type\":\"Title\"},{\"attributes\":{},\"id\":\"2330\",\"type\":\"LinearScale\"},{\"attributes\":{},\"id\":\"2319\",\"type\":\"BasicTickFormatter\"},{\"attributes\":{},\"id\":\"2254\",\"type\":\"ResetTool\"},{\"attributes\":{},\"id\":\"2246\",\"type\":\"BasicTicker\"},{\"attributes\":{\"line_alpha\":0.1,\"line_color\":\"#1f77b4\",\"x\":{\"field\":\"x\"},\"y\":{\"field\":\"y\"}},\"id\":\"2357\",\"type\":\"Line\"},{\"attributes\":{\"overlay\":{\"id\":\"2366\",\"type\":\"BoxAnnotation\"}},\"id\":\"2344\",\"type\":\"BoxZoomTool\"},{\"attributes\":{},\"id\":\"2333\",\"type\":\"BasicTicker\"},{\"attributes\":{\"active_drag\":\"auto\",\"active_inspect\":\"auto\",\"active_multi\":null,\"active_scroll\":\"auto\",\"active_tap\":\"auto\",\"tools\":[{\"id\":\"2342\",\"type\":\"PanTool\"},{\"id\":\"2343\",\"type\":\"WheelZoomTool\"},{\"id\":\"2344\",\"type\":\"BoxZoomTool\"},{\"id\":\"2345\",\"type\":\"SaveTool\"},{\"id\":\"2346\",\"type\":\"ResetTool\"},{\"id\":\"2347\",\"type\":\"HelpTool\"}]},\"id\":\"2348\",\"type\":\"Toolbar\"},{\"attributes\":{\"active_drag\":\"auto\",\"active_inspect\":\"auto\",\"active_multi\":null,\"active_scroll\":\"auto\",\"active_tap\":\"auto\",\"tools\":[{\"id\":\"2250\",\"type\":\"PanTool\"},{\"id\":\"2251\",\"type\":\"WheelZoomTool\"},{\"id\":\"2252\",\"type\":\"BoxZoomTool\"},{\"id\":\"2253\",\"type\":\"SaveTool\"},{\"id\":\"2254\",\"type\":\"ResetTool\"},{\"id\":\"2255\",\"type\":\"HelpTool\"}]},\"id\":\"2256\",\"type\":\"Toolbar\"},{\"attributes\":{\"callback\":null},\"id\":\"2278\",\"type\":\"DataRange1d\"},{\"attributes\":{},\"id\":\"2301\",\"type\":\"HelpTool\"},{\"attributes\":{},\"id\":\"2342\",\"type\":\"PanTool\"},{\"attributes\":{},\"id\":\"2299\",\"type\":\"SaveTool\"},{\"attributes\":{},\"id\":\"2363\",\"type\":\"BasicTickFormatter\"},{\"attributes\":{},\"id\":\"2386\",\"type\":\"Selection\"},{\"attributes\":{},\"id\":\"2300\",\"type\":\"ResetTool\"},{\"attributes\":{\"callback\":null},\"id\":\"2280\",\"type\":\"DataRange1d\"},{\"attributes\":{\"callback\":null},\"id\":\"2324\",\"type\":\"DataRange1d\"},{\"attributes\":{},\"id\":\"2317\",\"type\":\"BasicTickFormatter\"},{\"attributes\":{\"tools\":[{\"id\":\"2250\",\"type\":\"PanTool\"},{\"id\":\"2251\",\"type\":\"WheelZoomTool\"},{\"id\":\"2252\",\"type\":\"BoxZoomTool\"},{\"id\":\"2253\",\"type\":\"SaveTool\"},{\"id\":\"2254\",\"type\":\"ResetTool\"},{\"id\":\"2255\",\"type\":\"HelpTool\"},{\"id\":\"2296\",\"type\":\"PanTool\"},{\"id\":\"2297\",\"type\":\"WheelZoomTool\"},{\"id\":\"2298\",\"type\":\"BoxZoomTool\"},{\"id\":\"2299\",\"type\":\"SaveTool\"},{\"id\":\"2300\",\"type\":\"ResetTool\"},{\"id\":\"2301\",\"type\":\"HelpTool\"},{\"id\":\"2342\",\"type\":\"PanTool\"},{\"id\":\"2343\",\"type\":\"WheelZoomTool\"},{\"id\":\"2344\",\"type\":\"BoxZoomTool\"},{\"id\":\"2345\",\"type\":\"SaveTool\"},{\"id\":\"2346\",\"type\":\"ResetTool\"},{\"id\":\"2347\",\"type\":\"HelpTool\"}]},\"id\":\"2400\",\"type\":\"ProxyToolbar\"},{\"attributes\":{},\"id\":\"2338\",\"type\":\"BasicTicker\"},{\"attributes\":{\"line_alpha\":0.5,\"line_color\":\"navy\",\"x\":{\"field\":\"x\"},\"y\":{\"field\":\"y\"}},\"id\":\"2356\",\"type\":\"Line\"},{\"attributes\":{\"data_source\":{\"id\":\"2309\",\"type\":\"ColumnDataSource\"},\"glyph\":{\"id\":\"2310\",\"type\":\"Line\"},\"hover_glyph\":null,\"muted_glyph\":null,\"nonselection_glyph\":{\"id\":\"2311\",\"type\":\"Line\"},\"selection_glyph\":null,\"view\":{\"id\":\"2313\",\"type\":\"CDSView\"}},\"id\":\"2312\",\"type\":\"GlyphRenderer\"},{\"attributes\":{\"source\":{\"id\":\"2355\",\"type\":\"ColumnDataSource\"}},\"id\":\"2359\",\"type\":\"CDSView\"},{\"attributes\":{},\"id\":\"2365\",\"type\":\"BasicTickFormatter\"},{\"attributes\":{},\"id\":\"2297\",\"type\":\"WheelZoomTool\"},{\"attributes\":{\"below\":[{\"id\":\"2240\",\"type\":\"LinearAxis\"}],\"center\":[{\"id\":\"2244\",\"type\":\"Grid\"},{\"id\":\"2249\",\"type\":\"Grid\"},{\"id\":\"2275\",\"type\":\"Legend\"}],\"left\":[{\"id\":\"2245\",\"type\":\"LinearAxis\"}],\"plot_height\":250,\"plot_width\":900,\"renderers\":[{\"id\":\"2266\",\"type\":\"GlyphRenderer\"}],\"title\":{\"id\":\"2269\",\"type\":\"Title\"},\"toolbar\":{\"id\":\"2256\",\"type\":\"Toolbar\"},\"toolbar_location\":null,\"x_range\":{\"id\":\"2232\",\"type\":\"DataRange1d\"},\"x_scale\":{\"id\":\"2236\",\"type\":\"LinearScale\"},\"y_range\":{\"id\":\"2234\",\"type\":\"DataRange1d\"},\"y_scale\":{\"id\":\"2238\",\"type\":\"LinearScale\"}},\"id\":\"2231\",\"subtype\":\"Figure\",\"type\":\"Plot\"},{\"attributes\":{\"formatter\":{\"id\":\"2363\",\"type\":\"BasicTickFormatter\"},\"ticker\":{\"id\":\"2333\",\"type\":\"BasicTicker\"}},\"id\":\"2332\",\"type\":\"LinearAxis\"},{\"attributes\":{\"text\":\"\"},\"id\":\"2269\",\"type\":\"Title\"},{\"attributes\":{},\"id\":\"2395\",\"type\":\"UnionRenderers\"},{\"attributes\":{\"overlay\":{\"id\":\"2320\",\"type\":\"BoxAnnotation\"}},\"id\":\"2298\",\"type\":\"BoxZoomTool\"},{\"attributes\":{},\"id\":\"2347\",\"type\":\"HelpTool\"},{\"attributes\":{\"source\":{\"id\":\"2309\",\"type\":\"ColumnDataSource\"}},\"id\":\"2313\",\"type\":\"CDSView\"},{\"attributes\":{},\"id\":\"2343\",\"type\":\"WheelZoomTool\"},{\"attributes\":{},\"id\":\"2271\",\"type\":\"BasicTickFormatter\"},{\"attributes\":{\"ticker\":{\"id\":\"2333\",\"type\":\"BasicTicker\"}},\"id\":\"2336\",\"type\":\"Grid\"},{\"attributes\":{\"callback\":null,\"data\":{\"x\":{\"__ndarray__\":\"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\",\"dtype\":\"float64\",\"shape\":[900]},\"y\":{\"__ndarray__\":\"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\",\"dtype\":\"float64\",\"shape\":[900]}},\"selected\":{\"id\":\"2396\",\"type\":\"Selection\"},\"selection_policy\":{\"id\":\"2395\",\"type\":\"UnionRenderers\"}},\"id\":\"2355\",\"type\":\"ColumnDataSource\"},{\"attributes\":{},\"id\":\"2273\",\"type\":\"BasicTickFormatter\"},{\"attributes\":{\"label\":{\"value\":\"EEG Pz-Oz\"},\"renderers\":[{\"id\":\"2312\",\"type\":\"GlyphRenderer\"}]},\"id\":\"2322\",\"type\":\"LegendItem\"},{\"attributes\":{\"below\":[{\"id\":\"2332\",\"type\":\"LinearAxis\"}],\"center\":[{\"id\":\"2336\",\"type\":\"Grid\"},{\"id\":\"2341\",\"type\":\"Grid\"},{\"id\":\"2367\",\"type\":\"Legend\"}],\"left\":[{\"id\":\"2337\",\"type\":\"LinearAxis\"}],\"plot_height\":250,\"plot_width\":900,\"renderers\":[{\"id\":\"2358\",\"type\":\"GlyphRenderer\"}],\"title\":{\"id\":\"2361\",\"type\":\"Title\"},\"toolbar\":{\"id\":\"2348\",\"type\":\"Toolbar\"},\"toolbar_location\":null,\"x_range\":{\"id\":\"2324\",\"type\":\"DataRange1d\"},\"x_scale\":{\"id\":\"2328\",\"type\":\"LinearScale\"},\"y_range\":{\"id\":\"2326\",\"type\":\"DataRange1d\"},\"y_scale\":{\"id\":\"2330\",\"type\":\"LinearScale\"}},\"id\":\"2323\",\"subtype\":\"Figure\",\"type\":\"Plot\"},{\"attributes\":{\"toolbar\":{\"id\":\"2400\",\"type\":\"ProxyToolbar\"},\"toolbar_location\":\"above\"},\"id\":\"2401\",\"type\":\"ToolbarBox\"},{\"attributes\":{\"items\":[{\"id\":\"2322\",\"type\":\"LegendItem\"}]},\"id\":\"2321\",\"type\":\"Legend\"},{\"attributes\":{},\"id\":\"2345\",\"type\":\"SaveTool\"},{\"attributes\":{\"source\":{\"id\":\"2263\",\"type\":\"ColumnDataSource\"}},\"id\":\"2267\",\"type\":\"CDSView\"},{\"attributes\":{\"bottom_units\":\"screen\",\"fill_alpha\":{\"value\":0.5},\"fill_color\":{\"value\":\"lightgrey\"},\"left_units\":\"screen\",\"level\":\"overlay\",\"line_alpha\":{\"value\":1.0},\"line_color\":{\"value\":\"black\"},\"line_dash\":[4,4],\"line_width\":{\"value\":2},\"render_mode\":\"css\",\"right_units\":\"screen\",\"top_units\":\"screen\"},\"id\":\"2366\",\"type\":\"BoxAnnotation\"},{\"attributes\":{\"text\":\"\"},\"id\":\"2361\",\"type\":\"Title\"},{\"attributes\":{\"bottom_units\":\"screen\",\"fill_alpha\":{\"value\":0.5},\"fill_color\":{\"value\":\"lightgrey\"},\"left_units\":\"screen\",\"level\":\"overlay\",\"line_alpha\":{\"value\":1.0},\"line_color\":{\"value\":\"black\"},\"line_dash\":[4,4],\"line_width\":{\"value\":2},\"render_mode\":\"css\",\"right_units\":\"screen\",\"top_units\":\"screen\"},\"id\":\"2320\",\"type\":\"BoxAnnotation\"},{\"attributes\":{},\"id\":\"2376\",\"type\":\"Selection\"},{\"attributes\":{},\"id\":\"2396\",\"type\":\"Selection\"},{\"attributes\":{\"items\":[{\"id\":\"2276\",\"type\":\"LegendItem\"}]},\"id\":\"2275\",\"type\":\"Legend\"},{\"attributes\":{\"dimension\":1,\"ticker\":{\"id\":\"2338\",\"type\":\"BasicTicker\"}},\"id\":\"2341\",\"type\":\"Grid\"},{\"attributes\":{\"formatter\":{\"id\":\"2365\",\"type\":\"BasicTickFormatter\"},\"ticker\":{\"id\":\"2338\",\"type\":\"BasicTicker\"}},\"id\":\"2337\",\"type\":\"LinearAxis\"},{\"attributes\":{},\"id\":\"2346\",\"type\":\"ResetTool\"},{\"attributes\":{\"data_source\":{\"id\":\"2263\",\"type\":\"ColumnDataSource\"},\"glyph\":{\"id\":\"2264\",\"type\":\"Line\"},\"hover_glyph\":null,\"muted_glyph\":null,\"nonselection_glyph\":{\"id\":\"2265\",\"type\":\"Line\"},\"selection_glyph\":null,\"view\":{\"id\":\"2267\",\"type\":\"CDSView\"}},\"id\":\"2266\",\"type\":\"GlyphRenderer\"},{\"attributes\":{\"children\":[[{\"id\":\"2231\",\"subtype\":\"Figure\",\"type\":\"Plot\"},0,0],[{\"id\":\"2277\",\"subtype\":\"Figure\",\"type\":\"Plot\"},1,0],[{\"id\":\"2323\",\"subtype\":\"Figure\",\"type\":\"Plot\"},2,0]]},\"id\":\"2399\",\"type\":\"GridBox\"},{\"attributes\":{\"callback\":null,\"data\":{\"x\":{\"__ndarray__\":\"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\",\"dtype\":\"float64\",\"shape\":[900]},\"y\":{\"__ndarray__\":\"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\",\"dtype\":\"float64\",\"shape\":[900]}},\"selected\":{\"id\":\"2386\",\"type\":\"Selection\"},\"selection_policy\":{\"id\":\"2385\",\"type\":\"UnionRenderers\"}},\"id\":\"2309\",\"type\":\"ColumnDataSource\"},{\"attributes\":{\"label\":{\"value\":\"EOG horizontal\"},\"renderers\":[{\"id\":\"2358\",\"type\":\"GlyphRenderer\"}]},\"id\":\"2368\",\"type\":\"LegendItem\"},{\"attributes\":{},\"id\":\"2250\",\"type\":\"PanTool\"},{\"attributes\":{\"formatter\":{\"id\":\"2273\",\"type\":\"BasicTickFormatter\"},\"ticker\":{\"id\":\"2246\",\"type\":\"BasicTicker\"}},\"id\":\"2245\",\"type\":\"LinearAxis\"},{\"attributes\":{\"ticker\":{\"id\":\"2241\",\"type\":\"BasicTicker\"}},\"id\":\"2244\",\"type\":\"Grid\"},{\"attributes\":{},\"id\":\"2251\",\"type\":\"WheelZoomTool\"},{\"attributes\":{\"formatter\":{\"id\":\"2319\",\"type\":\"BasicTickFormatter\"},\"ticker\":{\"id\":\"2292\",\"type\":\"BasicTicker\"}},\"id\":\"2291\",\"type\":\"LinearAxis\"},{\"attributes\":{\"callback\":null},\"id\":\"2234\",\"type\":\"DataRange1d\"},{\"attributes\":{\"ticker\":{\"id\":\"2287\",\"type\":\"BasicTicker\"}},\"id\":\"2290\",\"type\":\"Grid\"},{\"attributes\":{},\"id\":\"2284\",\"type\":\"LinearScale\"},{\"attributes\":{},\"id\":\"2385\",\"type\":\"UnionRenderers\"},{\"attributes\":{},\"id\":\"2296\",\"type\":\"PanTool\"},{\"attributes\":{},\"id\":\"2241\",\"type\":\"BasicTicker\"},{\"attributes\":{\"label\":{\"value\":\"EEG Fpz-Cz\"},\"renderers\":[{\"id\":\"2266\",\"type\":\"GlyphRenderer\"}]},\"id\":\"2276\",\"type\":\"LegendItem\"},{\"attributes\":{\"dimension\":1,\"ticker\":{\"id\":\"2292\",\"type\":\"BasicTicker\"}},\"id\":\"2295\",\"type\":\"Grid\"},{\"attributes\":{\"below\":[{\"id\":\"2286\",\"type\":\"LinearAxis\"}],\"center\":[{\"id\":\"2290\",\"type\":\"Grid\"},{\"id\":\"2295\",\"type\":\"Grid\"},{\"id\":\"2321\",\"type\":\"Legend\"}],\"left\":[{\"id\":\"2291\",\"type\":\"LinearAxis\"}],\"plot_height\":250,\"plot_width\":900,\"renderers\":[{\"id\":\"2312\",\"type\":\"GlyphRenderer\"}],\"title\":{\"id\":\"2315\",\"type\":\"Title\"},\"toolbar\":{\"id\":\"2302\",\"type\":\"Toolbar\"},\"toolbar_location\":null,\"x_range\":{\"id\":\"2278\",\"type\":\"DataRange1d\"},\"x_scale\":{\"id\":\"2282\",\"type\":\"LinearScale\"},\"y_range\":{\"id\":\"2280\",\"type\":\"DataRange1d\"},\"y_scale\":{\"id\":\"2284\",\"type\":\"LinearScale\"}},\"id\":\"2277\",\"subtype\":\"Figure\",\"type\":\"Plot\"},{\"attributes\":{},\"id\":\"2236\",\"type\":\"LinearScale\"},{\"attributes\":{\"line_alpha\":0.5,\"line_color\":\"navy\",\"x\":{\"field\":\"x\"},\"y\":{\"field\":\"y\"}},\"id\":\"2264\",\"type\":\"Line\"},{\"attributes\":{},\"id\":\"2292\",\"type\":\"BasicTicker\"},{\"attributes\":{},\"id\":\"2255\",\"type\":\"HelpTool\"},{\"attributes\":{\"data_source\":{\"id\":\"2355\",\"type\":\"ColumnDataSource\"},\"glyph\":{\"id\":\"2356\",\"type\":\"Line\"},\"hover_glyph\":null,\"muted_glyph\":null,\"nonselection_glyph\":{\"id\":\"2357\",\"type\":\"Line\"},\"selection_glyph\":null,\"view\":{\"id\":\"2359\",\"type\":\"CDSView\"}},\"id\":\"2358\",\"type\":\"GlyphRenderer\"},{\"attributes\":{\"formatter\":{\"id\":\"2271\",\"type\":\"BasicTickFormatter\"},\"ticker\":{\"id\":\"2241\",\"type\":\"BasicTicker\"}},\"id\":\"2240\",\"type\":\"LinearAxis\"},{\"attributes\":{\"line_alpha\":0.1,\"line_color\":\"#1f77b4\",\"x\":{\"field\":\"x\"},\"y\":{\"field\":\"y\"}},\"id\":\"2311\",\"type\":\"Line\"},{\"attributes\":{\"callback\":null},\"id\":\"2232\",\"type\":\"DataRange1d\"},{\"attributes\":{},\"id\":\"2282\",\"type\":\"LinearScale\"},{\"attributes\":{\"line_alpha\":0.1,\"line_color\":\"#1f77b4\",\"x\":{\"field\":\"x\"},\"y\":{\"field\":\"y\"}},\"id\":\"2265\",\"type\":\"Line\"},{\"attributes\":{\"formatter\":{\"id\":\"2317\",\"type\":\"BasicTickFormatter\"},\"ticker\":{\"id\":\"2287\",\"type\":\"BasicTicker\"}},\"id\":\"2286\",\"type\":\"LinearAxis\"},{\"attributes\":{},\"id\":\"2253\",\"type\":\"SaveTool\"},{\"attributes\":{\"bottom_units\":\"screen\",\"fill_alpha\":{\"value\":0.5},\"fill_color\":{\"value\":\"lightgrey\"},\"left_units\":\"screen\",\"level\":\"overlay\",\"line_alpha\":{\"value\":1.0},\"line_color\":{\"value\":\"black\"},\"line_dash\":[4,4],\"line_width\":{\"value\":2},\"render_mode\":\"css\",\"right_units\":\"screen\",\"top_units\":\"screen\"},\"id\":\"2274\",\"type\":\"BoxAnnotation\"},{\"attributes\":{\"line_alpha\":0.5,\"line_color\":\"navy\",\"x\":{\"field\":\"x\"},\"y\":{\"field\":\"y\"}},\"id\":\"2310\",\"type\":\"Line\"},{\"attributes\":{},\"id\":\"2238\",\"type\":\"LinearScale\"},{\"attributes\":{\"items\":[{\"id\":\"2368\",\"type\":\"LegendItem\"}]},\"id\":\"2367\",\"type\":\"Legend\"},{\"attributes\":{},\"id\":\"2287\",\"type\":\"BasicTicker\"},{\"attributes\":{\"overlay\":{\"id\":\"2274\",\"type\":\"BoxAnnotation\"}},\"id\":\"2252\",\"type\":\"BoxZoomTool\"},{\"attributes\":{\"dimension\":1,\"ticker\":{\"id\":\"2246\",\"type\":\"BasicTicker\"}},\"id\":\"2249\",\"type\":\"Grid\"},{\"attributes\":{\"callback\":null,\"data\":{\"x\":{\"__ndarray__\":\"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\",\"dtype\":\"float64\",\"shape\":[900]},\"y\":{\"__ndarray__\":\"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\",\"dtype\":\"float64\",\"shape\":[900]}},\"selected\":{\"id\":\"2376\",\"type\":\"Selection\"},\"selection_policy\":{\"id\":\"2375\",\"type\":\"UnionRenderers\"}},\"id\":\"2263\",\"type\":\"ColumnDataSource\"}],\"root_ids\":[\"2402\"]},\"title\":\"Bokeh Application\",\"version\":\"1.3.4\"}};\n",
       "  var render_items = [{\"docid\":\"329e1f28-5d26-4dd1-a18b-20d95b099c04\",\"roots\":{\"2402\":\"7c0e8353-228f-485b-b64a-545331d40bd4\"}}];\n",
       "  root.Bokeh.embed.embed_items_notebook(docs_json, render_items);\n",
       "\n",
       "  }\n",
       "  if (root.Bokeh !== undefined) {\n",
       "    embed_document(root);\n",
       "  } else {\n",
       "    var attempts = 0;\n",
       "    var timer = setInterval(function(root) {\n",
       "      if (root.Bokeh !== undefined) {\n",
       "        embed_document(root);\n",
       "        clearInterval(timer);\n",
       "      }\n",
       "      attempts++;\n",
       "      if (attempts > 100) {\n",
       "        console.log(\"Bokeh: ERROR: Unable to run BokehJS code because BokehJS library is missing\");\n",
       "        clearInterval(timer);\n",
       "      }\n",
       "    }, 10, root)\n",
       "  }\n",
       "})(window);"
      ],
      "application/vnd.bokehjs_exec.v0+json": ""
     },
     "metadata": {
      "application/vnd.bokehjs_exec.v0+json": {
       "id": "2402"
      }
     },
     "output_type": "display_data"
    }
   ],
   "source": [
    "from bokeh.layouts import gridplot\n",
    "from bokeh.plotting import figure\n",
    "\n",
    "# Extract data from the first 5 channels, from 1 s to 3 s.\n",
    "sfreq = raw.info['sfreq']\n",
    "\n",
    "data = {}\n",
    "times = {}\n",
    "ch_names = {}\n",
    "for ch in range(len(raw.info[\"chs\"])): # 7 channels\n",
    "    ch_names[ch] = raw.info[\"chs\"][ch]['ch_name']\n",
    "    data[ch], times[ch] = raw[ch, int(sfreq * 1):int(sfreq * 10)]\n",
    "\n",
    "#data_1, times_1 = raw[1, int(sfreq * 1):int(sfreq * 10)]\n",
    "\n",
    "# for i in range(len(raw.info[\"chs\"])):\n",
    "#     fig = plt.subplots(figsize=(10,8))\n",
    "#     plt.plot(times[i], data[i].T)\n",
    "#     plt.xlabel('Seconds')\n",
    "#     plt.ylabel('$\\mu V$')\n",
    "#     plt.legend([ch_names[i]])\n",
    "#     plt.show()\n",
    "\n",
    "\n",
    "# create three plots\n",
    "s1 = figure()\n",
    "s1.line(times[0], data[0].squeeze(), color='navy', alpha=0.5, legend=[ch_names[0]])\n",
    "s2 = figure()\n",
    "s2.line(times[1], data[1].squeeze(), color='navy', alpha=0.5, legend=[ch_names[1]])\n",
    "s3 = figure()\n",
    "s3.line(times[2], data[2].squeeze(), color='navy', alpha=0.5, legend=[ch_names[2]])\n",
    "# make a grid\n",
    "grid = gridplot([s1, s2, s3], ncols=1, plot_width=900, plot_height=250)\n",
    "\n",
    "# show the results\n",
    "show(grid)"
   ]
  },
  {
   "cell_type": "code",
   "execution_count": 35,
   "metadata": {},
   "outputs": [
    {
     "name": "stdout",
     "output_type": "stream",
     "text": [
      "Extracting EDF parameters from E:\\data_2013\\SC4051E0-PSG.edf...\n",
      "EDF file detected\n",
      "Setting channel info structure...\n",
      "Creating raw.info structure...\n"
     ]
    }
   ],
   "source": [
    "mapping = {'EOG horizontal': 'eog',\n",
    "           'Resp oro-nasal': 'misc',\n",
    "           'EMG submental': 'misc',\n",
    "           'Temp rectal': 'misc',\n",
    "           'Event marker': 'misc'}\n",
    "\n",
    "raw_train = mne.io.read_raw_edf(psg_files_path)\n",
    "annot_train = mne.read_annotations(hyp_files_path)\n",
    "\n",
    "raw_train.set_annotations(annot_train, emit_warning=False)\n",
    "raw_train.set_channel_types(mapping)\n"
   ]
  },
  {
   "cell_type": "code",
   "execution_count": 46,
   "metadata": {},
   "outputs": [
    {
     "name": "stdout",
     "output_type": "stream",
     "text": [
      "Used Annotations descriptions: ['Sleep stage 1', 'Sleep stage 2', 'Sleep stage 3', 'Sleep stage 4', 'Sleep stage R', 'Sleep stage W']\n"
     ]
    },
    {
     "data": {
      "image/png": "[encoded data removed]",
      "text/plain": [
       "<Figure size 1440x720 with 1 Axes>"
      ]
     },
     "metadata": {
      "needs_background": "light"
     },
     "output_type": "display_data"
    }
   ],
   "source": [
    "annotation_desc_2_event_id = {'Sleep stage W': 1,\n",
    "                              'Sleep stage 1': 2,\n",
    "                              'Sleep stage 2': 3,\n",
    "                              'Sleep stage 3': 4,\n",
    "                              'Sleep stage 4': 4,\n",
    "                              'Sleep stage R': 5}\n",
    "\n",
    "ann2label = {\n",
    "    \"Sleep stage W\": 0,\n",
    "    \"Sleep stage 1\": 1,\n",
    "    \"Sleep stage 2\": 2,\n",
    "    \"Sleep stage 3\": 3,\n",
    "    \"Sleep stage 4\": 3,\n",
    "    \"Sleep stage R\": 4,\n",
    "    \"Sleep stage ?\": 5,\n",
    "    \"Movement time\": 5\n",
    "}\n",
    "\n",
    "events_train, _ = mne.events_from_annotations(\n",
    "    raw_train, event_id=annotation_desc_2_event_id, chunk_duration=30.)\n",
    "\n",
    "# create a new event_id that unifies stages 3 and 4\n",
    "event_id = {'Sleep stage W': 1,\n",
    "            'Sleep stage 1': 2,\n",
    "            'Sleep stage 2': 3,\n",
    "            'Sleep stage 3/4': 4,\n",
    "            'Sleep stage R': 5}\n",
    "\n",
    "# plot events\n",
    "fig, axs = plt.subplots(1, 1, figsize=(20, 10))\n",
    "mne.viz.plot_events(events_train, event_id=event_id,axes=axs,\n",
    "                    sfreq=raw_train.info['sfreq'])\n",
    "\n",
    "# keep the color-code for further plotting\n",
    "\n",
    "stage_colors = plt.rcParams['axes.prop_cycle'].by_key()['color']"
   ]
  },
  {
   "cell_type": "code",
   "execution_count": null,
   "metadata": {},
   "outputs": [],
   "source": []
  }
 ],
 "metadata": {
  "kernelspec": {
   "display_name": "Python 3",
   "language": "python",
   "name": "python3"
  },
  "language_info": {
   "codemirror_mode": {
    "name": "ipython",
    "version": 3
   },
   "file_extension": ".py",
   "mimetype": "text/x-python",
   "name": "python",
   "nbconvert_exporter": "python",
   "pygments_lexer": "ipython3",
   "version": "3.7.4"
  }
 },
 "nbformat": 4,
 "nbformat_minor": 2
}
