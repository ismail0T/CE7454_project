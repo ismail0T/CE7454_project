{
  "nbformat": 4,
  "nbformat_minor": 0,
  "metadata": {
    "accelerator": "GPU",
    "colab": {
      "name": "conv1d_time_SMOTE_10s_f4.ipynb",
      "provenance": []
    },
    "kernelspec": {
      "display_name": "Python 3",
      "language": "python",
      "name": "python3"
    },
    "language_info": {
      "codemirror_mode": {
        "name": "ipython",
        "version": 3
      },
      "file_extension": ".py",
      "mimetype": "text/x-python",
      "name": "python",
      "nbconvert_exporter": "python",
      "pygments_lexer": "ipython3",
      "version": "3.7.3"
    }
  },
  "cells": [
    {
      "cell_type": "code",
      "metadata": {
        "colab_type": "code",
        "id": "MbOZcEqGN_Xp",
        "outputId": "f5f1dcb0-80c4-4d11-db78-afbe70d4a11d",
        "colab": {
          "base_uri": "https://localhost:8080/",
          "height": 84
        }
      },
      "source": [
        "# For Google Colaboratory\n",
        "import sys, os\n",
        "if 'google.colab' in sys.modules:\n",
        "    from google.colab import drive\n",
        "    drive.mount('/content/gdrive')\n",
        "    file_name = 'conv1d.ipynb'\n",
        "    import subprocess\n",
        "    path_to_file = subprocess.check_output('find . -type f -name ' + str(file_name), shell=True).decode(\"utf-8\")\n",
        "    print(path_to_file)\n",
        "    path_to_file = path_to_file.replace(file_name,\"\").replace('\\n',\"\")\n",
        "    os.chdir(path_to_file)\n",
        "    !pwd4/rwG2zPYz5nLw4oxBo_eyUAEiKbHKef-aAv0iLRHPbfc_HJc1tMyuWYo"
      ],
      "execution_count": 99,
      "outputs": [
        {
          "output_type": "stream",
          "text": [
            "Drive already mounted at /content/gdrive; to attempt to forcibly remount, call drive.mount(\"/content/gdrive\", force_remount=True).\n",
            "./conv1d.ipynb\n",
            "\n",
            "/bin/bash: pwd4/rwG2zPYz5nLw4oxBo_eyUAEiKbHKef-aAv0iLRHPbfc_HJc1tMyuWYo: No such file or directory\n"
          ],
          "name": "stdout"
        }
      ]
    },
    {
      "cell_type": "code",
      "metadata": {
        "colab_type": "code",
        "id": "pgejNjIVC7sL",
        "colab": {}
      },
      "source": [
        "import torch\n",
        "import torch.nn as nn\n",
        "import numpy as np\n",
        "import time\n",
        "import torch.nn.functional as F\n",
        "import random\n",
        "from matplotlib import pyplot as plt"
      ],
      "execution_count": 0,
      "outputs": []
    },
    {
      "cell_type": "markdown",
      "metadata": {
        "id": "RDqhiMVd06Qw",
        "colab_type": "text"
      },
      "source": [
        "# Data loader"
      ]
    },
    {
      "cell_type": "code",
      "metadata": {
        "colab_type": "code",
        "id": "Gh8VhswyHl21",
        "outputId": "9b5e62b3-3114-43c0-9562-064b595dc689",
        "colab": {
          "base_uri": "https://localhost:8080/",
          "height": 101
        }
      },
      "source": [
        "trainer=np.load(\"trainData__SMOTE_all_10s_f4.npz\",\"rb\")\n",
        "tester=np.load(\"trainData__SMOTE_all_10s_f4_TEST.npz\", \"rb\")\n",
        "\n",
        "x_train=torch.from_numpy(trainer['x'][:])\n",
        "y_train=torch.from_numpy(trainer['y'][:])\n",
        "y_train=y_train.long()\n",
        "\n",
        "x_test=torch.from_numpy(tester['x'][:])\n",
        "y_test=torch.from_numpy(tester['y'][:])\n",
        "y_test=y_test.long()\n",
        "\n",
        "print(\"Training data size= \",x_train.size(), \"\\t\\tTraining label size= \",y_train.size(),sep=\"\\t\")\n",
        "print(\"Testing data size= \", x_test.size(), \"\\t\\tTesting label size= \", y_test.size(),sep=\"\\t\")\n",
        "\n",
        "#REshape x_test and y_test into x_train and y_train dimensions\n",
        "\n",
        "x_test=x_test.view(-1,3000)\n",
        "y_test=y_test.view(-1,)\n",
        "\n",
        "print(\"\\n\\nReshaped Testing data size= \", x_test.size(), \"\\t\\tReshaped Testing label size= \", y_test.size(),sep=\"\\t\")"
      ],
      "execution_count": 101,
      "outputs": [
        {
          "output_type": "stream",
          "text": [
            "Training data size= \ttorch.Size([57695, 3000])\t\t\tTraining label size= \ttorch.Size([57695])\n",
            "Testing data size= \ttorch.Size([2104, 1, 3000])\t\t\tTesting label size= \ttorch.Size([2104, 1])\n",
            "\n",
            "\n",
            "Reshaped Testing data size= \ttorch.Size([2104, 3000])\t\t\tReshaped Testing label size= \ttorch.Size([2104])\n"
          ],
          "name": "stdout"
        }
      ]
    },
    {
      "cell_type": "code",
      "metadata": {
        "colab_type": "code",
        "id": "587waHg8CdzW",
        "outputId": "372f3f13-726b-4066-ccfa-c0dc110ca1da",
        "colab": {
          "base_uri": "https://localhost:8080/",
          "height": 34
        }
      },
      "source": [
        "std= x_train.std()\n",
        "mean=x_train.mean()\n",
        "batch_size = 100\n",
        "learning_rate = 0.01\n",
        "range_val=len(x_train)-batch_size\n",
        "\n",
        "print(std,mean,sep=\"  \")"
      ],
      "execution_count": 102,
      "outputs": [
        {
          "output_type": "stream",
          "text": [
            "tensor(0.9643)  tensor(7.3141e-10)\n"
          ],
          "name": "stdout"
        }
      ]
    },
    {
      "cell_type": "markdown",
      "metadata": {
        "id": "zZ29RSUt06Q3",
        "colab_type": "text"
      },
      "source": [
        "# Architecture"
      ]
    },
    {
      "cell_type": "code",
      "metadata": {
        "colab_type": "code",
        "id": "AnM0JqY4CacW",
        "colab": {}
      },
      "source": [
        "class ConvNet(nn.Module):\n",
        "    def __init__(self):\n",
        "        super(ConvNet,self).__init__()\n",
        "        \n",
        "        #Pool and activation fn's here \n",
        "        activation=nn.ReLU()       \n",
        "        pool_8 = nn.MaxPool1d(kernel_size=8,stride=8) #Size=8\n",
        "        pool_4 = nn.MaxPool1d(kernel_size=4,stride=4) #Size=4\n",
        "        pool_2 = nn.MaxPool1d(kernel_size=2,stride=2) #Size=2\n",
        "        \n",
        "        #Dropout\n",
        "        self.drop_out = nn.Dropout()\n",
        "        \n",
        "        \n",
        "        #ConvNet time\n",
        "        conv1_t=nn.Conv1d (1, 64, kernel_size=50,stride=6,padding=1)\n",
        "        self.conv2_t=nn.Conv1d(64,128,kernel_size=8,stride=1,padding=1)\n",
        "        self.conv3_t=nn.Conv1d(128,128,kernel_size=8,stride=1,padding=1)\n",
        "        conv4_t=nn.Conv1d(128,128,kernel_size=8,stride=1,padding=1)\n",
        "        \n",
        "        #Layers time\n",
        "        self.layer1_t=nn.Sequential(conv1_t,activation,pool_8)\n",
        "        self.layer2_t=nn.Sequential(conv4_t,activation,pool_4)      \n",
        "        \n",
        "        \n",
        "        self.layer=nn.Sequential(nn.Linear(1408,5,bias=False),activation)\n",
        "        \n",
        "        \n",
        "    def forward(self,x):\n",
        "        \n",
        "        \n",
        "        #Time here\n",
        "        out_t=self.layer1_t(x)\n",
        "        out_t=self.drop_out(out_t)  #DropOut\n",
        "        out_t=self.conv2_t(out_t)\n",
        "        out_t=self.conv3_t(out_t)\n",
        "        out_t=self.layer2_t(out_t)\n",
        "        out=out_t.view(-1,1408)\n",
        "        \n",
        "        \n",
        "        out=self.layer(out)\n",
        "        \n",
        "        return out"
      ],
      "execution_count": 0,
      "outputs": []
    },
    {
      "cell_type": "markdown",
      "metadata": {
        "id": "Ge6YZGW806Q7",
        "colab_type": "text"
      },
      "source": [
        "# Initialization"
      ]
    },
    {
      "cell_type": "code",
      "metadata": {
        "colab_type": "code",
        "id": "yUJLes1LIey_",
        "outputId": "24acbe5b-6afe-4206-d923-f2897a7c7dba",
        "colab": {
          "base_uri": "https://localhost:8080/",
          "height": 336
        }
      },
      "source": [
        "net=ConvNet()\n",
        "print(net)\n",
        "net = net.to(torch.device(\"cuda\"))\n",
        "\n",
        "mean=mean.to(torch.device(\"cuda\"))\n",
        "\n",
        "std=std.to(torch.device(\"cuda\"))\n",
        "criterion = nn.CrossEntropyLoss()"
      ],
      "execution_count": 104,
      "outputs": [
        {
          "output_type": "stream",
          "text": [
            "ConvNet(\n",
            "  (drop_out): Dropout(p=0.5, inplace=False)\n",
            "  (conv2_t): Conv1d(64, 128, kernel_size=(8,), stride=(1,), padding=(1,))\n",
            "  (conv3_t): Conv1d(128, 128, kernel_size=(8,), stride=(1,), padding=(1,))\n",
            "  (layer1_t): Sequential(\n",
            "    (0): Conv1d(1, 64, kernel_size=(50,), stride=(6,), padding=(1,))\n",
            "    (1): ReLU()\n",
            "    (2): MaxPool1d(kernel_size=8, stride=8, padding=0, dilation=1, ceil_mode=False)\n",
            "  )\n",
            "  (layer2_t): Sequential(\n",
            "    (0): Conv1d(128, 128, kernel_size=(8,), stride=(1,), padding=(1,))\n",
            "    (1): ReLU()\n",
            "    (2): MaxPool1d(kernel_size=4, stride=4, padding=0, dilation=1, ceil_mode=False)\n",
            "  )\n",
            "  (layer): Sequential(\n",
            "    (0): Linear(in_features=1408, out_features=5, bias=False)\n",
            "    (1): ReLU()\n",
            "  )\n",
            ")\n"
          ],
          "name": "stdout"
        }
      ]
    },
    {
      "cell_type": "markdown",
      "metadata": {
        "id": "zRXQ7dnq06RA",
        "colab_type": "text"
      },
      "source": [
        "# Error generate"
      ]
    },
    {
      "cell_type": "code",
      "metadata": {
        "colab_type": "code",
        "id": "BcK4RlblszdB",
        "colab": {}
      },
      "source": [
        "def get_error(scores,labels):\n",
        "  \n",
        "  batch_size = scores.size(0)\n",
        "  predicted_labels = scores.argmax(dim=1)\n",
        "  indicator = (predicted_labels == labels)\n",
        "  num_matches=indicator.sum()\n",
        "  \n",
        "  return 1-num_matches.float()/batch_size"
      ],
      "execution_count": 0,
      "outputs": []
    },
    {
      "cell_type": "markdown",
      "metadata": {
        "id": "0dahsTDC06RE",
        "colab_type": "text"
      },
      "source": [
        "# Test set check"
      ]
    },
    {
      "cell_type": "code",
      "metadata": {
        "colab_type": "code",
        "id": "EEktdwk7AJui",
        "colab": {}
      },
      "source": [
        "def eval_on_test_set(error_axis_test):\n",
        "\n",
        "    running_error=0\n",
        "    num_batches=0\n",
        "\n",
        "    for i in range(0,len(x_test)-batch_size,batch_size):\n",
        "\n",
        "        minibatch_data =  x_test[i:i+batch_size].unsqueeze(dim=1)\n",
        "        minibatch_label= y_test[i:i+batch_size]\n",
        "\n",
        "        minibatch_data=minibatch_data.to(torch.device(\"cuda\"))\n",
        "        minibatch_label=minibatch_label.to(torch.device(\"cuda\"))\n",
        "        \n",
        "        inputs = (minibatch_data - mean)/std  \n",
        "\n",
        "        scores=net( inputs ) \n",
        "\n",
        "        error = get_error( scores , minibatch_label)\n",
        "\n",
        "        running_error += error.item()\n",
        "\n",
        "        num_batches+=1\n",
        "\n",
        "\n",
        "    total_error = running_error/num_batches\n",
        "    error_axis_test.append(total_error*100)\n",
        "    print( 'error rate on test set =', total_error*100 ,'percent')\n",
        "    return error_axis_test"
      ],
      "execution_count": 0,
      "outputs": []
    },
    {
      "cell_type": "markdown",
      "metadata": {
        "id": "LtrxBqVl06RI",
        "colab_type": "text"
      },
      "source": [
        "# Training the network"
      ]
    },
    {
      "cell_type": "code",
      "metadata": {
        "colab_type": "code",
        "id": "eql7XYu6__BW",
        "outputId": "08b5e0a6-2ebb-4703-bcb8-7b7e1ef1e771",
        "colab": {
          "base_uri": "https://localhost:8080/",
          "height": 470
        }
      },
      "source": [
        "start=time.time()\n",
        "epoch_axis_train=list()\n",
        "error_axis_train=list()\n",
        "\n",
        "error_axis_test=list()\n",
        "epoch_axis_test=list()\n",
        "\n",
        "\n",
        "for epoch in range(1,200):\n",
        "    if epoch%100==0:\n",
        "      learning_rate=learning_rate/2\n",
        "    \n",
        "       \n",
        "    optimizer=torch.optim.SGD( net.parameters() , lr=learning_rate )\n",
        "        \n",
        "    running_loss=0\n",
        "    running_error=0\n",
        "    num_batches=0\n",
        "    \n",
        "    shuffled_indices=torch.randperm(range_val)\n",
        " \n",
        "    for count in range(0,range_val,batch_size):\n",
        "        \n",
        "        # FORWARD AND BACKWARD PASS\n",
        "    \n",
        "        optimizer.zero_grad()\n",
        "             \n",
        "        indices=shuffled_indices[count:count+batch_size]\n",
        "        minibatch_data =  x_train[indices].unsqueeze(dim=1)\n",
        "        minibatch_label=  y_train[indices]\n",
        "        \n",
        "        #print(\"minibatch_data= \",minibatch_data.size())\n",
        "        #print(\"minibatch_label= \",minibatch_label.size())\n",
        "        \n",
        "        \n",
        "        minibatch_data=minibatch_data.to(torch.device(\"cuda\"))\n",
        "        minibatch_label=minibatch_label.to(torch.device(\"cuda\"))\n",
        "        \n",
        "        inputs = (minibatch_data - mean)/std      \n",
        "        \n",
        "        inputs.requires_grad_()\n",
        "                \n",
        "        scores=net( inputs ) \n",
        "        #print(\"SCores=\", scores.size())\n",
        "\n",
        "        loss =  criterion( scores , minibatch_label) \n",
        "          \n",
        "        loss.backward()\n",
        "        \n",
        "        optimizer.step()\n",
        "\n",
        "        running_loss += loss.detach().item()\n",
        "        \n",
        "        error = get_error( scores.detach() , minibatch_label)\n",
        "        running_error += error.item()\n",
        "          \n",
        "        num_batches+=1        \n",
        "    \n",
        "    \n",
        "    # AVERAGE STATS THEN DISPLAY\n",
        "    total_loss = running_loss/num_batches\n",
        "    total_error = running_error/num_batches\n",
        "    elapsed = (time.time()-start)/60\n",
        "    \n",
        "    if epoch%20==0:\n",
        "      print('epoch=',epoch, '\\t time=', elapsed,'min', '\\t learning rate=', learning_rate  ,'\\t loss=', total_loss , '\\t error=', total_error*100 ,'percent')\n",
        "      error_axis_test = eval_on_test_set(error_axis_test)\n",
        "      epoch_axis_test.append(epoch)\n",
        "      print(' ')\n",
        "\n",
        "    epoch_axis_train.append(epoch)\n",
        "    error_axis_train.append(error*100)\n",
        "      \n",
        "    "
      ],
      "execution_count": 107,
      "outputs": [
        {
          "output_type": "stream",
          "text": [
            "epoch= 20 \t time= 3.7921878854433695 min \t learning rate= 0.01 \t loss= 0.46788951775266063 \t error= 17.932293822781908 percent\n",
            "error rate on test set = 20.952383393333072 percent\n",
            " \n",
            "epoch= 40 \t time= 7.586877266565959 min \t learning rate= 0.01 \t loss= 0.3844320364813838 \t error= 14.574380746732155 percent\n",
            "error rate on test set = 21.285716124943324 percent\n",
            " \n",
            "epoch= 60 \t time= 11.379763352870942 min \t learning rate= 0.01 \t loss= 0.3305726640133394 \t error= 12.409450030989117 percent\n",
            "error rate on test set = 24.095240377244494 percent\n",
            " \n",
            "epoch= 80 \t time= 15.173549350102743 min \t learning rate= 0.01 \t loss= 0.28712629143976504 \t error= 10.702304562760725 percent\n",
            "error rate on test set = 22.380954311007546 percent\n",
            " \n",
            "epoch= 100 \t time= 18.972365629673003 min \t learning rate= 0.005 \t loss= 0.23974607285991725 \t error= 8.874362179388601 percent\n",
            "error rate on test set = 22.047621863228933 percent\n",
            " \n",
            "epoch= 120 \t time= 22.76762129465739 min \t learning rate= 0.005 \t loss= 0.220771845533616 \t error= 8.082147222012281 percent\n",
            "error rate on test set = 23.00000133968535 percent\n",
            " \n",
            "epoch= 140 \t time= 26.56263004144033 min \t learning rate= 0.005 \t loss= 0.20722617430146784 \t error= 7.672790365500583 percent\n",
            "error rate on test set = 23.380954208828154 percent\n",
            " \n",
            "epoch= 160 \t time= 30.35869517326355 min \t learning rate= 0.005 \t loss= 0.1986694468392266 \t error= 7.415754658480485 percent\n",
            "error rate on test set = 24.04762137503851 percent\n",
            " \n",
            "epoch= 180 \t time= 34.15622427860896 min \t learning rate= 0.005 \t loss= 0.19046668554397506 \t error= 7.0768474083807735 percent\n",
            "error rate on test set = 24.380954106648765 percent\n",
            " \n"
          ],
          "name": "stdout"
        }
      ]
    },
    {
      "cell_type": "markdown",
      "metadata": {
        "id": "lWdSVdmfJH-N",
        "colab_type": "text"
      },
      "source": [
        "# Training set plots"
      ]
    },
    {
      "cell_type": "code",
      "metadata": {
        "id": "WBEechis86zb",
        "colab_type": "code",
        "outputId": "808f6ab9-bd6b-4575-9297-94daffe2c25b",
        "colab": {
          "base_uri": "https://localhost:8080/",
          "height": 610
        }
      },
      "source": [
        "l=list()\n",
        "for i in error_axis_train:\n",
        "  l.append(i.cpu().detach().numpy())\n",
        "\n",
        "mean=np.mean(l)\n",
        "print(\"Mean error on train set=\",mean,\"% \\n\")\n",
        "plt.plot(epoch_axis_train,error_axis_train)\n",
        "plt.title(\"Training set data (Epochs vs Error(%))\")\n",
        "plt.xlabel(\"Number of epochs\")\n",
        "plt.ylabel(\"Error on training set (%)\")\n",
        "plt.show()\n",
        "explode=(0.05,0.05)\n",
        "\n",
        "print(\"\\n\")\n",
        "labels=[\"False prediction\",\"True prediction\"]\n",
        "plt.pie([mean,100-mean],labels=labels,autopct='%1.1f%%',explode=explode)\n",
        "plt.title(\"Pie plot for mean error on train set\")\n",
        "plt.show()"
      ],
      "execution_count": 108,
      "outputs": [
        {
          "output_type": "stream",
          "text": [
            "Mean error on train set= 11.668867 % \n",
            "\n"
          ],
          "name": "stdout"
        },
        {
          "output_type": "display_data",
          "data": {
            "image/png": "[encoded data removed]",
            "text/plain": [
              "<Figure size 432x288 with 1 Axes>"
            ]
          },
          "metadata": {
            "tags": []
          }
        },
        {
          "output_type": "stream",
          "text": [
            "\n",
            "\n"
          ],
          "name": "stdout"
        },
        {
          "output_type": "display_data",
          "data": {
            "image/png": "[encoded data removed]",
            "text/plain": [
              "<Figure size 432x288 with 1 Axes>"
            ]
          },
          "metadata": {
            "tags": []
          }
        }
      ]
    },
    {
      "cell_type": "markdown",
      "metadata": {
        "id": "T7MTdFJULqg4",
        "colab_type": "text"
      },
      "source": [
        "# Test set plots"
      ]
    },
    {
      "cell_type": "code",
      "metadata": {
        "id": "EAkWJ7xdLu5H",
        "colab_type": "code",
        "outputId": "f3189619-89ac-42ff-8301-86cea5e64b62",
        "colab": {
          "base_uri": "https://localhost:8080/",
          "height": 610
        }
      },
      "source": [
        "print(\"Mean error on test set=\",np.mean(error_axis_test),\"% \\n\")\n",
        "plt.plot(epoch_axis_test,error_axis_test)\n",
        "plt.title(\"Test set data (Epochs vs Error(%))\")\n",
        "plt.xlabel(\"Number of epochs\")\n",
        "plt.ylabel(\"Error on test set (%)\")\n",
        "plt.show()\n",
        "print(\"\\n\")\n",
        "plt.pie([min(error_axis_test),100-min(error_axis_test)],labels=labels,autopct='%1.1f%%',explode=explode)\n",
        "plt.title(\"Pie plot for min error on test set\")\n",
        "plt.show()"
      ],
      "execution_count": 109,
      "outputs": [
        {
          "output_type": "stream",
          "text": [
            "Mean error on test set= 22.84127189999535 % \n",
            "\n"
          ],
          "name": "stdout"
        },
        {
          "output_type": "display_data",
          "data": {
            "image/png": "[encoded data removed]",
            "text/plain": [
              "<Figure size 432x288 with 1 Axes>"
            ]
          },
          "metadata": {
            "tags": []
          }
        },
        {
          "output_type": "stream",
          "text": [
            "\n",
            "\n"
          ],
          "name": "stdout"
        },
        {
          "output_type": "display_data",
          "data": {
            "image/png": "[encoded data removed]",
            "text/plain": [
              "<Figure size 432x288 with 1 Axes>"
            ]
          },
          "metadata": {
            "tags": []
          }
        }
      ]
    }
  ]
}