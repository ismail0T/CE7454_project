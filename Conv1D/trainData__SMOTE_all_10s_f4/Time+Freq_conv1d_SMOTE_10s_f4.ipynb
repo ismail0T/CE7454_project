{
  "nbformat": 4,
  "nbformat_minor": 0,
  "metadata": {
    "colab": {
      "name": "Time+Freq_conv1d_SMOTE_10s_f4.ipynb",
      "provenance": []
    },
    "kernelspec": {
      "name": "python3",
      "display_name": "Python 3"
    },
    "accelerator": "GPU"
  },
  "cells": [
    {
      "cell_type": "code",
      "metadata": {
        "id": "MbOZcEqGN_Xp",
        "colab_type": "code",
        "outputId": "17deed23-1820-4c44-9c85-fc5b05d7035f",
        "colab": {
          "base_uri": "https://localhost:8080/",
          "height": 84
        }
      },
      "source": [
        "# For Google Colaboratory\n",
        "import sys, os\n",
        "if 'google.colab' in sys.modules:\n",
        "    from google.colab import drive\n",
        "    drive.mount('/content/gdrive')\n",
        "    file_name = 'conv1d.ipynb'\n",
        "    import subprocess\n",
        "    path_to_file = subprocess.check_output('find . -type f -name ' + str(file_name), shell=True).decode(\"utf-8\")\n",
        "    print(path_to_file)\n",
        "    path_to_file = path_to_file.replace(file_name,\"\").replace('\\n',\"\")\n",
        "    os.chdir(path_to_file)\n",
        "    !pwd4/rwG2zPYz5nLw4oxBo_eyUAEiKbHKef-aAv0iLRHPbfc_HJc1tMyuWYo"
      ],
      "execution_count": 94,
      "outputs": [
        {
          "output_type": "stream",
          "text": [
            "Drive already mounted at /content/gdrive; to attempt to forcibly remount, call drive.mount(\"/content/gdrive\", force_remount=True).\n",
            "./conv1d.ipynb\n",
            "\n",
            "/bin/bash: pwd4/rwG2zPYz5nLw4oxBo_eyUAEiKbHKef-aAv0iLRHPbfc_HJc1tMyuWYo: No such file or directory\n"
          ],
          "name": "stdout"
        }
      ]
    },
    {
      "cell_type": "code",
      "metadata": {
        "id": "pgejNjIVC7sL",
        "colab_type": "code",
        "colab": {}
      },
      "source": [
        "import torch\n",
        "import torch.nn as nn\n",
        "import numpy as np\n",
        "import time\n",
        "import torch.nn.functional as F\n",
        "import random\n",
        "from matplotlib import pyplot as plt"
      ],
      "execution_count": 0,
      "outputs": []
    },
    {
      "cell_type": "code",
      "metadata": {
        "id": "Gh8VhswyHl21",
        "colab_type": "code",
        "outputId": "de603727-f95e-41df-c7fd-d9062d3c1996",
        "colab": {
          "base_uri": "https://localhost:8080/",
          "height": 101
        }
      },
      "source": [
        "trainer=np.load(\"trainData__SMOTE_all_10s_f4.npz\",\"rb\")\n",
        "tester=np.load(\"trainData__SMOTE_all_10s_f4_TEST.npz\", \"rb\")\n",
        "\n",
        "x_train=torch.from_numpy(trainer['x'][:])\n",
        "y_train=torch.from_numpy(trainer['y'][:])\n",
        "y_train=y_train.long()\n",
        "\n",
        "x_test=torch.from_numpy(tester['x'][:])\n",
        "y_test=torch.from_numpy(tester['y'][:])\n",
        "y_test=y_test.long()\n",
        "\n",
        "print(\"Training data size= \",x_train.size(), \"\\t\\tTraining label size= \",y_train.size(),sep=\"\\t\")\n",
        "print(\"Testing data size= \", x_test.size(), \"\\t\\tTesting label size= \", y_test.size(),sep=\"\\t\")\n",
        "\n",
        "#REshape x_test and y_test into x_train and y_train dimensions\n",
        "\n",
        "x_test=x_test.view(-1,3000)\n",
        "y_test=y_test.view(-1,)\n",
        "\n",
        "print(\"\\n\\nReshaped Testing data size= \", x_test.size(), \"\\t\\tReshaped Testing label size= \", y_test.size(),sep=\"\\t\")"
      ],
      "execution_count": 96,
      "outputs": [
        {
          "output_type": "stream",
          "text": [
            "Training data size= \ttorch.Size([57695, 3000])\t\t\tTraining label size= \ttorch.Size([57695])\n",
            "Testing data size= \ttorch.Size([2104, 1, 3000])\t\t\tTesting label size= \ttorch.Size([2104, 1])\n",
            "\n",
            "\n",
            "Reshaped Testing data size= \ttorch.Size([2104, 3000])\t\t\tReshaped Testing label size= \ttorch.Size([2104])\n"
          ],
          "name": "stdout"
        }
      ]
    },
    {
      "cell_type": "code",
      "metadata": {
        "id": "587waHg8CdzW",
        "colab_type": "code",
        "outputId": "81c097b4-cbd5-4f32-a8a7-781cc7de679e",
        "colab": {
          "base_uri": "https://localhost:8080/",
          "height": 34
        }
      },
      "source": [
        "std= x_train.std()\n",
        "mean=x_train.mean()\n",
        "batch_size = 100\n",
        "learning_rate = 0.01\n",
        "range_val=len(x_train)-batch_size\n",
        "\n",
        "print(std,mean,sep=\"  \")"
      ],
      "execution_count": 97,
      "outputs": [
        {
          "output_type": "stream",
          "text": [
            "tensor(0.9643)  tensor(7.3141e-10)\n"
          ],
          "name": "stdout"
        }
      ]
    },
    {
      "cell_type": "code",
      "metadata": {
        "id": "AnM0JqY4CacW",
        "colab_type": "code",
        "colab": {}
      },
      "source": [
        "class ConvNet(nn.Module):\n",
        "    def __init__(self):\n",
        "        super(ConvNet,self).__init__()\n",
        "        \n",
        "        #Pool and activation fn's here \n",
        "        activation=nn.ReLU()       \n",
        "        pool_8 = nn.MaxPool1d(kernel_size=8,stride=8) #Size=8\n",
        "        pool_4 = nn.MaxPool1d(kernel_size=4,stride=4) #Size=4\n",
        "        pool_2 = nn.MaxPool1d(kernel_size=2,stride=2) #Size=2\n",
        "        \n",
        "        #Dropout\n",
        "        self.drop_out = nn.Dropout()\n",
        "        \n",
        "        \n",
        "        #ConvNet time\n",
        "        conv1_t=nn.Conv1d (1, 64, kernel_size=50,stride=6,padding=1)\n",
        "        self.conv2_t=nn.Conv1d(64,128,kernel_size=8,stride=1,padding=1)\n",
        "        self.conv3_t=nn.Conv1d(128,128,kernel_size=8,stride=1,padding=1)\n",
        "        conv4_t=nn.Conv1d(128,128,kernel_size=8,stride=1,padding=1)\n",
        "        \n",
        "        #Layers time\n",
        "        self.layer1_t=nn.Sequential(conv1_t,activation,pool_8)\n",
        "        self.layer2_t=nn.Sequential(conv4_t,activation,pool_4)\n",
        "        \n",
        "        #ConvNet freq\n",
        "        \n",
        "        conv1_f=nn.Conv1d(1,  64,  kernel_size=400, stride=50,padding=1)\n",
        "        self.conv2_f=nn.Conv1d(64, 128, kernel_size=6,   stride=1,padding=1)\n",
        "        self.conv3_f=nn.Conv1d(128,128, kernel_size=6,   stride=1,padding=1)\n",
        "        conv4_f=nn.Conv1d(128,128, kernel_size=6,   stride=1,padding=1)\n",
        "        \n",
        "        \n",
        "        #Layers freq\n",
        "        \n",
        "        self.layer1_f=nn.Sequential(conv1_f, activation, pool_4)\n",
        "        self.layer2_f=nn.Sequential(conv4_f, activation, pool_2)\n",
        "        \n",
        "        self.layer=nn.Sequential(nn.Linear(1664,5,bias=False),activation)\n",
        "        \n",
        "        \n",
        "   \n",
        "    def forward(self,x):\n",
        "        \n",
        "        \n",
        "        #Time here\n",
        "        out_t=self.layer1_t(x)\n",
        "        out_t=self.drop_out(out_t)  #DropOut\n",
        "        out_t=self.conv2_t(out_t)\n",
        "        out_t=self.conv3_t(out_t)\n",
        "        out_t=self.layer2_t(out_t)\n",
        "        \n",
        "        #Freq here\n",
        "        \n",
        "        out_f=self.layer1_f(x)\n",
        "        out_f=self.drop_out(out_f)  #DropOut\n",
        "        out_f=self.conv2_f(out_f)\n",
        "        out_f=self.conv3_f(out_f)\n",
        "        out_f=self.layer2_f(out_f)\n",
        "        \n",
        "        out=torch.cat((out_t,out_f),2)  #Concat\n",
        "        out=self.drop_out(out)   #DropOut\n",
        "       # print(out.size())\n",
        "        out=out.view(-1,1664)\n",
        "        \n",
        "        out=self.layer(out)\n",
        "        return out"
      ],
      "execution_count": 0,
      "outputs": []
    },
    {
      "cell_type": "code",
      "metadata": {
        "id": "yUJLes1LIey_",
        "colab_type": "code",
        "outputId": "f52929ab-192f-4996-c996-7dc987e65900",
        "colab": {
          "base_uri": "https://localhost:8080/",
          "height": 538
        }
      },
      "source": [
        "net=ConvNet()\n",
        "print(net)\n",
        "net = net.to(torch.device(\"cuda\"))\n",
        "\n",
        "mean=mean.to(torch.device(\"cuda\"))\n",
        "\n",
        "std=std.to(torch.device(\"cuda\"))\n",
        "criterion = nn.CrossEntropyLoss()"
      ],
      "execution_count": 99,
      "outputs": [
        {
          "output_type": "stream",
          "text": [
            "ConvNet(\n",
            "  (drop_out): Dropout(p=0.5, inplace=False)\n",
            "  (conv2_t): Conv1d(64, 128, kernel_size=(8,), stride=(1,), padding=(1,))\n",
            "  (conv3_t): Conv1d(128, 128, kernel_size=(8,), stride=(1,), padding=(1,))\n",
            "  (layer1_t): Sequential(\n",
            "    (0): Conv1d(1, 64, kernel_size=(50,), stride=(6,), padding=(1,))\n",
            "    (1): ReLU()\n",
            "    (2): MaxPool1d(kernel_size=8, stride=8, padding=0, dilation=1, ceil_mode=False)\n",
            "  )\n",
            "  (layer2_t): Sequential(\n",
            "    (0): Conv1d(128, 128, kernel_size=(8,), stride=(1,), padding=(1,))\n",
            "    (1): ReLU()\n",
            "    (2): MaxPool1d(kernel_size=4, stride=4, padding=0, dilation=1, ceil_mode=False)\n",
            "  )\n",
            "  (conv2_f): Conv1d(64, 128, kernel_size=(6,), stride=(1,), padding=(1,))\n",
            "  (conv3_f): Conv1d(128, 128, kernel_size=(6,), stride=(1,), padding=(1,))\n",
            "  (layer1_f): Sequential(\n",
            "    (0): Conv1d(1, 64, kernel_size=(400,), stride=(50,), padding=(1,))\n",
            "    (1): ReLU()\n",
            "    (2): MaxPool1d(kernel_size=4, stride=4, padding=0, dilation=1, ceil_mode=False)\n",
            "  )\n",
            "  (layer2_f): Sequential(\n",
            "    (0): Conv1d(128, 128, kernel_size=(6,), stride=(1,), padding=(1,))\n",
            "    (1): ReLU()\n",
            "    (2): MaxPool1d(kernel_size=2, stride=2, padding=0, dilation=1, ceil_mode=False)\n",
            "  )\n",
            "  (layer): Sequential(\n",
            "    (0): Linear(in_features=1664, out_features=5, bias=False)\n",
            "    (1): ReLU()\n",
            "  )\n",
            ")\n"
          ],
          "name": "stdout"
        }
      ]
    },
    {
      "cell_type": "code",
      "metadata": {
        "id": "BcK4RlblszdB",
        "colab_type": "code",
        "colab": {}
      },
      "source": [
        "def get_error(scores,labels):\n",
        "  \n",
        "  batch_size = scores.size(0)\n",
        "  predicted_labels = scores.argmax(dim=1)\n",
        "  indicator = (predicted_labels == labels)\n",
        "  num_matches=indicator.sum()\n",
        "  \n",
        "  return 1-num_matches.float()/batch_size"
      ],
      "execution_count": 0,
      "outputs": []
    },
    {
      "cell_type": "code",
      "metadata": {
        "id": "EEktdwk7AJui",
        "colab_type": "code",
        "colab": {}
      },
      "source": [
        "def eval_on_test_set(error_axis_test):\n",
        "\n",
        "    running_error=0\n",
        "    num_batches=0\n",
        "\n",
        "    for i in range(0,len(x_test)-batch_size,batch_size):\n",
        "\n",
        "        minibatch_data =  x_test[i:i+batch_size].unsqueeze(dim=1)\n",
        "        minibatch_label= y_test[i:i+batch_size]\n",
        "\n",
        "        minibatch_data=minibatch_data.to(torch.device(\"cuda\"))\n",
        "        minibatch_label=minibatch_label.to(torch.device(\"cuda\"))\n",
        "        \n",
        "        inputs = (minibatch_data - mean)/std  \n",
        "\n",
        "        scores=net( inputs ) \n",
        "\n",
        "        error = get_error( scores , minibatch_label)\n",
        "\n",
        "        running_error += error.item()\n",
        "\n",
        "        num_batches+=1\n",
        "\n",
        "\n",
        "    total_error = running_error/num_batches\n",
        "    error_axis_test.append(total_error*100)\n",
        "    print( 'error rate on test set =', total_error*100 ,'percent')\n",
        "    return error_axis_test"
      ],
      "execution_count": 0,
      "outputs": []
    },
    {
      "cell_type": "code",
      "metadata": {
        "id": "eql7XYu6__BW",
        "colab_type": "code",
        "outputId": "011363f4-4483-4148-9aba-1279e66a899f",
        "colab": {
          "base_uri": "https://localhost:8080/",
          "height": 470
        }
      },
      "source": [
        "start=time.time()\n",
        "epoch_axis_train=list()\n",
        "error_axis_train=list()\n",
        "\n",
        "error_axis_test=list()\n",
        "epoch_axis_test=list()\n",
        "\n",
        "\n",
        "for epoch in range(1,200):\n",
        "    if epoch%100==0:\n",
        "      learning_rate=learning_rate/2\n",
        "       \n",
        "    optimizer=torch.optim.SGD( net.parameters() , lr=learning_rate )\n",
        "        \n",
        "    running_loss=0\n",
        "    running_error=0\n",
        "    num_batches=0\n",
        "    \n",
        "    shuffled_indices=torch.randperm(range_val)\n",
        " \n",
        "    for count in range(0,range_val,batch_size):\n",
        "        \n",
        "        # FORWARD AND BACKWARD PASS\n",
        "    \n",
        "        optimizer.zero_grad()\n",
        "             \n",
        "        indices=shuffled_indices[count:count+batch_size]\n",
        "        minibatch_data =  x_train[indices].unsqueeze(dim=1)\n",
        "        minibatch_label=  y_train[indices]\n",
        "        \n",
        "        #print(\"minibatch_data= \",minibatch_data.size())\n",
        "        #print(\"minibatch_label= \",minibatch_label.size())\n",
        "        \n",
        "        \n",
        "        minibatch_data=minibatch_data.to(torch.device(\"cuda\"))\n",
        "        minibatch_label=minibatch_label.to(torch.device(\"cuda\"))\n",
        "        \n",
        "        inputs = (minibatch_data - mean)/std      \n",
        "        \n",
        "        inputs.requires_grad_()\n",
        "                \n",
        "        scores=net( inputs ) \n",
        "        #print(\"SCores=\", scores.size())\n",
        "\n",
        "        loss =  criterion( scores , minibatch_label) \n",
        "          \n",
        "        loss.backward()\n",
        "        \n",
        "        optimizer.step()\n",
        "        \n",
        "\n",
        "               \n",
        "        running_loss += loss.detach().item()\n",
        "        \n",
        "        error = get_error( scores.detach() , minibatch_label)\n",
        "        running_error += error.item()\n",
        "          \n",
        "        num_batches+=1        \n",
        "    \n",
        "    \n",
        "    # AVERAGE STATS THEN DISPLAY\n",
        "    total_loss = running_loss/num_batches\n",
        "    total_error = running_error/num_batches\n",
        "    elapsed = (time.time()-start)/60\n",
        "    \n",
        "    if epoch%20==0:\n",
        "      print('epoch=',epoch, '\\t time=', elapsed,'min', '\\t learning rate=', learning_rate  ,'\\t loss=', total_loss , '\\t error=', total_error*100 ,'percent')\n",
        "      error_axis_test = eval_on_test_set(error_axis_test)\n",
        "      epoch_axis_test.append(epoch)\n",
        "      print(' ')\n",
        "      \n",
        "    epoch_axis_train.append(epoch)\n",
        "    error_axis_train.append(error*100)"
      ],
      "execution_count": 102,
      "outputs": [
        {
          "output_type": "stream",
          "text": [
            "epoch= 20 \t time= 4.153123644987742 min \t learning rate= 0.01 \t loss= 0.48440004895544714 \t error= 18.56405541507734 percent\n",
            "error rate on test set = 21.904764005116053 percent\n",
            " \n",
            "epoch= 40 \t time= 8.289548416932425 min \t learning rate= 0.01 \t loss= 0.4309104787341009 \t error= 16.472133031735815 percent\n",
            "error rate on test set = 21.285716692606606 percent\n",
            " \n",
            "epoch= 60 \t time= 12.422879306475322 min \t learning rate= 0.01 \t loss= 0.39650918419162434 \t error= 14.735473495804602 percent\n",
            "error rate on test set = 21.000002111707413 percent\n",
            " \n",
            "epoch= 80 \t time= 16.48282806078593 min \t learning rate= 0.01 \t loss= 0.36410401823620003 \t error= 13.56515178663863 percent\n",
            "error rate on test set = 24.71428712209066 percent\n",
            " \n",
            "epoch= 100 \t time= 20.613182934125266 min \t learning rate= 0.005 \t loss= 0.32843000752230483 \t error= 12.205959597809448 percent\n",
            "error rate on test set = 21.666669561749412 percent\n",
            " \n",
            "epoch= 120 \t time= 24.759062345822652 min \t learning rate= 0.005 \t loss= 0.3137439588058947 \t error= 11.690517328679562 percent\n",
            "error rate on test set = 22.619049889700754 percent\n",
            " \n",
            "epoch= 140 \t time= 28.852101262410482 min \t learning rate= 0.005 \t loss= 0.29998758603404796 \t error= 11.08424909826782 percent\n",
            "error rate on test set = 22.95238318897429 percent\n",
            " \n",
            "epoch= 160 \t time= 32.95392801364263 min \t learning rate= 0.005 \t loss= 0.2907361282009838 \t error= 10.653510669039354 percent\n",
            "error rate on test set = 21.761906998498098 percent\n",
            " \n",
            "epoch= 180 \t time= 37.06935016711553 min \t learning rate= 0.005 \t loss= 0.27869549704094726 \t error= 10.445177379167742 percent\n",
            "error rate on test set = 22.52381103379386 percent\n",
            " \n"
          ],
          "name": "stdout"
        }
      ]
    },
    {
      "cell_type": "markdown",
      "metadata": {
        "id": "vPdNUga8MASP",
        "colab_type": "text"
      },
      "source": [
        "# Training set plots"
      ]
    },
    {
      "cell_type": "code",
      "metadata": {
        "id": "r7O--V6IyM37",
        "colab_type": "code",
        "outputId": "0aef0a5a-642e-4eda-cd78-4a9a4d954c7e",
        "colab": {
          "base_uri": "https://localhost:8080/",
          "height": 610
        }
      },
      "source": [
        "l=list()\n",
        "for i in error_axis_train:\n",
        "  l.append(i.cpu().detach().numpy())\n",
        "\n",
        "mean=np.mean(l)\n",
        "print(\"Mean error on train set=\",mean,\"% \\n\")\n",
        "plt.plot(epoch_axis_train,error_axis_train)\n",
        "plt.title(\"Training set data (Epochs vs Error(%))\")\n",
        "plt.xlabel(\"Number of epochs\")\n",
        "plt.ylabel(\"Error on training set (%)\")\n",
        "plt.show()\n",
        "explode=(0.05,0.05)\n",
        "\n",
        "print(\"\\n\")\n",
        "labels=[\"False prediction\",\"True prediction\"]\n",
        "plt.pie([mean,100-mean],labels=labels,autopct='%1.1f%%',explode=explode)\n",
        "plt.title(\"Pie plot for mean error on train set\")\n",
        "plt.show()"
      ],
      "execution_count": 103,
      "outputs": [
        {
          "output_type": "stream",
          "text": [
            "Mean error on train set= 13.721234 % \n",
            "\n"
          ],
          "name": "stdout"
        },
        {
          "output_type": "display_data",
          "data": {
            "image/png": "[encoded data removed]",
            "text/plain": [
              "<Figure size 432x288 with 1 Axes>"
            ]
          },
          "metadata": {
            "tags": []
          }
        },
        {
          "output_type": "stream",
          "text": [
            "\n",
            "\n"
          ],
          "name": "stdout"
        },
        {
          "output_type": "display_data",
          "data": {
            "image/png": "[encoded data removed]",
            "text/plain": [
              "<Figure size 432x288 with 1 Axes>"
            ]
          },
          "metadata": {
            "tags": []
          }
        }
      ]
    },
    {
      "cell_type": "markdown",
      "metadata": {
        "id": "6mCn4141MEbD",
        "colab_type": "text"
      },
      "source": [
        "# Test set plots"
      ]
    },
    {
      "cell_type": "code",
      "metadata": {
        "id": "0nRtbfkTMLX4",
        "colab_type": "code",
        "outputId": "9cb8846f-23f3-4cf1-cece-a967ca985c2b",
        "colab": {
          "base_uri": "https://localhost:8080/",
          "height": 610
        }
      },
      "source": [
        "print(\"Mean error on test set=\",np.mean(error_axis_test),\"% \\n\")\n",
        "plt.plot(epoch_axis_test,error_axis_test)\n",
        "plt.title(\"Test set data (Epochs vs Error(%))\")\n",
        "plt.xlabel(\"Number of epochs\")\n",
        "plt.ylabel(\"Error on test set (%)\")\n",
        "plt.show()\n",
        "print(\"\\n\")\n",
        "plt.pie([min(error_axis_test),100-min(error_axis_test)],labels=labels,autopct='%1.1f%%',explode=explode)\n",
        "plt.title(\"Pie plot for min error on test set\")\n",
        "plt.show()"
      ],
      "execution_count": 104,
      "outputs": [
        {
          "output_type": "stream",
          "text": [
            "Mean error on test set= 22.269843400470794 % \n",
            "\n"
          ],
          "name": "stdout"
        },
        {
          "output_type": "display_data",
          "data": {
            "image/png": "[encoded data removed]",
            "text/plain": [
              "<Figure size 432x288 with 1 Axes>"
            ]
          },
          "metadata": {
            "tags": []
          }
        },
        {
          "output_type": "stream",
          "text": [
            "\n",
            "\n"
          ],
          "name": "stdout"
        },
        {
          "output_type": "display_data",
          "data": {
            "image/png": "[encoded data removed]",
            "text/plain": [
              "<Figure size 432x288 with 1 Axes>"
            ]
          },
          "metadata": {
            "tags": []
          }
        }
      ]
    }
  ]
}