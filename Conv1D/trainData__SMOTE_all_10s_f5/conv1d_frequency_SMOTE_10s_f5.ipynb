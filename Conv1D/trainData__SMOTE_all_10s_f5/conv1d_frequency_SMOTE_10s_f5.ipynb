{
 "cells": [
  {
   "cell_type": "code",
   "execution_count": 1,
   "metadata": {
    "colab": {
     "base_uri": "https://localhost:8080/",
     "height": 84
    },
    "colab_type": "code",
    "id": "sKx7zSnms_gN",
    "outputId": "7fa1236e-c360-4b5a-a087-252ef8baf4e9"
   },
   "outputs": [],
   "source": [
    "# For Google Colaboratory\n",
    "import sys, os\n",
    "if 'google.colab' in sys.modules:\n",
    "    from google.colab import drive\n",
    "    drive.mount('/content/gdrive')\n",
    "    file_name = 'conv1d.ipynb'\n",
    "    import subprocess\n",
    "    path_to_file = subprocess.check_output('find . -type f -name ' + str(file_name), shell=True).decode(\"utf-8\")\n",
    "    print(path_to_file)\n",
    "    path_to_file = path_to_file.replace(file_name,\"\").replace('\\n',\"\")\n",
    "    os.chdir(path_to_file)\n",
    "    !pwd4/rwG2zPYz5nLw4oxBo_eyUAEiKbHKef-aAv0iLRHPbfc_HJc1tMyuWYo"
   ]
  },
  {
   "cell_type": "code",
   "execution_count": 0,
   "metadata": {
    "colab": {},
    "colab_type": "code",
    "id": "pgejNjIVC7sL"
   },
   "outputs": [],
   "source": [
    "import torch\n",
    "import torch.nn as nn\n",
    "import numpy as np\n",
    "import time\n",
    "import torch.nn.functional as F\n",
    "import random\n",
    "from matplotlib import pyplot as plt"
   ]
  },
  {
   "cell_type": "markdown",
   "metadata": {
    "colab_type": "text",
    "id": "2GIb8rlD9vnk"
   },
   "source": [
    "# Data loader\n"
   ]
  },
  {
   "cell_type": "code",
   "execution_count": 259,
   "metadata": {
    "colab": {
     "base_uri": "https://localhost:8080/",
     "height": 101
    },
    "colab_type": "code",
    "id": "Gh8VhswyHl21",
    "outputId": "9950d1d9-f4ce-461d-85c8-2ffdb7563d2c"
   },
   "outputs": [
    {
     "name": "stdout",
     "output_type": "stream",
     "text": [
      "Training data size= \ttorch.Size([56940, 3000])\t\t\tTraining label size= \ttorch.Size([56940])\n",
      "Testing data size= \ttorch.Size([1847, 1, 3000])\t\t\tTesting label size= \ttorch.Size([1847, 1])\n",
      "\n",
      "\n",
      "Reshaped Testing data size= \ttorch.Size([1847, 3000])\t\t\tReshaped Testing label size= \ttorch.Size([1847])\n"
     ]
    }
   ],
   "source": [
    "trainer=np.load(\"trainData__SMOTE_all_10s_f5.npz\",\"rb\")\n",
    "tester=np.load(\"trainData__SMOTE_all_10s_f5_TEST.npz\", \"rb\")\n",
    "\n",
    "x_train=torch.from_numpy(trainer['x'][:])\n",
    "y_train=torch.from_numpy(trainer['y'][:])\n",
    "y_train=y_train.long()\n",
    "\n",
    "x_test=torch.from_numpy(tester['x'][:])\n",
    "y_test=torch.from_numpy(tester['y'][:])\n",
    "y_test=y_test.long()\n",
    "\n",
    "print(\"Training data size= \",x_train.size(), \"\\t\\tTraining label size= \",y_train.size(),sep=\"\\t\")\n",
    "print(\"Testing data size= \", x_test.size(), \"\\t\\tTesting label size= \", y_test.size(),sep=\"\\t\")\n",
    "\n",
    "#REshape x_test and y_test into x_train and y_train dimensions\n",
    "\n",
    "x_test=x_test.view(-1,3000)\n",
    "y_test=y_test.view(-1,)\n",
    "\n",
    "print(\"\\n\\nReshaped Testing data size= \", x_test.size(), \"\\t\\tReshaped Testing label size= \", y_test.size(),sep=\"\\t\")"
   ]
  },
  {
   "cell_type": "code",
   "execution_count": 260,
   "metadata": {
    "colab": {
     "base_uri": "https://localhost:8080/",
     "height": 34
    },
    "colab_type": "code",
    "id": "587waHg8CdzW",
    "outputId": "9ec3b2f5-aad2-465e-afb6-a0c9ccbd2f39"
   },
   "outputs": [
    {
     "name": "stdout",
     "output_type": "stream",
     "text": [
      "tensor(0.9657)  tensor(-1.0283e-09)\n"
     ]
    }
   ],
   "source": [
    "std= x_train.std()\n",
    "mean=x_train.mean()\n",
    "batch_size = 100\n",
    "learning_rate = 0.01\n",
    "range_val=len(x_train)-batch_size\n",
    "\n",
    "print(std,mean,sep=\"  \")"
   ]
  },
  {
   "cell_type": "markdown",
   "metadata": {
    "colab_type": "text",
    "id": "FSBG1MgZ9vnq"
   },
   "source": [
    "# Architecture"
   ]
  },
  {
   "cell_type": "code",
   "execution_count": 0,
   "metadata": {
    "colab": {},
    "colab_type": "code",
    "id": "AnM0JqY4CacW"
   },
   "outputs": [],
   "source": [
    "class ConvNet(nn.Module):\n",
    "    def __init__(self):\n",
    "        super(ConvNet,self).__init__()\n",
    "        \n",
    "        #Pool and activation fn's here \n",
    "        activation=nn.ReLU()       \n",
    "        pool_8 = nn.MaxPool1d(kernel_size=8,stride=8) #Size=8\n",
    "        pool_4 = nn.MaxPool1d(kernel_size=4,stride=4) #Size=4\n",
    "        pool_2 = nn.MaxPool1d(kernel_size=2,stride=2) #Size=2\n",
    "        \n",
    "        #Dropout\n",
    "        self.drop_out = nn.Dropout()\n",
    "        \n",
    "        #ConvNet freq\n",
    "        \n",
    "        conv1_f=nn.Conv1d(1,  64,  kernel_size=400, stride=50,padding=1)\n",
    "        self.conv2_f=nn.Conv1d(64, 128, kernel_size=6,   stride=1,padding=1)\n",
    "        self.conv3_f=nn.Conv1d(128,128, kernel_size=6,   stride=1,padding=1)\n",
    "        conv4_f=nn.Conv1d(128,128, kernel_size=6,   stride=1,padding=1)\n",
    "        \n",
    "        \n",
    "        #Layers freq\n",
    "        \n",
    "        self.layer1_f=nn.Sequential(conv1_f, activation, pool_4)\n",
    "        self.layer2_f=nn.Sequential(conv4_f, activation, pool_2)\n",
    "        \n",
    "        self.layer=nn.Sequential(nn.Linear(256,5,bias=False),activation)\n",
    "        \n",
    "        \n",
    "        \n",
    "        \n",
    "   \n",
    "    def forward(self,x):\n",
    "        #Freq here\n",
    "        \n",
    "        out_f=self.layer1_f(x)\n",
    "        out_f=self.conv2_f(out_f)\n",
    "        out_f=self.conv3_f(out_f)\n",
    "        out_f=self.layer2_f(out_f)\n",
    "\n",
    "        #print(out_f.size())\n",
    "        #out=self.drop_out(out)   #DropOut\n",
    "        out=out_f.view(-1,256)\n",
    "        \n",
    "        out=self.layer(out)\n",
    "        \n",
    "        #print(\"Output size=  \",size)\n",
    "       # print(\"modified= \",out.reshape(-1) )\n",
    "        return out"
   ]
  },
  {
   "cell_type": "markdown",
   "metadata": {
    "colab_type": "text",
    "id": "lKaCTe5v9vnu"
   },
   "source": [
    "# Initialization"
   ]
  },
  {
   "cell_type": "code",
   "execution_count": 262,
   "metadata": {
    "colab": {
     "base_uri": "https://localhost:8080/",
     "height": 336
    },
    "colab_type": "code",
    "id": "yUJLes1LIey_",
    "outputId": "562f1aca-d165-4799-ce81-a293efabaaa4"
   },
   "outputs": [
    {
     "name": "stdout",
     "output_type": "stream",
     "text": [
      "ConvNet(\n",
      "  (drop_out): Dropout(p=0.5, inplace=False)\n",
      "  (conv2_f): Conv1d(64, 128, kernel_size=(6,), stride=(1,), padding=(1,))\n",
      "  (conv3_f): Conv1d(128, 128, kernel_size=(6,), stride=(1,), padding=(1,))\n",
      "  (layer1_f): Sequential(\n",
      "    (0): Conv1d(1, 64, kernel_size=(400,), stride=(50,), padding=(1,))\n",
      "    (1): ReLU()\n",
      "    (2): MaxPool1d(kernel_size=4, stride=4, padding=0, dilation=1, ceil_mode=False)\n",
      "  )\n",
      "  (layer2_f): Sequential(\n",
      "    (0): Conv1d(128, 128, kernel_size=(6,), stride=(1,), padding=(1,))\n",
      "    (1): ReLU()\n",
      "    (2): MaxPool1d(kernel_size=2, stride=2, padding=0, dilation=1, ceil_mode=False)\n",
      "  )\n",
      "  (layer): Sequential(\n",
      "    (0): Linear(in_features=256, out_features=5, bias=False)\n",
      "    (1): ReLU()\n",
      "  )\n",
      ")\n"
     ]
    }
   ],
   "source": [
    "net=ConvNet()\n",
    "print(net)\n",
    "net = net.to(torch.device(\"cuda\"))\n",
    "\n",
    "mean=mean.to(torch.device(\"cuda\"))\n",
    "\n",
    "std=std.to(torch.device(\"cuda\"))\n",
    "criterion = nn.CrossEntropyLoss()"
   ]
  },
  {
   "cell_type": "markdown",
   "metadata": {
    "colab_type": "text",
    "id": "oClgeOrL9vnz"
   },
   "source": [
    "# Error generate"
   ]
  },
  {
   "cell_type": "code",
   "execution_count": 0,
   "metadata": {
    "colab": {},
    "colab_type": "code",
    "id": "BcK4RlblszdB"
   },
   "outputs": [],
   "source": [
    "def get_error(scores,labels):\n",
    "  \n",
    "  batch_size = scores.size(0)\n",
    "  predicted_labels = scores.argmax(dim=1)\n",
    "  indicator = (predicted_labels == labels)\n",
    "  num_matches=indicator.sum()\n",
    "  \n",
    "  return 1-num_matches.float()/batch_size"
   ]
  },
  {
   "cell_type": "markdown",
   "metadata": {
    "colab_type": "text",
    "id": "-mrzBY8C9vn2"
   },
   "source": [
    "# Test set check"
   ]
  },
  {
   "cell_type": "code",
   "execution_count": 0,
   "metadata": {
    "colab": {},
    "colab_type": "code",
    "id": "EEktdwk7AJui"
   },
   "outputs": [],
   "source": [
    "def eval_on_test_set(error_axis_test):\n",
    "\n",
    "    running_error=0\n",
    "    num_batches=0\n",
    "\n",
    "    for i in range(0,len(x_test)-batch_size,batch_size):\n",
    "\n",
    "        minibatch_data =  x_test[i:i+batch_size].unsqueeze(dim=1)\n",
    "        minibatch_label= y_test[i:i+batch_size]\n",
    "\n",
    "        minibatch_data=minibatch_data.to(torch.device(\"cuda\"))\n",
    "        minibatch_label=minibatch_label.to(torch.device(\"cuda\"))\n",
    "        \n",
    "        inputs = (minibatch_data - mean)/std  \n",
    "\n",
    "        scores=net( inputs ) \n",
    "\n",
    "        error = get_error( scores , minibatch_label)\n",
    "\n",
    "        running_error += error.item()\n",
    "\n",
    "        num_batches+=1\n",
    "\n",
    "\n",
    "    total_error = running_error/num_batches\n",
    "    error_axis_test.append(total_error*100)\n",
    "    print( 'error rate on test set =', total_error*100 ,'percent')\n",
    "    return error_axis_test"
   ]
  },
  {
   "cell_type": "markdown",
   "metadata": {
    "colab_type": "text",
    "id": "ID_cf0Dd9vn5"
   },
   "source": [
    "# Training the network"
   ]
  },
  {
   "cell_type": "code",
   "execution_count": 265,
   "metadata": {
    "colab": {
     "base_uri": "https://localhost:8080/",
     "height": 470
    },
    "colab_type": "code",
    "id": "eql7XYu6__BW",
    "outputId": "e4481c51-a3b8-492b-8931-4d8758a598c1"
   },
   "outputs": [
    {
     "name": "stdout",
     "output_type": "stream",
     "text": [
      "epoch= 20 \t time= 1.2383256395657858 min \t learning rate= 0.01 \t loss= 0.705570169932394 \t error= 18.944641733001948 percent\n",
      "error rate on test set = 18.666669064097935 percent\n",
      " \n",
      "epoch= 40 \t time= 2.477038864294688 min \t learning rate= 0.01 \t loss= 0.2825465754512534 \t error= 10.228472853796344 percent\n",
      "error rate on test set = 16.888891657193504 percent\n",
      " \n",
      "epoch= 60 \t time= 3.715362612406413 min \t learning rate= 0.01 \t loss= 0.16655828234181463 \t error= 5.884008918789023 percent\n",
      "error rate on test set = 21.444445848464966 percent\n",
      " \n",
      "epoch= 80 \t time= 4.9515663663546245 min \t learning rate= 0.01 \t loss= 0.07914814026617104 \t error= 2.443764048427186 percent\n",
      "error rate on test set = 18.8333359029558 percent\n",
      " \n",
      "epoch= 100 \t time= 6.189797449111938 min \t learning rate= 0.005 \t loss= 0.01685666119571782 \t error= 0.12302343162375719 percent\n",
      "error rate on test set = 19.222224089834423 percent\n",
      " \n",
      "epoch= 120 \t time= 7.427377239863078 min \t learning rate= 0.005 \t loss= 0.007268318158831375 \t error= 0.022847214566383296 percent\n",
      "error rate on test set = 19.444446431265938 percent\n",
      " \n",
      "epoch= 140 \t time= 8.664397811889648 min \t learning rate= 0.005 \t loss= 0.004476520144061458 \t error= 0.019332258479247404 percent\n",
      "error rate on test set = 19.722223944134182 percent\n",
      " \n",
      "epoch= 160 \t time= 9.902165218194325 min \t learning rate= 0.005 \t loss= 0.0030895408554131947 \t error= 0.019332258479247404 percent\n",
      "error rate on test set = 19.444446762402855 percent\n",
      " \n",
      "epoch= 180 \t time= 11.138378171126048 min \t learning rate= 0.005 \t loss= 0.0023059275200564304 \t error= 0.019332258479247404 percent\n",
      "error rate on test set = 19.611112938986885 percent\n",
      " \n"
     ]
    }
   ],
   "source": [
    "start=time.time()\n",
    "epoch_axis_train=list()\n",
    "error_axis_train=list()\n",
    "\n",
    "error_axis_test=list()\n",
    "epoch_axis_test=list()\n",
    "\n",
    "\n",
    "for epoch in range(1,200):\n",
    "    if epoch%100==0:\n",
    "      learning_rate=learning_rate/2   \n",
    "       \n",
    "    optimizer=torch.optim.SGD( net.parameters() , lr=learning_rate )\n",
    "        \n",
    "    running_loss=0\n",
    "    running_error=0\n",
    "    num_batches=0\n",
    "    \n",
    "    \n",
    "    shuffled_indices=torch.randperm(range_val)\n",
    "    \n",
    " \n",
    "    for count in range(0,range_val,batch_size):\n",
    "        \n",
    "        # FORWARD AND BACKWARD PASS\n",
    "    \n",
    "        optimizer.zero_grad()\n",
    "             \n",
    "        indices=shuffled_indices[count:count+batch_size]\n",
    "        minibatch_data =  x_train[indices].unsqueeze(dim=1)\n",
    "        minibatch_label=  y_train[indices]\n",
    "        \n",
    "        #print(\"minibatch_data= \",minibatch_data.size())\n",
    "        #print(\"minibatch_label= \",minibatch_label.size())\n",
    "        \n",
    "        \n",
    "        minibatch_data=minibatch_data.to(torch.device(\"cuda\"))\n",
    "        minibatch_label=minibatch_label.to(torch.device(\"cuda\"))\n",
    "        \n",
    "        inputs = (minibatch_data - mean)/std      \n",
    "        \n",
    "        inputs.requires_grad_()\n",
    "                \n",
    "        scores=net( inputs ) \n",
    "        #print(\"SCores=\", scores.size())\n",
    "\n",
    "        loss =  criterion( scores , minibatch_label) \n",
    "          \n",
    "        loss.backward()\n",
    "        \n",
    "        optimizer.step()\n",
    "        \n",
    "\n",
    "               \n",
    "        running_loss += loss.detach().item()\n",
    "        \n",
    "        error = get_error( scores.detach() , minibatch_label)\n",
    "        running_error += error.item()\n",
    "          \n",
    "        num_batches+=1        \n",
    "    \n",
    "    \n",
    "    # AVERAGE STATS THEN DISPLAY\n",
    "    total_loss = running_loss/num_batches\n",
    "    total_error = running_error/num_batches\n",
    "    elapsed = (time.time()-start)/60\n",
    "\n",
    "    if epoch%20==0:\n",
    "      print('epoch=',epoch, '\\t time=', elapsed,'min', '\\t learning rate=', learning_rate  ,'\\t loss=', total_loss , '\\t error=', total_error*100 ,'percent')\n",
    "      error_axis_test = eval_on_test_set(error_axis_test)\n",
    "      epoch_axis_test.append(epoch)\n",
    "      print(' ')\n",
    "    \n",
    "    epoch_axis_train.append(epoch)\n",
    "    error_axis_train.append(error*100)"
   ]
  },
  {
   "cell_type": "markdown",
   "metadata": {
    "colab_type": "text",
    "id": "DuFWprTGJS6w"
   },
   "source": [
    "# Training set plots"
   ]
  },
  {
   "cell_type": "code",
   "execution_count": 266,
   "metadata": {
    "colab": {
     "base_uri": "https://localhost:8080/",
     "height": 610
    },
    "colab_type": "code",
    "id": "Q-pSXAb-EH8g",
    "outputId": "0529012d-b1ff-4cb4-844f-828ce9deee0d"
   },
   "outputs": [
    {
     "name": "stdout",
     "output_type": "stream",
     "text": [
      "Mean error on train set= 6.143216 % \n",
      "\n"
     ]
    },
    {
     "data": {
      "image/png": "[encoded data removed]",
      "text/plain": [
       "<Figure size 432x288 with 1 Axes>"
      ]
     },
     "metadata": {
      "tags": []
     },
     "output_type": "display_data"
    },
    {
     "name": "stdout",
     "output_type": "stream",
     "text": [
      "\n",
      "\n"
     ]
    },
    {
     "data": {
      "image/png": "[encoded data removed]",
      "text/plain": [
       "<Figure size 432x288 with 1 Axes>"
      ]
     },
     "metadata": {
      "tags": []
     },
     "output_type": "display_data"
    }
   ],
   "source": [
    "l=list()\n",
    "for i in error_axis_train:\n",
    "  l.append(i.cpu().detach().numpy())\n",
    "\n",
    "mean=np.mean(l)\n",
    "print(\"Mean error on train set=\",mean,\"% \\n\")\n",
    "plt.plot(epoch_axis_train,error_axis_train)\n",
    "plt.title(\"Training set data (Epochs vs Error(%))\")\n",
    "plt.xlabel(\"Number of epochs\")\n",
    "plt.ylabel(\"Error on training set (%)\")\n",
    "plt.show()\n",
    "explode=(0.05,0.05)\n",
    "\n",
    "print(\"\\n\")\n",
    "labels=[\"False prediction\",\"True prediction\"]\n",
    "plt.pie([mean,100-mean],labels=labels,autopct='%1.1f%%',explode=explode)\n",
    "plt.title(\"Pie plot for mean error on train set\")\n",
    "plt.show()"
   ]
  },
  {
   "cell_type": "markdown",
   "metadata": {
    "colab_type": "text",
    "id": "pFLtkFxtLOYE"
   },
   "source": [
    "# Test set plots"
   ]
  },
  {
   "cell_type": "code",
   "execution_count": 267,
   "metadata": {
    "colab": {
     "base_uri": "https://localhost:8080/",
     "height": 610
    },
    "colab_type": "code",
    "id": "p9vwdu1HLVWg",
    "outputId": "08458119-921b-440d-9b60-4fa017fd1c7e"
   },
   "outputs": [
    {
     "name": "stdout",
     "output_type": "stream",
     "text": [
      "Mean error on test set= 19.25308851548183 % \n",
      "\n"
     ]
    },
    {
     "data": {
      "image/png": "[encoded data removed]",
      "text/plain": [
       "<Figure size 432x288 with 1 Axes>"
      ]
     },
     "metadata": {
      "tags": []
     },
     "output_type": "display_data"
    },
    {
     "name": "stdout",
     "output_type": "stream",
     "text": [
      "\n",
      "\n"
     ]
    },
    {
     "data": {
      "image/png": "[encoded data removed]",
      "text/plain": [
       "<Figure size 432x288 with 1 Axes>"
      ]
     },
     "metadata": {
      "tags": []
     },
     "output_type": "display_data"
    }
   ],
   "source": [
    "print(\"Mean error on test set=\",np.mean(error_axis_test),\"% \\n\")\n",
    "plt.plot(epoch_axis_test,error_axis_test)\n",
    "plt.title(\"Test set data (Epochs vs Error(%))\")\n",
    "plt.xlabel(\"Number of epochs\")\n",
    "plt.ylabel(\"Error on test set (%)\")\n",
    "plt.show()\n",
    "print(\"\\n\")\n",
    "plt.pie([min(error_axis_test),100-min(error_axis_test)],labels=labels,autopct='%1.1f%%',explode=explode)\n",
    "plt.title(\"Pie plot for min error on test set\")\n",
    "plt.show()"
   ]
  }
 ],
 "metadata": {
  "accelerator": "GPU",
  "colab": {
   "collapsed_sections": [],
   "name": "conv1d_frequency_SMOTE_10s_f5.ipynb",
   "provenance": []
  },
  "kernelspec": {
   "display_name": "Python 3",
   "language": "python",
   "name": "python3"
  },
  "language_info": {
   "codemirror_mode": {
    "name": "ipython",
    "version": 3
   },
   "file_extension": ".py",
   "mimetype": "text/x-python",
   "name": "python",
   "nbconvert_exporter": "python",
   "pygments_lexer": "ipython3",
   "version": "3.7.3"
  }
 },
 "nbformat": 4,
 "nbformat_minor": 1
}
