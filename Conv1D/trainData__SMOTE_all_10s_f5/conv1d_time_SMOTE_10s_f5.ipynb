{
  "nbformat": 4,
  "nbformat_minor": 0,
  "metadata": {
    "accelerator": "GPU",
    "colab": {
      "name": "conv1d_time_SMOTE_10s_f5.ipynb",
      "provenance": []
    },
    "kernelspec": {
      "display_name": "Python 3",
      "language": "python",
      "name": "python3"
    },
    "language_info": {
      "codemirror_mode": {
        "name": "ipython",
        "version": 3
      },
      "file_extension": ".py",
      "mimetype": "text/x-python",
      "name": "python",
      "nbconvert_exporter": "python",
      "pygments_lexer": "ipython3",
      "version": "3.7.3"
    }
  },
  "cells": [
    {
      "cell_type": "code",
      "metadata": {
        "colab_type": "code",
        "id": "MbOZcEqGN_Xp",
        "outputId": "a07d3cd3-57b2-46fe-9384-7c0cd9e60130",
        "colab": {
          "base_uri": "https://localhost:8080/",
          "height": 84
        }
      },
      "source": [
        "# For Google Colaboratory\n",
        "import sys, os\n",
        "if 'google.colab' in sys.modules:\n",
        "    from google.colab import drive\n",
        "    drive.mount('/content/gdrive')\n",
        "    file_name = 'conv1d.ipynb'\n",
        "    import subprocess\n",
        "    path_to_file = subprocess.check_output('find . -type f -name ' + str(file_name), shell=True).decode(\"utf-8\")\n",
        "    print(path_to_file)\n",
        "    path_to_file = path_to_file.replace(file_name,\"\").replace('\\n',\"\")\n",
        "    os.chdir(path_to_file)\n",
        "    !pwd4/rwG2zPYz5nLw4oxBo_eyUAEiKbHKef-aAv0iLRHPbfc_HJc1tMyuWYo"
      ],
      "execution_count": 110,
      "outputs": [
        {
          "output_type": "stream",
          "text": [
            "Drive already mounted at /content/gdrive; to attempt to forcibly remount, call drive.mount(\"/content/gdrive\", force_remount=True).\n",
            "./conv1d.ipynb\n",
            "\n",
            "/bin/bash: pwd4/rwG2zPYz5nLw4oxBo_eyUAEiKbHKef-aAv0iLRHPbfc_HJc1tMyuWYo: No such file or directory\n"
          ],
          "name": "stdout"
        }
      ]
    },
    {
      "cell_type": "code",
      "metadata": {
        "colab_type": "code",
        "id": "pgejNjIVC7sL",
        "colab": {}
      },
      "source": [
        "import torch\n",
        "import torch.nn as nn\n",
        "import numpy as np\n",
        "import time\n",
        "import torch.nn.functional as F\n",
        "import random\n",
        "from matplotlib import pyplot as plt"
      ],
      "execution_count": 0,
      "outputs": []
    },
    {
      "cell_type": "markdown",
      "metadata": {
        "id": "RDqhiMVd06Qw",
        "colab_type": "text"
      },
      "source": [
        "# Data loader"
      ]
    },
    {
      "cell_type": "code",
      "metadata": {
        "colab_type": "code",
        "id": "Gh8VhswyHl21",
        "outputId": "b8aba34b-cf0e-4ed0-9f4a-f5393e9cedb2",
        "colab": {
          "base_uri": "https://localhost:8080/",
          "height": 101
        }
      },
      "source": [
        "trainer=np.load(\"trainData__SMOTE_all_10s_f5.npz\",\"rb\")\n",
        "tester=np.load(\"trainData__SMOTE_all_10s_f5_TEST.npz\", \"rb\")\n",
        "\n",
        "x_train=torch.from_numpy(trainer['x'][:])\n",
        "y_train=torch.from_numpy(trainer['y'][:])\n",
        "y_train=y_train.long()\n",
        "\n",
        "x_test=torch.from_numpy(tester['x'][:])\n",
        "y_test=torch.from_numpy(tester['y'][:])\n",
        "y_test=y_test.long()\n",
        "\n",
        "print(\"Training data size= \",x_train.size(), \"\\t\\tTraining label size= \",y_train.size(),sep=\"\\t\")\n",
        "print(\"Testing data size= \", x_test.size(), \"\\t\\tTesting label size= \", y_test.size(),sep=\"\\t\")\n",
        "\n",
        "#REshape x_test and y_test into x_train and y_train dimensions\n",
        "\n",
        "x_test=x_test.view(-1,3000)\n",
        "y_test=y_test.view(-1,)\n",
        "\n",
        "print(\"\\n\\nReshaped Testing data size= \", x_test.size(), \"\\t\\tReshaped Testing label size= \", y_test.size(),sep=\"\\t\")"
      ],
      "execution_count": 112,
      "outputs": [
        {
          "output_type": "stream",
          "text": [
            "Training data size= \ttorch.Size([56940, 3000])\t\t\tTraining label size= \ttorch.Size([56940])\n",
            "Testing data size= \ttorch.Size([1847, 1, 3000])\t\t\tTesting label size= \ttorch.Size([1847, 1])\n",
            "\n",
            "\n",
            "Reshaped Testing data size= \ttorch.Size([1847, 3000])\t\t\tReshaped Testing label size= \ttorch.Size([1847])\n"
          ],
          "name": "stdout"
        }
      ]
    },
    {
      "cell_type": "code",
      "metadata": {
        "colab_type": "code",
        "id": "587waHg8CdzW",
        "outputId": "1598f6d9-328e-43ff-a5d4-2067664d91ae",
        "colab": {
          "base_uri": "https://localhost:8080/",
          "height": 34
        }
      },
      "source": [
        "std= x_train.std()\n",
        "mean=x_train.mean()\n",
        "batch_size = 100\n",
        "learning_rate = 0.01\n",
        "range_val=len(x_train)-batch_size\n",
        "\n",
        "print(std,mean,sep=\"  \")"
      ],
      "execution_count": 113,
      "outputs": [
        {
          "output_type": "stream",
          "text": [
            "tensor(0.9657)  tensor(-1.0283e-09)\n"
          ],
          "name": "stdout"
        }
      ]
    },
    {
      "cell_type": "markdown",
      "metadata": {
        "id": "zZ29RSUt06Q3",
        "colab_type": "text"
      },
      "source": [
        "# Architecture"
      ]
    },
    {
      "cell_type": "code",
      "metadata": {
        "colab_type": "code",
        "id": "AnM0JqY4CacW",
        "colab": {}
      },
      "source": [
        "class ConvNet(nn.Module):\n",
        "    def __init__(self):\n",
        "        super(ConvNet,self).__init__()\n",
        "        \n",
        "        #Pool and activation fn's here \n",
        "        activation=nn.ReLU()       \n",
        "        pool_8 = nn.MaxPool1d(kernel_size=8,stride=8) #Size=8\n",
        "        pool_4 = nn.MaxPool1d(kernel_size=4,stride=4) #Size=4\n",
        "        pool_2 = nn.MaxPool1d(kernel_size=2,stride=2) #Size=2\n",
        "        \n",
        "        #Dropout\n",
        "        self.drop_out = nn.Dropout()\n",
        "        \n",
        "        \n",
        "        #ConvNet time\n",
        "        conv1_t=nn.Conv1d (1, 64, kernel_size=50,stride=6,padding=1)\n",
        "        self.conv2_t=nn.Conv1d(64,128,kernel_size=8,stride=1,padding=1)\n",
        "        self.conv3_t=nn.Conv1d(128,128,kernel_size=8,stride=1,padding=1)\n",
        "        conv4_t=nn.Conv1d(128,128,kernel_size=8,stride=1,padding=1)\n",
        "        \n",
        "        #Layers time\n",
        "        self.layer1_t=nn.Sequential(conv1_t,activation,pool_8)\n",
        "        self.layer2_t=nn.Sequential(conv4_t,activation,pool_4)      \n",
        "        \n",
        "        \n",
        "        self.layer=nn.Sequential(nn.Linear(1408,5,bias=False),activation)\n",
        "        \n",
        "        \n",
        "    def forward(self,x):\n",
        "        \n",
        "        \n",
        "        #Time here\n",
        "        out_t=self.layer1_t(x)\n",
        "        out_t=self.drop_out(out_t)  #DropOut\n",
        "        out_t=self.conv2_t(out_t)\n",
        "        out_t=self.conv3_t(out_t)\n",
        "        out_t=self.layer2_t(out_t)\n",
        "        out=out_t.view(-1,1408)\n",
        "        \n",
        "        \n",
        "        out=self.layer(out)\n",
        "        \n",
        "        return out"
      ],
      "execution_count": 0,
      "outputs": []
    },
    {
      "cell_type": "markdown",
      "metadata": {
        "id": "Ge6YZGW806Q7",
        "colab_type": "text"
      },
      "source": [
        "# Initialization"
      ]
    },
    {
      "cell_type": "code",
      "metadata": {
        "colab_type": "code",
        "id": "yUJLes1LIey_",
        "outputId": "8143abed-bd4f-4d49-b150-e594bca218bf",
        "colab": {
          "base_uri": "https://localhost:8080/",
          "height": 336
        }
      },
      "source": [
        "net=ConvNet()\n",
        "print(net)\n",
        "net = net.to(torch.device(\"cuda\"))\n",
        "\n",
        "mean=mean.to(torch.device(\"cuda\"))\n",
        "\n",
        "std=std.to(torch.device(\"cuda\"))\n",
        "criterion = nn.CrossEntropyLoss()"
      ],
      "execution_count": 115,
      "outputs": [
        {
          "output_type": "stream",
          "text": [
            "ConvNet(\n",
            "  (drop_out): Dropout(p=0.5, inplace=False)\n",
            "  (conv2_t): Conv1d(64, 128, kernel_size=(8,), stride=(1,), padding=(1,))\n",
            "  (conv3_t): Conv1d(128, 128, kernel_size=(8,), stride=(1,), padding=(1,))\n",
            "  (layer1_t): Sequential(\n",
            "    (0): Conv1d(1, 64, kernel_size=(50,), stride=(6,), padding=(1,))\n",
            "    (1): ReLU()\n",
            "    (2): MaxPool1d(kernel_size=8, stride=8, padding=0, dilation=1, ceil_mode=False)\n",
            "  )\n",
            "  (layer2_t): Sequential(\n",
            "    (0): Conv1d(128, 128, kernel_size=(8,), stride=(1,), padding=(1,))\n",
            "    (1): ReLU()\n",
            "    (2): MaxPool1d(kernel_size=4, stride=4, padding=0, dilation=1, ceil_mode=False)\n",
            "  )\n",
            "  (layer): Sequential(\n",
            "    (0): Linear(in_features=1408, out_features=5, bias=False)\n",
            "    (1): ReLU()\n",
            "  )\n",
            ")\n"
          ],
          "name": "stdout"
        }
      ]
    },
    {
      "cell_type": "markdown",
      "metadata": {
        "id": "zRXQ7dnq06RA",
        "colab_type": "text"
      },
      "source": [
        "# Error generate"
      ]
    },
    {
      "cell_type": "code",
      "metadata": {
        "colab_type": "code",
        "id": "BcK4RlblszdB",
        "colab": {}
      },
      "source": [
        "def get_error(scores,labels):\n",
        "  \n",
        "  batch_size = scores.size(0)\n",
        "  predicted_labels = scores.argmax(dim=1)\n",
        "  indicator = (predicted_labels == labels)\n",
        "  num_matches=indicator.sum()\n",
        "  \n",
        "  return 1-num_matches.float()/batch_size"
      ],
      "execution_count": 0,
      "outputs": []
    },
    {
      "cell_type": "markdown",
      "metadata": {
        "id": "0dahsTDC06RE",
        "colab_type": "text"
      },
      "source": [
        "# Test set check"
      ]
    },
    {
      "cell_type": "code",
      "metadata": {
        "colab_type": "code",
        "id": "EEktdwk7AJui",
        "colab": {}
      },
      "source": [
        "def eval_on_test_set(error_axis_test):\n",
        "\n",
        "    running_error=0\n",
        "    num_batches=0\n",
        "\n",
        "    for i in range(0,len(x_test)-batch_size,batch_size):\n",
        "\n",
        "        minibatch_data =  x_test[i:i+batch_size].unsqueeze(dim=1)\n",
        "        minibatch_label= y_test[i:i+batch_size]\n",
        "\n",
        "        minibatch_data=minibatch_data.to(torch.device(\"cuda\"))\n",
        "        minibatch_label=minibatch_label.to(torch.device(\"cuda\"))\n",
        "        \n",
        "        inputs = (minibatch_data - mean)/std  \n",
        "\n",
        "        scores=net( inputs ) \n",
        "\n",
        "        error = get_error( scores , minibatch_label)\n",
        "\n",
        "        running_error += error.item()\n",
        "\n",
        "        num_batches+=1\n",
        "\n",
        "\n",
        "    total_error = running_error/num_batches\n",
        "    error_axis_test.append(total_error*100)\n",
        "    print( 'error rate on test set =', total_error*100 ,'percent')\n",
        "    return error_axis_test"
      ],
      "execution_count": 0,
      "outputs": []
    },
    {
      "cell_type": "markdown",
      "metadata": {
        "id": "LtrxBqVl06RI",
        "colab_type": "text"
      },
      "source": [
        "# Training the network"
      ]
    },
    {
      "cell_type": "code",
      "metadata": {
        "colab_type": "code",
        "id": "eql7XYu6__BW",
        "outputId": "665053e1-2eb0-424e-df23-a4b2ae6de8ce",
        "colab": {
          "base_uri": "https://localhost:8080/",
          "height": 470
        }
      },
      "source": [
        "start=time.time()\n",
        "epoch_axis_train=list()\n",
        "error_axis_train=list()\n",
        "\n",
        "error_axis_test=list()\n",
        "epoch_axis_test=list()\n",
        "\n",
        "\n",
        "for epoch in range(1,200):\n",
        "    if epoch%100==0:\n",
        "      learning_rate=learning_rate/2\n",
        "    \n",
        "       \n",
        "    optimizer=torch.optim.SGD( net.parameters() , lr=learning_rate )\n",
        "        \n",
        "    running_loss=0\n",
        "    running_error=0\n",
        "    num_batches=0\n",
        "    \n",
        "    shuffled_indices=torch.randperm(range_val)\n",
        " \n",
        "    for count in range(0,range_val,batch_size):\n",
        "        \n",
        "        # FORWARD AND BACKWARD PASS\n",
        "    \n",
        "        optimizer.zero_grad()\n",
        "             \n",
        "        indices=shuffled_indices[count:count+batch_size]\n",
        "        minibatch_data =  x_train[indices].unsqueeze(dim=1)\n",
        "        minibatch_label=  y_train[indices]\n",
        "        \n",
        "        #print(\"minibatch_data= \",minibatch_data.size())\n",
        "        #print(\"minibatch_label= \",minibatch_label.size())\n",
        "        \n",
        "        \n",
        "        minibatch_data=minibatch_data.to(torch.device(\"cuda\"))\n",
        "        minibatch_label=minibatch_label.to(torch.device(\"cuda\"))\n",
        "        \n",
        "        inputs = (minibatch_data - mean)/std      \n",
        "        \n",
        "        inputs.requires_grad_()\n",
        "                \n",
        "        scores=net( inputs ) \n",
        "        #print(\"SCores=\", scores.size())\n",
        "\n",
        "        loss =  criterion( scores , minibatch_label) \n",
        "          \n",
        "        loss.backward()\n",
        "        \n",
        "        optimizer.step()\n",
        "\n",
        "        running_loss += loss.detach().item()\n",
        "        \n",
        "        error = get_error( scores.detach() , minibatch_label)\n",
        "        running_error += error.item()\n",
        "          \n",
        "        num_batches+=1        \n",
        "    \n",
        "    \n",
        "    # AVERAGE STATS THEN DISPLAY\n",
        "    total_loss = running_loss/num_batches\n",
        "    total_error = running_error/num_batches\n",
        "    elapsed = (time.time()-start)/60\n",
        "    \n",
        "    if epoch%20==0:\n",
        "      print('epoch=',epoch, '\\t time=', elapsed,'min', '\\t learning rate=', learning_rate  ,'\\t loss=', total_loss , '\\t error=', total_error*100 ,'percent')\n",
        "      error_axis_test = eval_on_test_set(error_axis_test)\n",
        "      epoch_axis_test.append(epoch)\n",
        "      print(' ')\n",
        "\n",
        "    epoch_axis_train.append(epoch)\n",
        "    error_axis_train.append(error*100)\n",
        "      \n",
        "    "
      ],
      "execution_count": 118,
      "outputs": [
        {
          "output_type": "stream",
          "text": [
            "epoch= 20 \t time= 3.746885120868683 min \t learning rate= 0.01 \t loss= 0.4738992435860927 \t error= 18.08611808217054 percent\n",
            "error rate on test set = 15.611113442314995 percent\n",
            " \n",
            "epoch= 40 \t time= 7.492813889185587 min \t learning rate= 0.01 \t loss= 0.39495319329686657 \t error= 15.057998581385151 percent\n",
            "error rate on test set = 17.277779512935215 percent\n",
            " \n",
            "epoch= 60 \t time= 11.239299794038137 min \t learning rate= 0.01 \t loss= 0.34349883686888616 \t error= 12.931460843982931 percent\n",
            "error rate on test set = 16.388890809482998 percent\n",
            " \n",
            "epoch= 80 \t time= 15.0007843653361 min \t learning rate= 0.01 \t loss= 0.30077161224843746 \t error= 11.118631193214643 percent\n",
            "error rate on test set = 15.388891432020399 percent\n",
            " \n",
            "epoch= 100 \t time= 18.74403468767802 min \t learning rate= 0.005 \t loss= 0.2516430765390396 \t error= 9.283833197843421 percent\n",
            "error rate on test set = 15.166669421725803 percent\n",
            " \n",
            "epoch= 120 \t time= 22.49238221247991 min \t learning rate= 0.005 \t loss= 0.23196026761418695 \t error= 8.720564182278142 percent\n",
            "error rate on test set = 16.11111263434092 percent\n",
            " \n",
            "epoch= 140 \t time= 26.24203596909841 min \t learning rate= 0.005 \t loss= 0.2228855824454807 \t error= 8.212655541766926 percent\n",
            "error rate on test set = 14.166669050852457 percent\n",
            " \n",
            "epoch= 160 \t time= 29.998923726876576 min \t learning rate= 0.005 \t loss= 0.21193879734076598 \t error= 7.896310949995983 percent\n",
            "error rate on test set = 17.61111319065094 percent\n",
            " \n",
            "epoch= 180 \t time= 33.74559141000112 min \t learning rate= 0.005 \t loss= 0.20330132900202003 \t error= 7.514061575824221 percent\n",
            "error rate on test set = 15.777779618899027 percent\n",
            " \n"
          ],
          "name": "stdout"
        }
      ]
    },
    {
      "cell_type": "markdown",
      "metadata": {
        "id": "lWdSVdmfJH-N",
        "colab_type": "text"
      },
      "source": [
        "# Training set plots"
      ]
    },
    {
      "cell_type": "code",
      "metadata": {
        "id": "WBEechis86zb",
        "colab_type": "code",
        "outputId": "15929139-49fe-4a4f-b073-43579381d294",
        "colab": {
          "base_uri": "https://localhost:8080/",
          "height": 610
        }
      },
      "source": [
        "l=list()\n",
        "for i in error_axis_train:\n",
        "  l.append(i.cpu().detach().numpy())\n",
        "\n",
        "mean=np.mean(l)\n",
        "print(\"Mean error on train set=\",mean,\"% \\n\")\n",
        "plt.plot(epoch_axis_train,error_axis_train)\n",
        "plt.title(\"Training set data (Epochs vs Error(%))\")\n",
        "plt.xlabel(\"Number of epochs\")\n",
        "plt.ylabel(\"Error on training set (%)\")\n",
        "plt.show()\n",
        "explode=(0.05,0.05)\n",
        "\n",
        "print(\"\\n\")\n",
        "labels=[\"False prediction\",\"True prediction\"]\n",
        "plt.pie([mean,100-mean],labels=labels,autopct='%1.1f%%',explode=explode)\n",
        "plt.title(\"Pie plot for mean error on train set\")\n",
        "plt.show()"
      ],
      "execution_count": 119,
      "outputs": [
        {
          "output_type": "stream",
          "text": [
            "Mean error on train set= 12.060302 % \n",
            "\n"
          ],
          "name": "stdout"
        },
        {
          "output_type": "display_data",
          "data": {
            "image/png": "[encoded data removed]",
            "text/plain": [
              "<Figure size 432x288 with 1 Axes>"
            ]
          },
          "metadata": {
            "tags": []
          }
        },
        {
          "output_type": "stream",
          "text": [
            "\n",
            "\n"
          ],
          "name": "stdout"
        },
        {
          "output_type": "display_data",
          "data": {
            "image/png": "[encoded data removed]",
            "text/plain": [
              "<Figure size 432x288 with 1 Axes>"
            ]
          },
          "metadata": {
            "tags": []
          }
        }
      ]
    },
    {
      "cell_type": "markdown",
      "metadata": {
        "id": "T7MTdFJULqg4",
        "colab_type": "text"
      },
      "source": [
        "# Test set plots"
      ]
    },
    {
      "cell_type": "code",
      "metadata": {
        "id": "EAkWJ7xdLu5H",
        "colab_type": "code",
        "outputId": "e7f19c71-8c3b-42a3-b4b0-6f460096c034",
        "colab": {
          "base_uri": "https://localhost:8080/",
          "height": 610
        }
      },
      "source": [
        "print(\"Mean error on test set=\",np.mean(error_axis_test),\"% \\n\")\n",
        "plt.plot(epoch_axis_test,error_axis_test)\n",
        "plt.title(\"Test set data (Epochs vs Error(%))\")\n",
        "plt.xlabel(\"Number of epochs\")\n",
        "plt.ylabel(\"Error on test set (%)\")\n",
        "plt.show()\n",
        "print(\"\\n\")\n",
        "plt.pie([min(error_axis_test),100-min(error_axis_test)],labels=labels,autopct='%1.1f%%',explode=explode)\n",
        "plt.title(\"Pie plot for min error on test set\")\n",
        "plt.show()"
      ],
      "execution_count": 120,
      "outputs": [
        {
          "output_type": "stream",
          "text": [
            "Mean error on test set= 15.944446568135861 % \n",
            "\n"
          ],
          "name": "stdout"
        },
        {
          "output_type": "display_data",
          "data": {
            "image/png": "[encoded data removed]",
            "text/plain": [
              "<Figure size 432x288 with 1 Axes>"
            ]
          },
          "metadata": {
            "tags": []
          }
        },
        {
          "output_type": "stream",
          "text": [
            "\n",
            "\n"
          ],
          "name": "stdout"
        },
        {
          "output_type": "display_data",
          "data": {
            "image/png": "[encoded data removed]",
            "text/plain": [
              "<Figure size 432x288 with 1 Axes>"
            ]
          },
          "metadata": {
            "tags": []
          }
        }
      ]
    }
  ]
}