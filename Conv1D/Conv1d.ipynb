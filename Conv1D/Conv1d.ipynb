{
 "cells": [
  {
   "cell_type": "code",
   "execution_count": 88,
   "metadata": {},
   "outputs": [],
   "source": [
    "import torch\n",
    "import torch.nn as nn\n",
    "from torch.utils.data import DataLoader\n",
    "import torchvision.transforms as transforms"
   ]
  },
  {
   "cell_type": "code",
   "execution_count": 224,
   "metadata": {},
   "outputs": [
    {
     "ename": "SyntaxError",
     "evalue": "invalid syntax (<ipython-input-224-67ee11b24292>, line 67)",
     "output_type": "error",
     "traceback": [
      "\u001b[1;36m  File \u001b[1;32m\"<ipython-input-224-67ee11b24292>\"\u001b[1;36m, line \u001b[1;32m67\u001b[0m\n\u001b[1;33m    print(\"Output size=  \"out.size())\u001b[0m\n\u001b[1;37m                            ^\u001b[0m\n\u001b[1;31mSyntaxError\u001b[0m\u001b[1;31m:\u001b[0m invalid syntax\n"
     ]
    }
   ],
   "source": [
    "#num_epochs = 5\n",
    "#num_classes = 10\n",
    "#batch_size = 100\n",
    "learning_rate = 0.001\n",
    "\n",
    "class ConvNet(nn.Module):\n",
    "    def __init__(self):\n",
    "        super(ConvNet,self).__init__()\n",
    "        \n",
    "        #Pool and activation fn's here \n",
    "        activation=nn.ReLU()       \n",
    "        pool_8 = nn.MaxPool1d(kernel_size=8,stride=8) #Size=8\n",
    "        pool_4 = nn.MaxPool1d(kernel_size=4,stride=4) #Size=4\n",
    "        pool_2 = nn.MaxPool1d(kernel_size=2,stride=2) #Size=2\n",
    "        \n",
    "        #Dropout\n",
    "        self.drop_out = nn.Dropout()\n",
    "        \n",
    "        \n",
    "        #ConvNet time\n",
    "        conv1_t=nn.Conv1d (1, 64, kernel_size=50,stride=6,padding=1)\n",
    "        self.conv2_t=nn.Conv1d(64,128,kernel_size=8,stride=1,padding=1)\n",
    "        self.conv3_t=nn.Conv1d(128,128,kernel_size=8,stride=1,padding=1)\n",
    "        conv4_t=nn.Conv1d(128,128,kernel_size=8,stride=1,padding=1)\n",
    "        \n",
    "        #Layers time\n",
    "        self.layer1_t=nn.Sequential(conv1_t,activation,pool_8)\n",
    "        self.layer2_t=nn.Sequential(conv4_t,activation,pool_4)\n",
    "        \n",
    "        #ConvNet freq\n",
    "        \n",
    "        conv1_f=nn.Conv1d(1,  64,  kernel_size=400, stride=50,padding=1)\n",
    "        self.conv2_f=nn.Conv1d(64, 128, kernel_size=6,   stride=1,padding=1)\n",
    "        self.conv3_f=nn.Conv1d(128,128, kernel_size=6,   stride=1,padding=1)\n",
    "        conv4_f=nn.Conv1d(128,128, kernel_size=6,   stride=1,padding=1)\n",
    "        \n",
    "        \n",
    "        #Layers freq\n",
    "        \n",
    "        self.layer1_f=nn.Sequential(conv1_f, activation, pool_4)\n",
    "        self.layer2_f=nn.Sequential(conv4_f, activation, pool_2)\n",
    "        \n",
    "        \n",
    "        \n",
    "   \n",
    "    def forward(self,x):\n",
    "        \n",
    "        \n",
    "        #Time here\n",
    "        out_t=self.layer1_t(x)\n",
    "        out_t=self.drop_out(out_t)  #DropOut\n",
    "        out_t=self.conv2_t(out_t)\n",
    "        out_t=self.conv3_t(out_t)\n",
    "        out_t=self.layer2_t(out_t)\n",
    "        \n",
    "        #Freq here\n",
    "        \n",
    "        out_f=self.layer1_f(x)\n",
    "        out_f=self.drop_out(out_f)  #DropOut\n",
    "        out_f=self.conv2_f(out_f)\n",
    "        out_f=self.conv3_f(out_f)\n",
    "        out_f=self.layer2_f(out_f)\n",
    "        \n",
    "        out=torch.cat((out_t,out_f),2)  #Concat\n",
    "        out=self.drop_out(out)   #DropOut\n",
    "        \n",
    "        print(\"Output size=  \"out.size())\n",
    "        return out\n",
    "        \n",
    "        #concatenation here\n",
    "        '''\n",
    "        out_concat=self.drop_out(out_concat)\n",
    "        \n",
    "        '''\n",
    "        "
   ]
  },
  {
   "cell_type": "code",
   "execution_count": 225,
   "metadata": {},
   "outputs": [
    {
     "name": "stdout",
     "output_type": "stream",
     "text": [
      "ConvNet(\n",
      "  (drop_out): Dropout(p=0.5)\n",
      "  (conv2_t): Conv1d(64, 128, kernel_size=(8,), stride=(1,), padding=(1,))\n",
      "  (conv3_t): Conv1d(128, 128, kernel_size=(8,), stride=(1,), padding=(1,))\n",
      "  (layer1_t): Sequential(\n",
      "    (0): Conv1d(1, 64, kernel_size=(50,), stride=(6,), padding=(1,))\n",
      "    (1): ReLU()\n",
      "    (2): MaxPool1d(kernel_size=8, stride=8, padding=0, dilation=1, ceil_mode=False)\n",
      "  )\n",
      "  (layer2_t): Sequential(\n",
      "    (0): Conv1d(128, 128, kernel_size=(8,), stride=(1,), padding=(1,))\n",
      "    (1): ReLU()\n",
      "    (2): MaxPool1d(kernel_size=4, stride=4, padding=0, dilation=1, ceil_mode=False)\n",
      "  )\n",
      "  (conv2_f): Conv1d(64, 128, kernel_size=(6,), stride=(1,), padding=(1,))\n",
      "  (conv3_f): Conv1d(128, 128, kernel_size=(6,), stride=(1,), padding=(1,))\n",
      "  (layer1_f): Sequential(\n",
      "    (0): Conv1d(1, 64, kernel_size=(400,), stride=(50,), padding=(1,))\n",
      "    (1): ReLU()\n",
      "    (2): MaxPool1d(kernel_size=4, stride=4, padding=0, dilation=1, ceil_mode=False)\n",
      "  )\n",
      "  (layer2_f): Sequential(\n",
      "    (0): Conv1d(128, 128, kernel_size=(6,), stride=(1,), padding=(1,))\n",
      "    (1): ReLU()\n",
      "    (2): MaxPool1d(kernel_size=2, stride=2, padding=0, dilation=1, ceil_mode=False)\n",
      "  )\n",
      ")\n"
     ]
    }
   ],
   "source": [
    "model=ConvNet()\n",
    "\n",
    "print(model)\n",
    "\n",
    "criterion=nn.CrossEntropyLoss()\n",
    "optimizer=torch.optim.Adam(model.parameters(),lr=learning_rate)"
   ]
  },
  {
   "cell_type": "code",
   "execution_count": 226,
   "metadata": {},
   "outputs": [
    {
     "data": {
      "text/plain": [
       "tensor([[[0.8123, 0.6750, 0.6556,  ..., 0.0788, 0.1268, 0.4534]]])"
      ]
     },
     "execution_count": 226,
     "metadata": {},
     "output_type": "execute_result"
    }
   ],
   "source": [
    "#bs=torch.randint(low=1,high=5,size=(1,))\n",
    "#print(bs)\n",
    "x=torch.rand(1,1,3000)\n",
    "x"
   ]
  },
  {
   "cell_type": "code",
   "execution_count": 227,
   "metadata": {},
   "outputs": [
    {
     "name": "stdout",
     "output_type": "stream",
     "text": [
      "torch.Size([1, 128, 13]) \n",
      "\n",
      "\n"
     ]
    }
   ],
   "source": [
    "y=model(x)"
   ]
  },
  {
   "cell_type": "code",
   "execution_count": 228,
   "metadata": {},
   "outputs": [
    {
     "name": "stdout",
     "output_type": "stream",
     "text": [
      "tensor([[[0.4608, 0.1437, 0.2634,  ..., 0.0000, 0.1395, 0.0000],\n",
      "         [0.3274, 0.1073, 0.0000,  ..., 0.0000, 0.1999, 0.0000],\n",
      "         [0.0000, 0.0000, 0.0000,  ..., 0.0000, 0.0066, 0.2327],\n",
      "         ...,\n",
      "         [0.0000, 0.0000, 0.0000,  ..., 0.1938, 0.0000, 0.0000],\n",
      "         [0.2394, 0.3751, 0.0000,  ..., 0.3639, 0.1942, 0.2994],\n",
      "         [0.0000, 0.2157, 0.0000,  ..., 0.0000, 0.0000, 0.0000]]],\n",
      "       grad_fn=<MulBackward0>)\n"
     ]
    }
   ],
   "source": [
    "print(y)"
   ]
  },
  {
   "cell_type": "code",
   "execution_count": null,
   "metadata": {},
   "outputs": [],
   "source": []
  }
 ],
 "metadata": {
  "kernelspec": {
   "display_name": "Python 3",
   "language": "python",
   "name": "python3"
  },
  "language_info": {
   "codemirror_mode": {
    "name": "ipython",
    "version": 3
   },
   "file_extension": ".py",
   "mimetype": "text/x-python",
   "name": "python",
   "nbconvert_exporter": "python",
   "pygments_lexer": "ipython3",
   "version": "3.7.3"
  }
 },
 "nbformat": 4,
 "nbformat_minor": 2
}
