{
  "nbformat": 4,
  "nbformat_minor": 0,
  "metadata": {
    "accelerator": "GPU",
    "colab": {
      "name": "conv1d_frequency_SMOTE_10s_f2.ipynb",
      "provenance": [],
      "collapsed_sections": []
    },
    "kernelspec": {
      "display_name": "Python 3",
      "language": "python",
      "name": "python3"
    },
    "language_info": {
      "codemirror_mode": {
        "name": "ipython",
        "version": 3
      },
      "file_extension": ".py",
      "mimetype": "text/x-python",
      "name": "python",
      "nbconvert_exporter": "python",
      "pygments_lexer": "ipython3",
      "version": "3.7.3"
    }
  },
  "cells": [
    {
      "cell_type": "code",
      "metadata": {
        "colab_type": "code",
        "outputId": "bff74b06-2b57-4c47-d25e-343a32ebf6a5",
        "id": "sKx7zSnms_gN",
        "colab": {
          "base_uri": "https://localhost:8080/",
          "height": 84
        }
      },
      "source": [
        "# For Google Colaboratory\n",
        "import sys, os\n",
        "if 'google.colab' in sys.modules:\n",
        "    from google.colab import drive\n",
        "    drive.mount('/content/gdrive')\n",
        "    file_name = 'conv1d.ipynb'\n",
        "    import subprocess\n",
        "    path_to_file = subprocess.check_output('find . -type f -name ' + str(file_name), shell=True).decode(\"utf-8\")\n",
        "    print(path_to_file)\n",
        "    path_to_file = path_to_file.replace(file_name,\"\").replace('\\n',\"\")\n",
        "    os.chdir(path_to_file)\n",
        "    !pwd4/rwG2zPYz5nLw4oxBo_eyUAEiKbHKef-aAv0iLRHPbfc_HJc1tMyuWYo"
      ],
      "execution_count": 224,
      "outputs": [
        {
          "output_type": "stream",
          "text": [
            "Drive already mounted at /content/gdrive; to attempt to forcibly remount, call drive.mount(\"/content/gdrive\", force_remount=True).\n",
            "./conv1d.ipynb\n",
            "\n",
            "/bin/bash: pwd4/rwG2zPYz5nLw4oxBo_eyUAEiKbHKef-aAv0iLRHPbfc_HJc1tMyuWYo: No such file or directory\n"
          ],
          "name": "stdout"
        }
      ]
    },
    {
      "cell_type": "code",
      "metadata": {
        "colab_type": "code",
        "id": "pgejNjIVC7sL",
        "colab": {}
      },
      "source": [
        "import torch\n",
        "import torch.nn as nn\n",
        "import numpy as np\n",
        "import time\n",
        "import torch.nn.functional as F\n",
        "import random\n",
        "from matplotlib import pyplot as plt"
      ],
      "execution_count": 0,
      "outputs": []
    },
    {
      "cell_type": "markdown",
      "metadata": {
        "id": "2GIb8rlD9vnk",
        "colab_type": "text"
      },
      "source": [
        "# Data loader"
      ]
    },
    {
      "cell_type": "code",
      "metadata": {
        "colab_type": "code",
        "id": "Gh8VhswyHl21",
        "outputId": "bc04ef44-fd07-4b50-9b91-722a9acfae74",
        "colab": {
          "base_uri": "https://localhost:8080/",
          "height": 101
        }
      },
      "source": [
        "trainer=np.load(\"trainData__SMOTE_all_10s_f2.npz\",\"rb\")\n",
        "tester=np.load(\"trainData__SMOTE_all_10s_f2_TEST.npz\", \"rb\")\n",
        "\n",
        "x_train=torch.from_numpy(trainer['x'][:])\n",
        "y_train=torch.from_numpy(trainer['y'][:])\n",
        "y_train=y_train.long()\n",
        "\n",
        "x_test=torch.from_numpy(tester['x'][:])\n",
        "y_test=torch.from_numpy(tester['y'][:])\n",
        "y_test=y_test.long()\n",
        "\n",
        "print(\"Training data size= \",x_train.size(), \"\\t\\tTraining label size= \",y_train.size(),sep=\"\\t\")\n",
        "print(\"Testing data size= \", x_test.size(), \"\\t\\tTesting label size= \", y_test.size(),sep=\"\\t\")\n",
        "\n",
        "#REshape x_test and y_test into x_train and y_train dimensions\n",
        "\n",
        "x_test=x_test.view(-1,3000)\n",
        "y_test=y_test.view(-1,)\n",
        "\n",
        "print(\"\\n\\nReshaped Testing data size= \", x_test.size(), \"\\t\\tReshaped Testing label size= \", y_test.size(),sep=\"\\t\")"
      ],
      "execution_count": 226,
      "outputs": [
        {
          "output_type": "stream",
          "text": [
            "Training data size= \ttorch.Size([57620, 3000])\t\t\tTraining label size= \ttorch.Size([57620])\n",
            "Testing data size= \ttorch.Size([1941, 1, 3000])\t\t\tTesting label size= \ttorch.Size([1941, 1])\n",
            "\n",
            "\n",
            "Reshaped Testing data size= \ttorch.Size([1941, 3000])\t\t\tReshaped Testing label size= \ttorch.Size([1941])\n"
          ],
          "name": "stdout"
        }
      ]
    },
    {
      "cell_type": "code",
      "metadata": {
        "colab_type": "code",
        "id": "587waHg8CdzW",
        "outputId": "4e18e581-5df8-4adc-f02d-fc3a4380ece7",
        "colab": {
          "base_uri": "https://localhost:8080/",
          "height": 34
        }
      },
      "source": [
        "std= x_train.std()\n",
        "mean=x_train.mean()\n",
        "batch_size = 100\n",
        "learning_rate = 0.01\n",
        "range_val=len(x_train)-batch_size\n",
        "\n",
        "print(std,mean,sep=\"  \")"
      ],
      "execution_count": 227,
      "outputs": [
        {
          "output_type": "stream",
          "text": [
            "tensor(0.9642)  tensor(2.2908e-09)\n"
          ],
          "name": "stdout"
        }
      ]
    },
    {
      "cell_type": "markdown",
      "metadata": {
        "id": "FSBG1MgZ9vnq",
        "colab_type": "text"
      },
      "source": [
        "# Architecture"
      ]
    },
    {
      "cell_type": "code",
      "metadata": {
        "colab_type": "code",
        "id": "AnM0JqY4CacW",
        "colab": {}
      },
      "source": [
        "class ConvNet(nn.Module):\n",
        "    def __init__(self):\n",
        "        super(ConvNet,self).__init__()\n",
        "        \n",
        "        #Pool and activation fn's here \n",
        "        activation=nn.ReLU()       \n",
        "        pool_8 = nn.MaxPool1d(kernel_size=8,stride=8) #Size=8\n",
        "        pool_4 = nn.MaxPool1d(kernel_size=4,stride=4) #Size=4\n",
        "        pool_2 = nn.MaxPool1d(kernel_size=2,stride=2) #Size=2\n",
        "        \n",
        "        #Dropout\n",
        "        self.drop_out = nn.Dropout()\n",
        "        \n",
        "        #ConvNet freq\n",
        "        \n",
        "        conv1_f=nn.Conv1d(1,  64,  kernel_size=400, stride=50,padding=1)\n",
        "        self.conv2_f=nn.Conv1d(64, 128, kernel_size=6,   stride=1,padding=1)\n",
        "        self.conv3_f=nn.Conv1d(128,128, kernel_size=6,   stride=1,padding=1)\n",
        "        conv4_f=nn.Conv1d(128,128, kernel_size=6,   stride=1,padding=1)\n",
        "        \n",
        "        \n",
        "        #Layers freq\n",
        "        \n",
        "        self.layer1_f=nn.Sequential(conv1_f, activation, pool_4)\n",
        "        self.layer2_f=nn.Sequential(conv4_f, activation, pool_2)\n",
        "        \n",
        "        self.layer=nn.Sequential(nn.Linear(256,5,bias=False),activation)\n",
        "        \n",
        "        \n",
        "        \n",
        "        \n",
        "   \n",
        "    def forward(self,x):\n",
        "        #Freq here\n",
        "        \n",
        "        out_f=self.layer1_f(x)\n",
        "        out_f=self.conv2_f(out_f)\n",
        "        out_f=self.conv3_f(out_f)\n",
        "        out_f=self.layer2_f(out_f)\n",
        "\n",
        "        #print(out_f.size())\n",
        "        #out=self.drop_out(out)   #DropOut\n",
        "        out=out_f.view(-1,256)\n",
        "        \n",
        "        out=self.layer(out)\n",
        "        \n",
        "        #print(\"Output size=  \",size)\n",
        "       # print(\"modified= \",out.reshape(-1) )\n",
        "        return out"
      ],
      "execution_count": 0,
      "outputs": []
    },
    {
      "cell_type": "markdown",
      "metadata": {
        "id": "lKaCTe5v9vnu",
        "colab_type": "text"
      },
      "source": [
        "# Initialization"
      ]
    },
    {
      "cell_type": "code",
      "metadata": {
        "colab_type": "code",
        "id": "yUJLes1LIey_",
        "outputId": "f6601cec-860d-42d3-c3ab-e94b7ccda5b8",
        "colab": {
          "base_uri": "https://localhost:8080/",
          "height": 336
        }
      },
      "source": [
        "net=ConvNet()\n",
        "print(net)\n",
        "net = net.to(torch.device(\"cuda\"))\n",
        "\n",
        "mean=mean.to(torch.device(\"cuda\"))\n",
        "\n",
        "std=std.to(torch.device(\"cuda\"))\n",
        "criterion = nn.CrossEntropyLoss()"
      ],
      "execution_count": 229,
      "outputs": [
        {
          "output_type": "stream",
          "text": [
            "ConvNet(\n",
            "  (drop_out): Dropout(p=0.5, inplace=False)\n",
            "  (conv2_f): Conv1d(64, 128, kernel_size=(6,), stride=(1,), padding=(1,))\n",
            "  (conv3_f): Conv1d(128, 128, kernel_size=(6,), stride=(1,), padding=(1,))\n",
            "  (layer1_f): Sequential(\n",
            "    (0): Conv1d(1, 64, kernel_size=(400,), stride=(50,), padding=(1,))\n",
            "    (1): ReLU()\n",
            "    (2): MaxPool1d(kernel_size=4, stride=4, padding=0, dilation=1, ceil_mode=False)\n",
            "  )\n",
            "  (layer2_f): Sequential(\n",
            "    (0): Conv1d(128, 128, kernel_size=(6,), stride=(1,), padding=(1,))\n",
            "    (1): ReLU()\n",
            "    (2): MaxPool1d(kernel_size=2, stride=2, padding=0, dilation=1, ceil_mode=False)\n",
            "  )\n",
            "  (layer): Sequential(\n",
            "    (0): Linear(in_features=256, out_features=5, bias=False)\n",
            "    (1): ReLU()\n",
            "  )\n",
            ")\n"
          ],
          "name": "stdout"
        }
      ]
    },
    {
      "cell_type": "markdown",
      "metadata": {
        "id": "oClgeOrL9vnz",
        "colab_type": "text"
      },
      "source": [
        "# Error generate"
      ]
    },
    {
      "cell_type": "code",
      "metadata": {
        "colab_type": "code",
        "id": "BcK4RlblszdB",
        "colab": {}
      },
      "source": [
        "def get_error(scores,labels):\n",
        "  \n",
        "  batch_size = scores.size(0)\n",
        "  predicted_labels = scores.argmax(dim=1)\n",
        "  indicator = (predicted_labels == labels)\n",
        "  num_matches=indicator.sum()\n",
        "  \n",
        "  return 1-num_matches.float()/batch_size"
      ],
      "execution_count": 0,
      "outputs": []
    },
    {
      "cell_type": "markdown",
      "metadata": {
        "id": "-mrzBY8C9vn2",
        "colab_type": "text"
      },
      "source": [
        "# Test set check"
      ]
    },
    {
      "cell_type": "code",
      "metadata": {
        "colab_type": "code",
        "id": "EEktdwk7AJui",
        "colab": {}
      },
      "source": [
        "def eval_on_test_set(error_axis_test):\n",
        "\n",
        "    running_error=0\n",
        "    num_batches=0\n",
        "\n",
        "    for i in range(0,len(x_test)-batch_size,batch_size):\n",
        "\n",
        "        minibatch_data =  x_test[i:i+batch_size].unsqueeze(dim=1)\n",
        "        minibatch_label= y_test[i:i+batch_size]\n",
        "\n",
        "        minibatch_data=minibatch_data.to(torch.device(\"cuda\"))\n",
        "        minibatch_label=minibatch_label.to(torch.device(\"cuda\"))\n",
        "        \n",
        "        inputs = (minibatch_data - mean)/std  \n",
        "\n",
        "        scores=net( inputs ) \n",
        "\n",
        "        error = get_error( scores , minibatch_label)\n",
        "\n",
        "        running_error += error.item()\n",
        "\n",
        "        num_batches+=1\n",
        "\n",
        "\n",
        "    total_error = running_error/num_batches\n",
        "    error_axis_test.append(total_error*100)\n",
        "    print( 'error rate on test set =', total_error*100 ,'percent')\n",
        "    return error_axis_test"
      ],
      "execution_count": 0,
      "outputs": []
    },
    {
      "cell_type": "markdown",
      "metadata": {
        "id": "ID_cf0Dd9vn5",
        "colab_type": "text"
      },
      "source": [
        "# Training the network"
      ]
    },
    {
      "cell_type": "code",
      "metadata": {
        "colab_type": "code",
        "id": "eql7XYu6__BW",
        "outputId": "f0f3f492-bd8b-485f-87ab-05bc31a40c36",
        "colab": {
          "base_uri": "https://localhost:8080/",
          "height": 470
        }
      },
      "source": [
        "start=time.time()\n",
        "epoch_axis_train=list()\n",
        "error_axis_train=list()\n",
        "\n",
        "error_axis_test=list()\n",
        "epoch_axis_test=list()\n",
        "\n",
        "\n",
        "for epoch in range(1,200):\n",
        "    if epoch%100==0:\n",
        "      learning_rate=learning_rate/2   \n",
        "       \n",
        "    optimizer=torch.optim.SGD( net.parameters() , lr=learning_rate )\n",
        "        \n",
        "    running_loss=0\n",
        "    running_error=0\n",
        "    num_batches=0\n",
        "    \n",
        "    \n",
        "    shuffled_indices=torch.randperm(range_val)\n",
        "    \n",
        " \n",
        "    for count in range(0,range_val,batch_size):\n",
        "        \n",
        "        # FORWARD AND BACKWARD PASS\n",
        "    \n",
        "        optimizer.zero_grad()\n",
        "             \n",
        "        indices=shuffled_indices[count:count+batch_size]\n",
        "        minibatch_data =  x_train[indices].unsqueeze(dim=1)\n",
        "        minibatch_label=  y_train[indices]\n",
        "        \n",
        "        #print(\"minibatch_data= \",minibatch_data.size())\n",
        "        #print(\"minibatch_label= \",minibatch_label.size())\n",
        "        \n",
        "        \n",
        "        minibatch_data=minibatch_data.to(torch.device(\"cuda\"))\n",
        "        minibatch_label=minibatch_label.to(torch.device(\"cuda\"))\n",
        "        \n",
        "        inputs = (minibatch_data - mean)/std      \n",
        "        \n",
        "        inputs.requires_grad_()\n",
        "                \n",
        "        scores=net( inputs ) \n",
        "        #print(\"SCores=\", scores.size())\n",
        "\n",
        "        loss =  criterion( scores , minibatch_label) \n",
        "          \n",
        "        loss.backward()\n",
        "        \n",
        "        optimizer.step()\n",
        "        \n",
        "\n",
        "               \n",
        "        running_loss += loss.detach().item()\n",
        "        \n",
        "        error = get_error( scores.detach() , minibatch_label)\n",
        "        running_error += error.item()\n",
        "          \n",
        "        num_batches+=1        \n",
        "    \n",
        "    \n",
        "    # AVERAGE STATS THEN DISPLAY\n",
        "    total_loss = running_loss/num_batches\n",
        "    total_error = running_error/num_batches\n",
        "    elapsed = (time.time()-start)/60\n",
        "\n",
        "    if epoch%20==0:\n",
        "      print('epoch=',epoch, '\\t time=', elapsed,'min', '\\t learning rate=', learning_rate  ,'\\t loss=', total_loss , '\\t error=', total_error*100 ,'percent')\n",
        "      error_axis_test = eval_on_test_set(error_axis_test)\n",
        "      epoch_axis_test.append(epoch)\n",
        "      print(' ')\n",
        "    \n",
        "    epoch_axis_train.append(epoch)\n",
        "    error_axis_train.append(error*100)"
      ],
      "execution_count": 232,
      "outputs": [
        {
          "output_type": "stream",
          "text": [
            "epoch= 20 \t time= 1.2483797709147135 min \t learning rate= 0.01 \t loss= 0.42460179049521685 \t error= 15.817710374378496 percent\n",
            "error rate on test set = 35.3684221443377 percent\n",
            " \n",
            "epoch= 40 \t time= 2.4960200349489847 min \t learning rate= 0.01 \t loss= 0.26534755544788724 \t error= 9.652779675606224 percent\n",
            "error rate on test set = 32.10526453821282 percent\n",
            " \n",
            "epoch= 60 \t time= 3.7444024682044983 min \t learning rate= 0.01 \t loss= 0.15764541779774138 \t error= 5.395835337953435 percent\n",
            "error rate on test set = 31.736843523226288 percent\n",
            " \n",
            "epoch= 80 \t time= 4.992201002438863 min \t learning rate= 0.01 \t loss= 0.06755649497143976 \t error= 1.8941003622280226 percent\n",
            "error rate on test set = 32.7368438243866 percent\n",
            " \n",
            "epoch= 100 \t time= 6.240560738245646 min \t learning rate= 0.005 \t loss= 0.015435789107464694 \t error= 0.17361192860537106 percent\n",
            "error rate on test set = 31.15789639322381 percent\n",
            " \n",
            "epoch= 120 \t time= 7.488692144552867 min \t learning rate= 0.005 \t loss= 0.00810997554476166 \t error= 0.11284772513641252 percent\n",
            "error rate on test set = 31.105265178178488 percent\n",
            " \n",
            "epoch= 140 \t time= 8.738457238674163 min \t learning rate= 0.005 \t loss= 0.005786658440128021 \t error= 0.10590328731470638 percent\n",
            "error rate on test set = 31.210528235686454 percent\n",
            " \n",
            "epoch= 160 \t time= 9.98706997235616 min \t learning rate= 0.005 \t loss= 0.004620053589153233 \t error= 0.10416716751125124 percent\n",
            "error rate on test set = 31.368422821948407 percent\n",
            " \n",
            "epoch= 180 \t time= 11.235370194911956 min \t learning rate= 0.005 \t loss= 0.003966509926006741 \t error= 0.10416713646716541 percent\n",
            "error rate on test set = 31.368423135657057 percent\n",
            " \n"
          ],
          "name": "stdout"
        }
      ]
    },
    {
      "cell_type": "markdown",
      "metadata": {
        "id": "DuFWprTGJS6w",
        "colab_type": "text"
      },
      "source": [
        "# Training set plots"
      ]
    },
    {
      "cell_type": "code",
      "metadata": {
        "id": "Q-pSXAb-EH8g",
        "colab_type": "code",
        "colab": {
          "base_uri": "https://localhost:8080/",
          "height": 610
        },
        "outputId": "bb03f338-dd8a-4028-f6f5-80f935b474e6"
      },
      "source": [
        "l=list()\n",
        "for i in error_axis_train:\n",
        "  l.append(i.cpu().detach().numpy())\n",
        "\n",
        "mean=np.mean(l)\n",
        "print(\"Mean error on train set=\",mean,\"% \\n\")\n",
        "plt.plot(epoch_axis_train,error_axis_train)\n",
        "plt.title(\"Training set data (Epochs vs Error(%))\")\n",
        "plt.xlabel(\"Number of epochs\")\n",
        "plt.ylabel(\"Error on training set (%)\")\n",
        "plt.show()\n",
        "explode=(0.05,0.05)\n",
        "\n",
        "print(\"\\n\")\n",
        "labels=[\"False prediction\",\"True prediction\"]\n",
        "plt.pie([mean,100-mean],labels=labels,autopct='%1.1f%%',explode=explode)\n",
        "plt.title(\"Pie plot for mean error on train set\")\n",
        "plt.show()"
      ],
      "execution_count": 233,
      "outputs": [
        {
          "output_type": "stream",
          "text": [
            "Mean error on train set= 4.874372 % \n",
            "\n"
          ],
          "name": "stdout"
        },
        {
          "output_type": "display_data",
          "data": {
            "image/png": "[encoded data removed]",
            "text/plain": [
              "<Figure size 432x288 with 1 Axes>"
            ]
          },
          "metadata": {
            "tags": []
          }
        },
        {
          "output_type": "stream",
          "text": [
            "\n",
            "\n"
          ],
          "name": "stdout"
        },
        {
          "output_type": "display_data",
          "data": {
            "image/png": "[encoded data removed]",
            "text/plain": [
              "<Figure size 432x288 with 1 Axes>"
            ]
          },
          "metadata": {
            "tags": []
          }
        }
      ]
    },
    {
      "cell_type": "markdown",
      "metadata": {
        "id": "pFLtkFxtLOYE",
        "colab_type": "text"
      },
      "source": [
        "# Test set plots"
      ]
    },
    {
      "cell_type": "code",
      "metadata": {
        "id": "p9vwdu1HLVWg",
        "colab_type": "code",
        "colab": {
          "base_uri": "https://localhost:8080/",
          "height": 610
        },
        "outputId": "ce3de9d5-0dc8-4653-e92a-5eb2833c52bd"
      },
      "source": [
        "print(\"Mean error on test set=\",np.mean(error_axis_test),\"% \\n\")\n",
        "plt.plot(epoch_axis_test,error_axis_test)\n",
        "plt.title(\"Test set data (Epochs vs Error(%))\")\n",
        "plt.xlabel(\"Number of epochs\")\n",
        "plt.ylabel(\"Error on test set (%)\")\n",
        "plt.show()\n",
        "print(\"\\n\")\n",
        "plt.pie([min(error_axis_test),100-min(error_axis_test)],labels=labels,autopct='%1.1f%%',explode=explode)\n",
        "plt.title(\"Pie plot for min error on test set\")\n",
        "plt.show()"
      ],
      "execution_count": 234,
      "outputs": [
        {
          "output_type": "stream",
          "text": [
            "Mean error on test set= 32.01754553276196 % \n",
            "\n"
          ],
          "name": "stdout"
        },
        {
          "output_type": "display_data",
          "data": {
            "image/png": "[encoded data removed]",
            "text/plain": [
              "<Figure size 432x288 with 1 Axes>"
            ]
          },
          "metadata": {
            "tags": []
          }
        },
        {
          "output_type": "stream",
          "text": [
            "\n",
            "\n"
          ],
          "name": "stdout"
        },
        {
          "output_type": "display_data",
          "data": {
            "image/png": "[encoded data removed]",
            "text/plain": [
              "<Figure size 432x288 with 1 Axes>"
            ]
          },
          "metadata": {
            "tags": []
          }
        }
      ]
    }
  ]
}