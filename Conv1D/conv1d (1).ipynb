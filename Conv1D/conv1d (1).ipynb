{
  "nbformat": 4,
  "nbformat_minor": 0,
  "metadata": {
    "colab": {
      "name": "conv1d.ipynb",
      "provenance": []
    },
    "kernelspec": {
      "name": "python3",
      "display_name": "Python 3"
    },
    "accelerator": "GPU"
  },
  "cells": [
    {
      "cell_type": "code",
      "metadata": {
        "id": "MbOZcEqGN_Xp",
        "colab_type": "code",
        "outputId": "98c1a6d8-75cf-4de3-9ea2-f88eb4a7018f",
        "colab": {
          "base_uri": "https://localhost:8080/",
          "height": 84
        }
      },
      "source": [
        "# For Google Colaboratory\n",
        "import sys, os\n",
        "if 'google.colab' in sys.modules:\n",
        "    from google.colab import drive\n",
        "    drive.mount('/content/gdrive')\n",
        "    file_name = 'conv1d.ipynb'\n",
        "    import subprocess\n",
        "    path_to_file = subprocess.check_output('find . -type f -name ' + str(file_name), shell=True).decode(\"utf-8\")\n",
        "    print(path_to_file)\n",
        "    path_to_file = path_to_file.replace(file_name,\"\").replace('\\n',\"\")\n",
        "    os.chdir(path_to_file)\n",
        "    !pwd4/rwG2zPYz5nLw4oxBo_eyUAEiKbHKef-aAv0iLRHPbfc_HJc1tMyuWYo"
      ],
      "execution_count": 27,
      "outputs": [
        {
          "output_type": "stream",
          "text": [
            "Drive already mounted at /content/gdrive; to attempt to forcibly remount, call drive.mount(\"/content/gdrive\", force_remount=True).\n",
            "./conv1d.ipynb\n",
            "\n",
            "/bin/bash: pwd4/rwG2zPYz5nLw4oxBo_eyUAEiKbHKef-aAv0iLRHPbfc_HJc1tMyuWYo: No such file or directory\n"
          ],
          "name": "stdout"
        }
      ]
    },
    {
      "cell_type": "code",
      "metadata": {
        "id": "pgejNjIVC7sL",
        "colab_type": "code",
        "colab": {}
      },
      "source": [
        "import torch\n",
        "import torch.nn as nn\n",
        "import numpy as np\n",
        "import time\n",
        "import torch.nn.functional as F\n",
        "import random\n",
        "from matplotlib import pyplot as plt"
      ],
      "execution_count": 0,
      "outputs": []
    },
    {
      "cell_type": "code",
      "metadata": {
        "id": "Gh8VhswyHl21",
        "colab_type": "code",
        "outputId": "0f211d67-9aa0-45da-9e03-fdd13636790f",
        "colab": {
          "base_uri": "https://localhost:8080/",
          "height": 50
        }
      },
      "source": [
        "trainer1=np.load(\"trainData__SMOTE_all_10s_f0.npz\",\"rb\")\n",
        "trainer2=np.load(\"trainData__SMOTE_all_10s_f0_TEST.npz\", \"rb\") \n",
        "\n",
        "x_train=torch.from_numpy(trainer1['x'][:50000])\n",
        "y_train=torch.from_numpy(trainer1['y'][:50000])\n",
        "y_train=y_train.long()\n",
        "\n",
        "x_test=torch.from_numpy(trainer1['x'][50000:])\n",
        "y_test=torch.from_numpy(trainer1['y'][50000:])\n",
        "y_test=y_test.long()\n",
        "\n",
        "print(\"Training size= \",y_test.type())\n",
        "print(\"Testing size= \", x_test.size())"
      ],
      "execution_count": 29,
      "outputs": [
        {
          "output_type": "stream",
          "text": [
            "Training size=  torch.LongTensor\n",
            "Testing size=  torch.Size([3430, 3000])\n"
          ],
          "name": "stdout"
        }
      ]
    },
    {
      "cell_type": "code",
      "metadata": {
        "id": "587waHg8CdzW",
        "colab_type": "code",
        "outputId": "707182b9-4f98-46bf-c3e0-ff4264fada7b",
        "colab": {
          "base_uri": "https://localhost:8080/",
          "height": 34
        }
      },
      "source": [
        "std= x_train.std()\n",
        "mean=x_train.mean()\n",
        "\n",
        "print(std,mean,sep=\"  \")"
      ],
      "execution_count": 30,
      "outputs": [
        {
          "output_type": "stream",
          "text": [
            "tensor(0.9725)  tensor(-1.4974e-10)\n"
          ],
          "name": "stdout"
        }
      ]
    },
    {
      "cell_type": "code",
      "metadata": {
        "id": "AnM0JqY4CacW",
        "colab_type": "code",
        "colab": {}
      },
      "source": [
        "batch_size = 100\n",
        "learning_rate = 0.01\n",
        "\n",
        "class ConvNet(nn.Module):\n",
        "    def __init__(self):\n",
        "        super(ConvNet,self).__init__()\n",
        "        \n",
        "        #Pool and activation fn's here \n",
        "        activation=nn.ReLU()       \n",
        "        pool_8 = nn.MaxPool1d(kernel_size=8,stride=8) #Size=8\n",
        "        pool_4 = nn.MaxPool1d(kernel_size=4,stride=4) #Size=4\n",
        "        pool_2 = nn.MaxPool1d(kernel_size=2,stride=2) #Size=2\n",
        "        \n",
        "        #Dropout\n",
        "        self.drop_out = nn.Dropout()\n",
        "        \n",
        "        \n",
        "        #ConvNet time\n",
        "        conv1_t=nn.Conv1d (1, 64, kernel_size=50,stride=6,padding=1)\n",
        "        self.conv2_t=nn.Conv1d(64,128,kernel_size=8,stride=1,padding=1)\n",
        "        self.conv3_t=nn.Conv1d(128,128,kernel_size=8,stride=1,padding=1)\n",
        "        conv4_t=nn.Conv1d(128,128,kernel_size=8,stride=1,padding=1)\n",
        "        \n",
        "        #Layers time\n",
        "        self.layer1_t=nn.Sequential(conv1_t,activation,pool_8)\n",
        "        self.layer2_t=nn.Sequential(conv4_t,activation,pool_4)\n",
        "        \n",
        "        #ConvNet freq\n",
        "        \n",
        "        conv1_f=nn.Conv1d(1,  64,  kernel_size=400, stride=50,padding=1)\n",
        "        self.conv2_f=nn.Conv1d(64, 128, kernel_size=6,   stride=1,padding=1)\n",
        "        self.conv3_f=nn.Conv1d(128,128, kernel_size=6,   stride=1,padding=1)\n",
        "        conv4_f=nn.Conv1d(128,128, kernel_size=6,   stride=1,padding=1)\n",
        "        \n",
        "        \n",
        "        #Layers freq\n",
        "        \n",
        "        self.layer1_f=nn.Sequential(conv1_f, activation, pool_4)\n",
        "        self.layer2_f=nn.Sequential(conv4_f, activation, pool_2)\n",
        "        \n",
        "        self.layer=nn.Sequential(nn.Linear(1664,5,bias=False),activation)\n",
        "        \n",
        "        \n",
        "        \n",
        "        \n",
        "   \n",
        "    def forward(self,x):\n",
        "        \n",
        "        \n",
        "        #Time here\n",
        "        out_t=self.layer1_t(x)\n",
        "        out_t=self.drop_out(out_t)  #DropOut\n",
        "        out_t=self.conv2_t(out_t)\n",
        "        out_t=self.conv3_t(out_t)\n",
        "        out_t=self.layer2_t(out_t)\n",
        "        \n",
        "        #Freq here\n",
        "        \n",
        "        out_f=self.layer1_f(x)\n",
        "        out_f=self.drop_out(out_f)  #DropOut\n",
        "        out_f=self.conv2_f(out_f)\n",
        "        out_f=self.conv3_f(out_f)\n",
        "        out_f=self.layer2_f(out_f)\n",
        "        \n",
        "        out=torch.cat((out_t,out_f),2)  #Concat\n",
        "        out=self.drop_out(out)   #DropOut\n",
        "        out=out.view(-1,1664)\n",
        "        \n",
        "        out=self.layer(out)\n",
        "        \n",
        "        #print(\"Output size=  \",size)\n",
        "       # print(\"modified= \",out.reshape(-1) )\n",
        "        return out"
      ],
      "execution_count": 0,
      "outputs": []
    },
    {
      "cell_type": "code",
      "metadata": {
        "id": "yUJLes1LIey_",
        "colab_type": "code",
        "outputId": "47818eed-05ac-44a5-ec02-abf003c60f0c",
        "colab": {
          "base_uri": "https://localhost:8080/",
          "height": 538
        }
      },
      "source": [
        "net=ConvNet()\n",
        "print(net)\n",
        "net = net.to(torch.device(\"cuda\"))\n",
        "\n",
        "mean=mean.to(torch.device(\"cuda\"))\n",
        "\n",
        "std=std.to(torch.device(\"cuda\"))\n",
        "criterion = nn.CrossEntropyLoss()"
      ],
      "execution_count": 32,
      "outputs": [
        {
          "output_type": "stream",
          "text": [
            "ConvNet(\n",
            "  (drop_out): Dropout(p=0.5, inplace=False)\n",
            "  (conv2_t): Conv1d(64, 128, kernel_size=(8,), stride=(1,), padding=(1,))\n",
            "  (conv3_t): Conv1d(128, 128, kernel_size=(8,), stride=(1,), padding=(1,))\n",
            "  (layer1_t): Sequential(\n",
            "    (0): Conv1d(1, 64, kernel_size=(50,), stride=(6,), padding=(1,))\n",
            "    (1): ReLU()\n",
            "    (2): MaxPool1d(kernel_size=8, stride=8, padding=0, dilation=1, ceil_mode=False)\n",
            "  )\n",
            "  (layer2_t): Sequential(\n",
            "    (0): Conv1d(128, 128, kernel_size=(8,), stride=(1,), padding=(1,))\n",
            "    (1): ReLU()\n",
            "    (2): MaxPool1d(kernel_size=4, stride=4, padding=0, dilation=1, ceil_mode=False)\n",
            "  )\n",
            "  (conv2_f): Conv1d(64, 128, kernel_size=(6,), stride=(1,), padding=(1,))\n",
            "  (conv3_f): Conv1d(128, 128, kernel_size=(6,), stride=(1,), padding=(1,))\n",
            "  (layer1_f): Sequential(\n",
            "    (0): Conv1d(1, 64, kernel_size=(400,), stride=(50,), padding=(1,))\n",
            "    (1): ReLU()\n",
            "    (2): MaxPool1d(kernel_size=4, stride=4, padding=0, dilation=1, ceil_mode=False)\n",
            "  )\n",
            "  (layer2_f): Sequential(\n",
            "    (0): Conv1d(128, 128, kernel_size=(6,), stride=(1,), padding=(1,))\n",
            "    (1): ReLU()\n",
            "    (2): MaxPool1d(kernel_size=2, stride=2, padding=0, dilation=1, ceil_mode=False)\n",
            "  )\n",
            "  (layer): Sequential(\n",
            "    (0): Linear(in_features=1664, out_features=5, bias=False)\n",
            "    (1): ReLU()\n",
            "  )\n",
            ")\n"
          ],
          "name": "stdout"
        }
      ]
    },
    {
      "cell_type": "code",
      "metadata": {
        "id": "BcK4RlblszdB",
        "colab_type": "code",
        "colab": {}
      },
      "source": [
        "def get_error(scores,labels):\n",
        "  \n",
        "  batch_size = scores.size(0)\n",
        "  predicted_labels = scores.argmax(dim=1)\n",
        "  indicator = (predicted_labels == labels)\n",
        "  num_matches=indicator.sum()\n",
        "  \n",
        "  return 1-num_matches.float()/batch_size"
      ],
      "execution_count": 0,
      "outputs": []
    },
    {
      "cell_type": "code",
      "metadata": {
        "id": "EEktdwk7AJui",
        "colab_type": "code",
        "colab": {}
      },
      "source": [
        "def eval_on_test_set():\n",
        "\n",
        "    running_error=0\n",
        "    num_batches=0\n",
        "\n",
        "    for i in range(0,1000,batch_size):\n",
        "\n",
        "        minibatch_data =  x_test[i:i+batch_size].unsqueeze(dim=1)\n",
        "        minibatch_label= y_test[i:i+batch_size]\n",
        "\n",
        "        minibatch_data=minibatch_data.to(torch.device(\"cuda\"))\n",
        "        minibatch_label=minibatch_label.to(torch.device(\"cuda\"))\n",
        "        \n",
        "        inputs = (minibatch_data - mean)/std    # ONLY CHANGE IS HERE!\n",
        "\n",
        "        scores=net( inputs ) \n",
        "\n",
        "        error = get_error( scores , minibatch_label)\n",
        "\n",
        "        running_error += error.item()\n",
        "\n",
        "        num_batches+=1\n",
        "\n",
        "\n",
        "    total_error = running_error/num_batches\n",
        "    print( 'error rate on test set =', total_error*100 ,'percent')"
      ],
      "execution_count": 0,
      "outputs": []
    },
    {
      "cell_type": "code",
      "metadata": {
        "id": "eql7XYu6__BW",
        "colab_type": "code",
        "outputId": "10f09e0f-ca77-4b2c-cb98-b96ac0163d45",
        "colab": {
          "base_uri": "https://localhost:8080/",
          "height": 974
        }
      },
      "source": [
        "start=time.time()\n",
        "epoch_axis=list()\n",
        "error_axis=list()\n",
        "\n",
        "for epoch in range(1,20):\n",
        "    \n",
        "       \n",
        "    optimizer=torch.optim.SGD( net.parameters() , lr=learning_rate )\n",
        "        \n",
        "    running_loss=0\n",
        "    running_error=0\n",
        "    num_batches=0\n",
        "    \n",
        "    shuffled_indices=torch.randperm(40000)\n",
        " \n",
        "    for count in range(0,10000,batch_size):\n",
        "        \n",
        "        # FORWARD AND BACKWARD PASS\n",
        "    \n",
        "        optimizer.zero_grad()\n",
        "             \n",
        "        indices=shuffled_indices[count:count+batch_size]\n",
        "        minibatch_data =  x_train[indices].unsqueeze(dim=1)\n",
        "        minibatch_label=  y_train[indices]\n",
        "        \n",
        "        #print(\"minibatch_data= \",minibatch_data.size())\n",
        "        #print(\"minibatch_label= \",minibatch_label.size())\n",
        "        \n",
        "        \n",
        "        minibatch_data=minibatch_data.to(torch.device(\"cuda\"))\n",
        "        minibatch_label=minibatch_label.to(torch.device(\"cuda\"))\n",
        "        \n",
        "        inputs = (minibatch_data - mean)/std      # ONLY CHANGE IS HERE!\n",
        "        \n",
        "        inputs.requires_grad_()\n",
        "                \n",
        "        scores=net( inputs ) \n",
        "        #print(\"SCores=\", scores.size())\n",
        "\n",
        "        loss =  criterion( scores , minibatch_label) \n",
        "          \n",
        "        loss.backward()\n",
        "        \n",
        "        optimizer.step()\n",
        "        \n",
        "\n",
        "        # COMPUTE STATS\n",
        "        \n",
        "        running_loss += loss.detach().item()\n",
        "        \n",
        "        error = get_error( scores.detach() , minibatch_label)\n",
        "        running_error += error.item()\n",
        "                   \n",
        "        \n",
        "        \n",
        "        \n",
        "        num_batches+=1        \n",
        "    \n",
        "    \n",
        "    # AVERAGE STATS THEN DISPLAY\n",
        "    total_loss = running_loss/num_batches\n",
        "    total_error = running_error/num_batches\n",
        "    elapsed = (time.time()-start)/60\n",
        "    \n",
        "    print('epoch=',epoch, '\\t time=', elapsed,'min', '\\t learning rate=', learning_rate  ,'\\t loss=', total_loss , '\\t error=', total_error*100 ,'percent')\n",
        "    epoch_axis.append(epoch)\n",
        "    error_axis.append(error)\n",
        "    eval_on_test_set() \n",
        "    print(' ')\n",
        "\n",
        "#plt.plot(epoch_axis,error_axis)\n",
        "#plt.show()"
      ],
      "execution_count": 35,
      "outputs": [
        {
          "output_type": "stream",
          "text": [
            "epoch= 1 \t time= 0.037482929229736325 min \t learning rate= 0.01 \t loss= 1.4811753690242768 \t error= 60.200001060962684 percent\n",
            "error rate on test set = 100.0 percent\n",
            " \n",
            "epoch= 2 \t time= 0.07266821066538492 min \t learning rate= 0.01 \t loss= 1.446482824087143 \t error= 59.0900011062622 percent\n",
            "error rate on test set = 100.0 percent\n",
            " \n",
            "epoch= 3 \t time= 0.10795209407806397 min \t learning rate= 0.01 \t loss= 1.3931188082695007 \t error= 54.64000141620636 percent\n",
            "error rate on test set = 100.0 percent\n",
            " \n",
            "epoch= 4 \t time= 0.14305208126703897 min \t learning rate= 0.01 \t loss= 1.3147796523571014 \t error= 51.15000104904175 percent\n",
            "error rate on test set = 98.40000092983246 percent\n",
            " \n",
            "epoch= 5 \t time= 0.17808174689610798 min \t learning rate= 0.01 \t loss= 1.1444898915290833 \t error= 44.76000118255615 percent\n",
            "error rate on test set = 49.20000076293945 percent\n",
            " \n",
            "epoch= 6 \t time= 0.2132912238438924 min \t learning rate= 0.01 \t loss= 1.0298060393333435 \t error= 39.1100013256073 percent\n",
            "error rate on test set = 46.500000953674316 percent\n",
            " \n",
            "epoch= 7 \t time= 0.2482855995496114 min \t learning rate= 0.01 \t loss= 0.9423377704620362 \t error= 36.55000162124634 percent\n",
            "error rate on test set = 14.800001978874205 percent\n",
            " \n",
            "epoch= 8 \t time= 0.2833739201227824 min \t learning rate= 0.01 \t loss= 0.8710287147760392 \t error= 33.77000164985657 percent\n",
            "error rate on test set = 27.30000138282776 percent\n",
            " \n",
            "epoch= 9 \t time= 0.31804622411727906 min \t learning rate= 0.01 \t loss= 0.8175737208127976 \t error= 31.47000157833099 percent\n",
            "error rate on test set = 9.900002479553223 percent\n",
            " \n",
            "epoch= 10 \t time= 0.35305416186650596 min \t learning rate= 0.01 \t loss= 0.757424139380455 \t error= 28.800001800060272 percent\n",
            "error rate on test set = 30.800001621246338 percent\n",
            " \n",
            "epoch= 11 \t time= 0.388216237227122 min \t learning rate= 0.01 \t loss= 0.7454212260246277 \t error= 28.3500018119812 percent\n",
            "error rate on test set = 22.100002765655518 percent\n",
            " \n",
            "epoch= 12 \t time= 0.42336401144663494 min \t learning rate= 0.01 \t loss= 0.7128810399770736 \t error= 27.42000210285187 percent\n",
            "error rate on test set = 13.700002431869507 percent\n",
            " \n",
            "epoch= 13 \t time= 0.45848437945048015 min \t learning rate= 0.01 \t loss= 0.681266056895256 \t error= 25.53000169992447 percent\n",
            "error rate on test set = 10.10000228881836 percent\n",
            " \n",
            "epoch= 14 \t time= 0.49357908964157104 min \t learning rate= 0.01 \t loss= 0.6748124700784683 \t error= 25.570001602172855 percent\n",
            "error rate on test set = 9.800001382827759 percent\n",
            " \n",
            "epoch= 15 \t time= 0.5286999066670736 min \t learning rate= 0.01 \t loss= 0.6484734442830086 \t error= 24.100001990795135 percent\n",
            "error rate on test set = 19.000002145767212 percent\n",
            " \n",
            "epoch= 16 \t time= 0.5640085021654765 min \t learning rate= 0.01 \t loss= 0.6358212518692017 \t error= 23.720002114772797 percent\n",
            "error rate on test set = 12.60000228881836 percent\n",
            " \n",
            "epoch= 17 \t time= 0.5990596890449524 min \t learning rate= 0.01 \t loss= 0.607349475324154 \t error= 22.38000226020813 percent\n",
            "error rate on test set = 16.200002431869507 percent\n",
            " \n",
            "epoch= 18 \t time= 0.6344446420669556 min \t learning rate= 0.01 \t loss= 0.6281795910000801 \t error= 23.54000210762024 percent\n",
            "error rate on test set = 15.700001716613771 percent\n",
            " \n",
            "epoch= 19 \t time= 0.669622019926707 min \t learning rate= 0.01 \t loss= 0.6200922101736068 \t error= 23.240001797676086 percent\n",
            "error rate on test set = 16.20000183582306 percent\n",
            " \n"
          ],
          "name": "stdout"
        }
      ]
    },
    {
      "cell_type": "code",
      "metadata": {
        "id": "ET2XVOoC0bgt",
        "colab_type": "code",
        "outputId": "21e8eeed-2c73-4069-8b3b-92daa18c5c71",
        "colab": {
          "base_uri": "https://localhost:8080/",
          "height": 67
        }
      },
      "source": [
        "#Tester\n",
        "\n",
        "test_no = random.randint(0,1)\n",
        "test_data = x_test[test_no]\n",
        "test_data = test_data.view(1,3000).unsqueeze(dim=1)\n",
        "test_label= y_test[test_no]\n",
        "\n",
        "test_data = test_data.to(torch.device(\"cuda\"))\n",
        "test_data = (test_data-mean)/std\n",
        "\n",
        "#print(test_data.size())\n",
        "scores = net(test_data)\n",
        "#print(scores)\n",
        "prob = F.softmax(scores, dim=1)\n",
        "\n",
        "##index\n",
        "\n",
        "\n",
        "\n",
        "print(test_label)\n",
        "print(prob)\n"
      ],
      "execution_count": 39,
      "outputs": [
        {
          "output_type": "stream",
          "text": [
            "tensor(3)\n",
            "tensor([[0.0191, 0.0043, 0.1092, 0.8613, 0.0062]], device='cuda:0',\n",
            "       grad_fn=<SoftmaxBackward>)\n"
          ],
          "name": "stdout"
        }
      ]
    }
  ]
}