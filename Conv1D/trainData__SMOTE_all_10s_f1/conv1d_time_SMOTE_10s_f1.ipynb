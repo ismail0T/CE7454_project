{
 "cells": [
  {
   "cell_type": "code",
   "execution_count": 0,
   "metadata": {
    "colab": {},
    "colab_type": "code",
    "id": "pgejNjIVC7sL"
   },
   "outputs": [],
   "source": [
    "import torch\n",
    "import torch.nn as nn\n",
    "import numpy as np\n",
    "import time\n",
    "import torch.nn.functional as F\n",
    "import random\n",
    "from matplotlib import pyplot as plt"
   ]
  },
  {
   "cell_type": "markdown",
   "metadata": {
    "colab_type": "text",
    "id": "RDqhiMVd06Qw"
   },
   "source": [
    "# Data loader"
   ]
  },
  {
   "cell_type": "code",
   "execution_count": 68,
   "metadata": {
    "colab": {
     "base_uri": "https://localhost:8080/",
     "height": 101
    },
    "colab_type": "code",
    "id": "Gh8VhswyHl21",
    "outputId": "c5da9218-e3f8-46da-9841-946d98b20344"
   },
   "outputs": [
    {
     "name": "stdout",
     "output_type": "stream",
     "text": [
      "Training data size= \ttorch.Size([55130, 3000])\t\t\tTraining label size= \ttorch.Size([55130])\n",
      "Testing data size= \ttorch.Size([2032, 1, 3000])\t\t\tTesting label size= \ttorch.Size([2032, 1])\n",
      "\n",
      "\n",
      "Reshaped Testing data size= \ttorch.Size([2032, 3000])\t\t\tReshaped Testing label size= \ttorch.Size([2032])\n"
     ]
    }
   ],
   "source": [
    "trainer=np.load(\"trainData__SMOTE_all_10s_f1.npz\",\"rb\")\n",
    "tester=np.load(\"trainData__SMOTE_all_10s_f1_TEST.npz\", \"rb\")\n",
    "\n",
    "x_train=torch.from_numpy(trainer['x'][:])\n",
    "y_train=torch.from_numpy(trainer['y'][:])\n",
    "y_train=y_train.long()\n",
    "\n",
    "x_test=torch.from_numpy(tester['x'][:])\n",
    "y_test=torch.from_numpy(tester['y'][:])\n",
    "y_test=y_test.long()\n",
    "\n",
    "print(\"Training data size= \",x_train.size(), \"\\t\\tTraining label size= \",y_train.size(),sep=\"\\t\")\n",
    "print(\"Testing data size= \", x_test.size(), \"\\t\\tTesting label size= \", y_test.size(),sep=\"\\t\")\n",
    "\n",
    "#REshape x_test and y_test into x_train and y_train dimensions\n",
    "\n",
    "x_test=x_test.view(-1,3000)\n",
    "y_test=y_test.view(-1,)\n",
    "\n",
    "print(\"\\n\\nReshaped Testing data size= \", x_test.size(), \"\\t\\tReshaped Testing label size= \", y_test.size(),sep=\"\\t\")"
   ]
  },
  {
   "cell_type": "code",
   "execution_count": 69,
   "metadata": {
    "colab": {
     "base_uri": "https://localhost:8080/",
     "height": 34
    },
    "colab_type": "code",
    "id": "587waHg8CdzW",
    "outputId": "cea02f35-9d3c-4604-b269-1d736a25ba96"
   },
   "outputs": [
    {
     "name": "stdout",
     "output_type": "stream",
     "text": [
      "tensor(0.9682)  tensor(-1.1859e-09)\n"
     ]
    }
   ],
   "source": [
    "std= x_train.std()\n",
    "mean=x_train.mean()\n",
    "batch_size = 100\n",
    "learning_rate = 0.01\n",
    "range_val=len(x_train)-batch_size\n",
    "\n",
    "print(std,mean,sep=\"  \")"
   ]
  },
  {
   "cell_type": "markdown",
   "metadata": {
    "colab_type": "text",
    "id": "zZ29RSUt06Q3"
   },
   "source": [
    "# Architecture"
   ]
  },
  {
   "cell_type": "code",
   "execution_count": 0,
   "metadata": {
    "colab": {},
    "colab_type": "code",
    "id": "AnM0JqY4CacW"
   },
   "outputs": [],
   "source": [
    "class ConvNet(nn.Module):\n",
    "    def __init__(self):\n",
    "        super(ConvNet,self).__init__()\n",
    "        \n",
    "        #Pool and activation fn's here \n",
    "        activation=nn.ReLU()       \n",
    "        pool_8 = nn.MaxPool1d(kernel_size=8,stride=8) #Size=8\n",
    "        pool_4 = nn.MaxPool1d(kernel_size=4,stride=4) #Size=4\n",
    "        pool_2 = nn.MaxPool1d(kernel_size=2,stride=2) #Size=2\n",
    "        \n",
    "        #Dropout\n",
    "        self.drop_out = nn.Dropout()\n",
    "        \n",
    "        \n",
    "        #ConvNet time\n",
    "        conv1_t=nn.Conv1d (1, 64, kernel_size=50,stride=6,padding=1)\n",
    "        self.conv2_t=nn.Conv1d(64,128,kernel_size=8,stride=1,padding=1)\n",
    "        self.conv3_t=nn.Conv1d(128,128,kernel_size=8,stride=1,padding=1)\n",
    "        conv4_t=nn.Conv1d(128,128,kernel_size=8,stride=1,padding=1)\n",
    "        \n",
    "        #Layers time\n",
    "        self.layer1_t=nn.Sequential(conv1_t,activation,pool_8)\n",
    "        self.layer2_t=nn.Sequential(conv4_t,activation,pool_4)      \n",
    "        \n",
    "        \n",
    "        self.layer=nn.Sequential(nn.Linear(1408,5,bias=False),activation)\n",
    "        \n",
    "        \n",
    "    def forward(self,x):\n",
    "        \n",
    "        \n",
    "        #Time here\n",
    "        out_t=self.layer1_t(x)\n",
    "        out_t=self.drop_out(out_t)  #DropOut\n",
    "        out_t=self.conv2_t(out_t)\n",
    "        out_t=self.conv3_t(out_t)\n",
    "        out_t=self.layer2_t(out_t)\n",
    "        out=out_t.view(-1,1408)\n",
    "        \n",
    "        \n",
    "        out=self.layer(out)\n",
    "        \n",
    "        return out"
   ]
  },
  {
   "cell_type": "markdown",
   "metadata": {
    "colab_type": "text",
    "id": "Ge6YZGW806Q7"
   },
   "source": [
    "# Initialization"
   ]
  },
  {
   "cell_type": "code",
   "execution_count": 71,
   "metadata": {
    "colab": {
     "base_uri": "https://localhost:8080/",
     "height": 336
    },
    "colab_type": "code",
    "id": "yUJLes1LIey_",
    "outputId": "1549b2c1-a421-49e4-e4c7-07059a27abe5"
   },
   "outputs": [
    {
     "name": "stdout",
     "output_type": "stream",
     "text": [
      "ConvNet(\n",
      "  (drop_out): Dropout(p=0.5, inplace=False)\n",
      "  (conv2_t): Conv1d(64, 128, kernel_size=(8,), stride=(1,), padding=(1,))\n",
      "  (conv3_t): Conv1d(128, 128, kernel_size=(8,), stride=(1,), padding=(1,))\n",
      "  (layer1_t): Sequential(\n",
      "    (0): Conv1d(1, 64, kernel_size=(50,), stride=(6,), padding=(1,))\n",
      "    (1): ReLU()\n",
      "    (2): MaxPool1d(kernel_size=8, stride=8, padding=0, dilation=1, ceil_mode=False)\n",
      "  )\n",
      "  (layer2_t): Sequential(\n",
      "    (0): Conv1d(128, 128, kernel_size=(8,), stride=(1,), padding=(1,))\n",
      "    (1): ReLU()\n",
      "    (2): MaxPool1d(kernel_size=4, stride=4, padding=0, dilation=1, ceil_mode=False)\n",
      "  )\n",
      "  (layer): Sequential(\n",
      "    (0): Linear(in_features=1408, out_features=5, bias=False)\n",
      "    (1): ReLU()\n",
      "  )\n",
      ")\n"
     ]
    }
   ],
   "source": [
    "net=ConvNet()\n",
    "print(net)\n",
    "net = net.to(torch.device(\"cuda\"))\n",
    "\n",
    "mean=mean.to(torch.device(\"cuda\"))\n",
    "\n",
    "std=std.to(torch.device(\"cuda\"))\n",
    "criterion = nn.CrossEntropyLoss()"
   ]
  },
  {
   "cell_type": "markdown",
   "metadata": {
    "colab_type": "text",
    "id": "zRXQ7dnq06RA"
   },
   "source": [
    "# Error generate"
   ]
  },
  {
   "cell_type": "code",
   "execution_count": 0,
   "metadata": {
    "colab": {},
    "colab_type": "code",
    "id": "BcK4RlblszdB"
   },
   "outputs": [],
   "source": [
    "def get_error(scores,labels):\n",
    "  \n",
    "  batch_size = scores.size(0)\n",
    "  predicted_labels = scores.argmax(dim=1)\n",
    "  indicator = (predicted_labels == labels)\n",
    "  num_matches=indicator.sum()\n",
    "  \n",
    "  return 1-num_matches.float()/batch_size"
   ]
  },
  {
   "cell_type": "markdown",
   "metadata": {
    "colab_type": "text",
    "id": "0dahsTDC06RE"
   },
   "source": [
    "# Test set check"
   ]
  },
  {
   "cell_type": "code",
   "execution_count": 0,
   "metadata": {
    "colab": {},
    "colab_type": "code",
    "id": "EEktdwk7AJui"
   },
   "outputs": [],
   "source": [
    "def eval_on_test_set(error_axis_test):\n",
    "\n",
    "    running_error=0\n",
    "    num_batches=0\n",
    "\n",
    "    for i in range(0,len(x_test)-batch_size,batch_size):\n",
    "\n",
    "        minibatch_data =  x_test[i:i+batch_size].unsqueeze(dim=1)\n",
    "        minibatch_label= y_test[i:i+batch_size]\n",
    "\n",
    "        minibatch_data=minibatch_data.to(torch.device(\"cuda\"))\n",
    "        minibatch_label=minibatch_label.to(torch.device(\"cuda\"))\n",
    "        \n",
    "        inputs = (minibatch_data - mean)/std  \n",
    "\n",
    "        scores=net( inputs ) \n",
    "\n",
    "        error = get_error( scores , minibatch_label)\n",
    "\n",
    "        running_error += error.item()\n",
    "\n",
    "        num_batches+=1\n",
    "\n",
    "\n",
    "    total_error = running_error/num_batches\n",
    "    error_axis_test.append(total_error*100)\n",
    "    print( 'error rate on test set =', total_error*100 ,'percent')\n",
    "    return error_axis_test"
   ]
  },
  {
   "cell_type": "markdown",
   "metadata": {
    "colab_type": "text",
    "id": "LtrxBqVl06RI"
   },
   "source": [
    "# Training the network"
   ]
  },
  {
   "cell_type": "code",
   "execution_count": 74,
   "metadata": {
    "colab": {
     "base_uri": "https://localhost:8080/",
     "height": 470
    },
    "colab_type": "code",
    "id": "eql7XYu6__BW",
    "outputId": "1252e2db-e45d-4ac0-94a9-658043b440b6"
   },
   "outputs": [
    {
     "name": "stdout",
     "output_type": "stream",
     "text": [
      "epoch= 20 \t time= 3.617498262723287 min \t learning rate= 0.01 \t loss= 0.47125679946854415 \t error= 17.866305831123395 percent\n",
      "error rate on test set = 44.650000631809235 percent\n",
      " \n",
      "epoch= 40 \t time= 7.232707941532135 min \t learning rate= 0.01 \t loss= 0.39491812844241814 \t error= 14.880824705650067 percent\n",
      "error rate on test set = 42.100000977516174 percent\n",
      " \n",
      "epoch= 60 \t time= 10.845580756664276 min \t learning rate= 0.01 \t loss= 0.3375357852711219 \t error= 12.629161166625533 percent\n",
      "error rate on test set = 38.950001299381256 percent\n",
      " \n",
      "epoch= 80 \t time= 14.458037281036377 min \t learning rate= 0.01 \t loss= 0.2965978023793866 \t error= 10.981248046006135 percent\n",
      "error rate on test set = 38.60000163316727 percent\n",
      " \n",
      "epoch= 100 \t time= 18.070631412665048 min \t learning rate= 0.005 \t loss= 0.2498770455970089 \t error= 9.135513102294313 percent\n",
      "error rate on test set = 37.90000140666962 percent\n",
      " \n",
      "epoch= 120 \t time= 21.680888696511587 min \t learning rate= 0.005 \t loss= 0.23277195901381775 \t error= 8.596492971136435 percent\n",
      "error rate on test set = 39.05000060796738 percent\n",
      " \n",
      "epoch= 140 \t time= 25.288259331385294 min \t learning rate= 0.005 \t loss= 0.2208765367630822 \t error= 8.267999279520689 percent\n",
      "error rate on test set = 40.50000160932541 percent\n",
      " \n",
      "epoch= 160 \t time= 28.899056446552276 min \t learning rate= 0.005 \t loss= 0.20790208858554463 \t error= 7.56987478252764 percent\n",
      "error rate on test set = 39.05000180006027 percent\n",
      " \n",
      "epoch= 180 \t time= 32.50976535876592 min \t learning rate= 0.005 \t loss= 0.2005674167859035 \t error= 7.318211023690696 percent\n",
      "error rate on test set = 38.25000077486038 percent\n",
      " \n"
     ]
    }
   ],
   "source": [
    "start=time.time()\n",
    "epoch_axis_train=list()\n",
    "error_axis_train=list()\n",
    "\n",
    "error_axis_test=list()\n",
    "epoch_axis_test=list()\n",
    "\n",
    "\n",
    "for epoch in range(1,200):\n",
    "    if epoch%100==0:\n",
    "      learning_rate=learning_rate/2\n",
    "    \n",
    "       \n",
    "    optimizer=torch.optim.SGD( net.parameters() , lr=learning_rate )\n",
    "        \n",
    "    running_loss=0\n",
    "    running_error=0\n",
    "    num_batches=0\n",
    "    \n",
    "    shuffled_indices=torch.randperm(range_val)\n",
    " \n",
    "    for count in range(0,range_val,batch_size):\n",
    "        \n",
    "        # FORWARD AND BACKWARD PASS\n",
    "    \n",
    "        optimizer.zero_grad()\n",
    "             \n",
    "        indices=shuffled_indices[count:count+batch_size]\n",
    "        minibatch_data =  x_train[indices].unsqueeze(dim=1)\n",
    "        minibatch_label=  y_train[indices]\n",
    "        \n",
    "        #print(\"minibatch_data= \",minibatch_data.size())\n",
    "        #print(\"minibatch_label= \",minibatch_label.size())\n",
    "        \n",
    "        \n",
    "        minibatch_data=minibatch_data.to(torch.device(\"cuda\"))\n",
    "        minibatch_label=minibatch_label.to(torch.device(\"cuda\"))\n",
    "        \n",
    "        inputs = (minibatch_data - mean)/std      \n",
    "        \n",
    "        inputs.requires_grad_()\n",
    "                \n",
    "        scores=net( inputs ) \n",
    "        #print(\"SCores=\", scores.size())\n",
    "\n",
    "        loss =  criterion( scores , minibatch_label) \n",
    "          \n",
    "        loss.backward()\n",
    "        \n",
    "        optimizer.step()\n",
    "\n",
    "        running_loss += loss.detach().item()\n",
    "        \n",
    "        error = get_error( scores.detach() , minibatch_label)\n",
    "        running_error += error.item()\n",
    "          \n",
    "        num_batches+=1        \n",
    "    \n",
    "    \n",
    "    # AVERAGE STATS THEN DISPLAY\n",
    "    total_loss = running_loss/num_batches\n",
    "    total_error = running_error/num_batches\n",
    "    elapsed = (time.time()-start)/60\n",
    "    \n",
    "    if epoch%20==0:\n",
    "      print('epoch=',epoch, '\\t time=', elapsed,'min', '\\t learning rate=', learning_rate  ,'\\t loss=', total_loss , '\\t error=', total_error*100 ,'percent')\n",
    "      error_axis_test = eval_on_test_set(error_axis_test)\n",
    "      epoch_axis_test.append(epoch)\n",
    "      print(' ')\n",
    "\n",
    "    epoch_axis_train.append(epoch)\n",
    "    error_axis_train.append(error*100)\n",
    "      \n",
    "    "
   ]
  },
  {
   "cell_type": "markdown",
   "metadata": {
    "colab_type": "text",
    "id": "lWdSVdmfJH-N"
   },
   "source": [
    "# Training set plots"
   ]
  },
  {
   "cell_type": "code",
   "execution_count": 75,
   "metadata": {
    "colab": {
     "base_uri": "https://localhost:8080/",
     "height": 610
    },
    "colab_type": "code",
    "id": "WBEechis86zb",
    "outputId": "7b02d648-6225-48b3-e90f-db265fa0e503"
   },
   "outputs": [
    {
     "name": "stdout",
     "output_type": "stream",
     "text": [
      "Mean error on train set= 11.507533 % \n",
      "\n"
     ]
    },
    {
     "data": {
      "image/png": "[encoded data removed]",
      "text/plain": [
       "<Figure size 432x288 with 1 Axes>"
      ]
     },
     "metadata": {
      "tags": []
     },
     "output_type": "display_data"
    },
    {
     "name": "stdout",
     "output_type": "stream",
     "text": [
      "\n",
      "\n"
     ]
    },
    {
     "data": {
      "image/png": "[encoded data removed]",
      "text/plain": [
       "<Figure size 432x288 with 1 Axes>"
      ]
     },
     "metadata": {
      "tags": []
     },
     "output_type": "display_data"
    }
   ],
   "source": [
    "l=list()\n",
    "for i in error_axis_train:\n",
    "  l.append(i.cpu().detach().numpy())\n",
    "\n",
    "mean=np.mean(l)\n",
    "print(\"Mean error on train set=\",mean,\"% \\n\")\n",
    "plt.plot(epoch_axis_train,error_axis_train)\n",
    "plt.title(\"Training set data (Epochs vs Error(%))\")\n",
    "plt.xlabel(\"Number of epochs\")\n",
    "plt.ylabel(\"Error on training set (%)\")\n",
    "plt.show()\n",
    "explode=(0.05,0.05)\n",
    "\n",
    "print(\"\\n\")\n",
    "labels=[\"False prediction\",\"True prediction\"]\n",
    "plt.pie([mean,100-mean],labels=labels,autopct='%1.1f%%',explode=explode)\n",
    "plt.title(\"Pie plot for mean error on train set\")\n",
    "plt.show()"
   ]
  },
  {
   "cell_type": "markdown",
   "metadata": {
    "colab_type": "text",
    "id": "T7MTdFJULqg4"
   },
   "source": [
    "# Test set plots"
   ]
  },
  {
   "cell_type": "code",
   "execution_count": 76,
   "metadata": {
    "colab": {
     "base_uri": "https://localhost:8080/",
     "height": 610
    },
    "colab_type": "code",
    "id": "EAkWJ7xdLu5H",
    "outputId": "16111fdd-0524-4292-c45b-c6cf20192b33"
   },
   "outputs": [
    {
     "name": "stdout",
     "output_type": "stream",
     "text": [
      "Mean error on test set= 39.894445637861885 % \n",
      "\n"
     ]
    },
    {
     "data": {
      "image/png": "[encoded data removed]",
      "text/plain": [
       "<Figure size 432x288 with 1 Axes>"
      ]
     },
     "metadata": {
      "tags": []
     },
     "output_type": "display_data"
    },
    {
     "name": "stdout",
     "output_type": "stream",
     "text": [
      "\n",
      "\n"
     ]
    },
    {
     "data": {
      "image/png": "[encoded data removed]",
      "text/plain": [
       "<Figure size 432x288 with 1 Axes>"
      ]
     },
     "metadata": {
      "tags": []
     },
     "output_type": "display_data"
    }
   ],
   "source": [
    "print(\"Mean error on test set=\",np.mean(error_axis_test),\"% \\n\")\n",
    "plt.plot(epoch_axis_test,error_axis_test)\n",
    "plt.title(\"Test set data (Epochs vs Error(%))\")\n",
    "plt.xlabel(\"Number of epochs\")\n",
    "plt.ylabel(\"Error on test set (%)\")\n",
    "plt.show()\n",
    "print(\"\\n\")\n",
    "plt.pie([min(error_axis_test),100-min(error_axis_test)],labels=labels,autopct='%1.1f%%',explode=explode)\n",
    "plt.title(\"Pie plot for min error on test set\")\n",
    "plt.show()"
   ]
  }
 ],
 "metadata": {
  "accelerator": "GPU",
  "colab": {
   "name": "conv1d_time_SMOTE_10s_f1.ipynb",
   "provenance": []
  },
  "kernelspec": {
   "display_name": "Python 3",
   "language": "python",
   "name": "python3"
  },
  "language_info": {
   "codemirror_mode": {
    "name": "ipython",
    "version": 3
   },
   "file_extension": ".py",
   "mimetype": "text/x-python",
   "name": "python",
   "nbconvert_exporter": "python",
   "pygments_lexer": "ipython3",
   "version": "3.7.3"
  }
 },
 "nbformat": 4,
 "nbformat_minor": 1
}
